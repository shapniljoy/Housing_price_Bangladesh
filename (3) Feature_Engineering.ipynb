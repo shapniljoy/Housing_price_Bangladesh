{
 "cells": [
  {
   "cell_type": "code",
   "execution_count": 17,
   "id": "124fb756",
   "metadata": {},
   "outputs": [],
   "source": [
    "import pandas as pd\n",
    "import numpy as np\n",
    "pd.set_option('display.max_columns', None)\n",
    "pd.set_option('display.max_rows', None)\n",
    "pd.set_option('display.max_colwidth', None)"
   ]
  },
  {
   "cell_type": "code",
   "execution_count": 18,
   "id": "2865580e",
   "metadata": {},
   "outputs": [],
   "source": [
    "df = pd.read_csv('house_price_cleaned.csv')"
   ]
  },
  {
   "cell_type": "markdown",
   "id": "dab26e8b",
   "metadata": {},
   "source": [
    "Creating new boolean features that contains specific words   \n",
    "for commercial space otherwise residential space  "
   ]
  },
  {
   "cell_type": "code",
   "execution_count": 19,
   "id": "c21985e0",
   "metadata": {},
   "outputs": [],
   "source": [
    "df['is_commercial'] = df['Title'].str.contains('office|shop|commercial',case=False,na=False).astype(float)"
   ]
  },
  {
   "cell_type": "code",
   "execution_count": 20,
   "id": "fbec52ec",
   "metadata": {},
   "outputs": [
    {
     "data": {
      "text/plain": [
       "is_commercial\n",
       "0.0    3408\n",
       "1.0     437\n",
       "Name: count, dtype: int64"
      ]
     },
     "execution_count": 20,
     "metadata": {},
     "output_type": "execute_result"
    }
   ],
   "source": [
    "df['is_commercial'].value_counts()"
   ]
  },
  {
   "cell_type": "code",
   "execution_count": 21,
   "id": "bb702e24",
   "metadata": {},
   "outputs": [],
   "source": [
    "df['is_residential'] = df['is_commercial'] == 0"
   ]
  },
  {
   "cell_type": "code",
   "execution_count": 22,
   "id": "03d88809",
   "metadata": {},
   "outputs": [],
   "source": [
    "df['is_residential'] = df['is_residential'].astype(float)"
   ]
  },
  {
   "cell_type": "code",
   "execution_count": 23,
   "id": "76f461e4",
   "metadata": {},
   "outputs": [],
   "source": [
    "df = df[~df['Title'].str.contains('plot|building',case=False,na=False)]"
   ]
  },
  {
   "cell_type": "markdown",
   "id": "51875e27",
   "metadata": {},
   "source": [
    "# New Column \n",
    "## price per sqft"
   ]
  },
  {
   "cell_type": "code",
   "execution_count": 24,
   "id": "d916f765",
   "metadata": {},
   "outputs": [],
   "source": [
    "df['Price_per_sqft'] = ((df['Price_in_Cr']*10000000)/df['Floor_area']).round(2)"
   ]
  },
  {
   "cell_type": "code",
   "execution_count": 25,
   "id": "8c91cc29",
   "metadata": {},
   "outputs": [
    {
     "data": {
      "text/plain": [
       "Floor_no\n",
       "1.0     523\n",
       "4.0     412\n",
       "5.0     401\n",
       "2.0     396\n",
       "3.0     366\n",
       "6.0     313\n",
       "7.0     252\n",
       "8.0     228\n",
       "9.0     167\n",
       "10.0     30\n",
       "11.0     26\n",
       "12.0     19\n",
       "13.0      8\n",
       "Name: count, dtype: int64"
      ]
     },
     "execution_count": 25,
     "metadata": {},
     "output_type": "execute_result"
    }
   ],
   "source": [
    "df['Floor_no'].value_counts()"
   ]
  },
  {
   "cell_type": "code",
   "execution_count": 26,
   "id": "36bbe252",
   "metadata": {},
   "outputs": [],
   "source": [
    "df['floor_level'] = pd.cut(df['Floor_no'],bins=[0,3,8,13],labels=['low','medium','high'])"
   ]
  },
  {
   "cell_type": "code",
   "execution_count": 27,
   "id": "765d7739",
   "metadata": {},
   "outputs": [
    {
     "data": {
      "text/plain": [
       "floor_level\n",
       "medium    1606\n",
       "low       1285\n",
       "high       250\n",
       "Name: count, dtype: int64"
      ]
     },
     "execution_count": 27,
     "metadata": {},
     "output_type": "execute_result"
    }
   ],
   "source": [
    "df['floor_level'].value_counts()"
   ]
  },
  {
   "cell_type": "code",
   "execution_count": 28,
   "id": "6e012dea",
   "metadata": {},
   "outputs": [
    {
     "data": {
      "text/plain": [
       "Index(['Title', 'Bedrooms', 'Bathrooms', 'Floor_no', 'Occupancy_status',\n",
       "       'Floor_area', 'City', 'Location', 'location_area', 'Price_in_Cr',\n",
       "       'is_commercial', 'is_residential', 'Price_per_sqft', 'floor_level'],\n",
       "      dtype='object')"
      ]
     },
     "execution_count": 28,
     "metadata": {},
     "output_type": "execute_result"
    }
   ],
   "source": [
    "df.columns"
   ]
  },
  {
   "cell_type": "code",
   "execution_count": 29,
   "id": "9c6cc031",
   "metadata": {},
   "outputs": [],
   "source": [
    "df.to_csv('feature_engineered.csv',index=False)"
   ]
  }
 ],
 "metadata": {
  "kernelspec": {
   "display_name": "Python 3",
   "language": "python",
   "name": "python3"
  },
  "language_info": {
   "codemirror_mode": {
    "name": "ipython",
    "version": 3
   },
   "file_extension": ".py",
   "mimetype": "text/x-python",
   "name": "python",
   "nbconvert_exporter": "python",
   "pygments_lexer": "ipython3",
   "version": "3.13.1"
  }
 },
 "nbformat": 4,
 "nbformat_minor": 5
}
