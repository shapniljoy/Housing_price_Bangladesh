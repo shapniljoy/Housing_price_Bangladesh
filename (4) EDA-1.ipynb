{
 "cells": [
  {
   "cell_type": "code",
   "execution_count": 2,
   "id": "c1884a1b",
   "metadata": {},
   "outputs": [],
   "source": [
    "import pandas as pd\n",
    "import numpy as np\n",
    "import matplotlib.pyplot as plt\n",
    "import seaborn as sns\n",
    "import plotly.express as px"
   ]
  },
  {
   "cell_type": "code",
   "execution_count": 3,
   "id": "c0448a82",
   "metadata": {},
   "outputs": [],
   "source": [
    "df = pd.read_csv('feature_engineered.csv')"
   ]
  },
  {
   "cell_type": "markdown",
   "id": "e3e4879b",
   "metadata": {},
   "source": [
    "# Univariate Analysis"
   ]
  },
  {
   "cell_type": "markdown",
   "id": "ed3aa28b",
   "metadata": {},
   "source": [
    "## Bedrooms\n",
    "\n",
    "(1) There are 993 missing values  \n",
    "(2) Almost 75% of flat has 3 bedrooms\n"
   ]
  },
  {
   "cell_type": "code",
   "execution_count": 4,
   "id": "71b6eee7",
   "metadata": {},
   "outputs": [
    {
     "data": {
      "text/plain": [
       "np.int64(993)"
      ]
     },
     "execution_count": 4,
     "metadata": {},
     "output_type": "execute_result"
    }
   ],
   "source": [
    "df['Bedrooms'].isnull().sum()"
   ]
  },
  {
   "cell_type": "code",
   "execution_count": 5,
   "id": "5a5f4560",
   "metadata": {},
   "outputs": [
    {
     "data": {
      "application/vnd.plotly.v1+json": {
       "config": {
        "plotlyServerURL": "https://plot.ly"
       },
       "data": [
        {
         "domain": {
          "x": [
           0,
           1
          ],
          "y": [
           0,
           1
          ]
         },
         "hole": 0.2,
         "hovertemplate": "label=%{label}<br>count=%{value}<extra></extra>",
         "labels": {
          "bdata": "AAAAAAAACEAAAAAAAAAAQAAAAAAAABBAAAAAAAAAHEAAAAAAAAAwQAAAAAAAABRAAAAAAAAAIEAAAAAAAADwPwAAAAAAABhAAAAAAAAAMkAAAAAAAIBAQAAAAAAAADZAAAAAAAAASUAAAAAAAAA3QAAAAAAAADVAAAAAAAAAKkAAAAAAAAA0QAAAAAAAADtAAAAAAAAALkA=",
          "dtype": "f8"
         },
         "legendgroup": "",
         "name": "",
         "showlegend": true,
         "type": "pie",
         "values": {
          "bdata": "iAiVAdsACAAFAAUABAADAAMAAgACAAIAAgACAAIAAQABAAEAAQA=",
          "dtype": "i2"
         }
        }
       ],
       "layout": {
        "height": 500,
        "legend": {
         "tracegroupgap": 0
        },
        "margin": {
         "t": 60
        },
        "template": {
         "data": {
          "bar": [
           {
            "error_x": {
             "color": "#2a3f5f"
            },
            "error_y": {
             "color": "#2a3f5f"
            },
            "marker": {
             "line": {
              "color": "#E5ECF6",
              "width": 0.5
             },
             "pattern": {
              "fillmode": "overlay",
              "size": 10,
              "solidity": 0.2
             }
            },
            "type": "bar"
           }
          ],
          "barpolar": [
           {
            "marker": {
             "line": {
              "color": "#E5ECF6",
              "width": 0.5
             },
             "pattern": {
              "fillmode": "overlay",
              "size": 10,
              "solidity": 0.2
             }
            },
            "type": "barpolar"
           }
          ],
          "carpet": [
           {
            "aaxis": {
             "endlinecolor": "#2a3f5f",
             "gridcolor": "white",
             "linecolor": "white",
             "minorgridcolor": "white",
             "startlinecolor": "#2a3f5f"
            },
            "baxis": {
             "endlinecolor": "#2a3f5f",
             "gridcolor": "white",
             "linecolor": "white",
             "minorgridcolor": "white",
             "startlinecolor": "#2a3f5f"
            },
            "type": "carpet"
           }
          ],
          "choropleth": [
           {
            "colorbar": {
             "outlinewidth": 0,
             "ticks": ""
            },
            "type": "choropleth"
           }
          ],
          "contour": [
           {
            "colorbar": {
             "outlinewidth": 0,
             "ticks": ""
            },
            "colorscale": [
             [
              0,
              "#0d0887"
             ],
             [
              0.1111111111111111,
              "#46039f"
             ],
             [
              0.2222222222222222,
              "#7201a8"
             ],
             [
              0.3333333333333333,
              "#9c179e"
             ],
             [
              0.4444444444444444,
              "#bd3786"
             ],
             [
              0.5555555555555556,
              "#d8576b"
             ],
             [
              0.6666666666666666,
              "#ed7953"
             ],
             [
              0.7777777777777778,
              "#fb9f3a"
             ],
             [
              0.8888888888888888,
              "#fdca26"
             ],
             [
              1,
              "#f0f921"
             ]
            ],
            "type": "contour"
           }
          ],
          "contourcarpet": [
           {
            "colorbar": {
             "outlinewidth": 0,
             "ticks": ""
            },
            "type": "contourcarpet"
           }
          ],
          "heatmap": [
           {
            "colorbar": {
             "outlinewidth": 0,
             "ticks": ""
            },
            "colorscale": [
             [
              0,
              "#0d0887"
             ],
             [
              0.1111111111111111,
              "#46039f"
             ],
             [
              0.2222222222222222,
              "#7201a8"
             ],
             [
              0.3333333333333333,
              "#9c179e"
             ],
             [
              0.4444444444444444,
              "#bd3786"
             ],
             [
              0.5555555555555556,
              "#d8576b"
             ],
             [
              0.6666666666666666,
              "#ed7953"
             ],
             [
              0.7777777777777778,
              "#fb9f3a"
             ],
             [
              0.8888888888888888,
              "#fdca26"
             ],
             [
              1,
              "#f0f921"
             ]
            ],
            "type": "heatmap"
           }
          ],
          "histogram": [
           {
            "marker": {
             "pattern": {
              "fillmode": "overlay",
              "size": 10,
              "solidity": 0.2
             }
            },
            "type": "histogram"
           }
          ],
          "histogram2d": [
           {
            "colorbar": {
             "outlinewidth": 0,
             "ticks": ""
            },
            "colorscale": [
             [
              0,
              "#0d0887"
             ],
             [
              0.1111111111111111,
              "#46039f"
             ],
             [
              0.2222222222222222,
              "#7201a8"
             ],
             [
              0.3333333333333333,
              "#9c179e"
             ],
             [
              0.4444444444444444,
              "#bd3786"
             ],
             [
              0.5555555555555556,
              "#d8576b"
             ],
             [
              0.6666666666666666,
              "#ed7953"
             ],
             [
              0.7777777777777778,
              "#fb9f3a"
             ],
             [
              0.8888888888888888,
              "#fdca26"
             ],
             [
              1,
              "#f0f921"
             ]
            ],
            "type": "histogram2d"
           }
          ],
          "histogram2dcontour": [
           {
            "colorbar": {
             "outlinewidth": 0,
             "ticks": ""
            },
            "colorscale": [
             [
              0,
              "#0d0887"
             ],
             [
              0.1111111111111111,
              "#46039f"
             ],
             [
              0.2222222222222222,
              "#7201a8"
             ],
             [
              0.3333333333333333,
              "#9c179e"
             ],
             [
              0.4444444444444444,
              "#bd3786"
             ],
             [
              0.5555555555555556,
              "#d8576b"
             ],
             [
              0.6666666666666666,
              "#ed7953"
             ],
             [
              0.7777777777777778,
              "#fb9f3a"
             ],
             [
              0.8888888888888888,
              "#fdca26"
             ],
             [
              1,
              "#f0f921"
             ]
            ],
            "type": "histogram2dcontour"
           }
          ],
          "mesh3d": [
           {
            "colorbar": {
             "outlinewidth": 0,
             "ticks": ""
            },
            "type": "mesh3d"
           }
          ],
          "parcoords": [
           {
            "line": {
             "colorbar": {
              "outlinewidth": 0,
              "ticks": ""
             }
            },
            "type": "parcoords"
           }
          ],
          "pie": [
           {
            "automargin": true,
            "type": "pie"
           }
          ],
          "scatter": [
           {
            "fillpattern": {
             "fillmode": "overlay",
             "size": 10,
             "solidity": 0.2
            },
            "type": "scatter"
           }
          ],
          "scatter3d": [
           {
            "line": {
             "colorbar": {
              "outlinewidth": 0,
              "ticks": ""
             }
            },
            "marker": {
             "colorbar": {
              "outlinewidth": 0,
              "ticks": ""
             }
            },
            "type": "scatter3d"
           }
          ],
          "scattercarpet": [
           {
            "marker": {
             "colorbar": {
              "outlinewidth": 0,
              "ticks": ""
             }
            },
            "type": "scattercarpet"
           }
          ],
          "scattergeo": [
           {
            "marker": {
             "colorbar": {
              "outlinewidth": 0,
              "ticks": ""
             }
            },
            "type": "scattergeo"
           }
          ],
          "scattergl": [
           {
            "marker": {
             "colorbar": {
              "outlinewidth": 0,
              "ticks": ""
             }
            },
            "type": "scattergl"
           }
          ],
          "scattermap": [
           {
            "marker": {
             "colorbar": {
              "outlinewidth": 0,
              "ticks": ""
             }
            },
            "type": "scattermap"
           }
          ],
          "scattermapbox": [
           {
            "marker": {
             "colorbar": {
              "outlinewidth": 0,
              "ticks": ""
             }
            },
            "type": "scattermapbox"
           }
          ],
          "scatterpolar": [
           {
            "marker": {
             "colorbar": {
              "outlinewidth": 0,
              "ticks": ""
             }
            },
            "type": "scatterpolar"
           }
          ],
          "scatterpolargl": [
           {
            "marker": {
             "colorbar": {
              "outlinewidth": 0,
              "ticks": ""
             }
            },
            "type": "scatterpolargl"
           }
          ],
          "scatterternary": [
           {
            "marker": {
             "colorbar": {
              "outlinewidth": 0,
              "ticks": ""
             }
            },
            "type": "scatterternary"
           }
          ],
          "surface": [
           {
            "colorbar": {
             "outlinewidth": 0,
             "ticks": ""
            },
            "colorscale": [
             [
              0,
              "#0d0887"
             ],
             [
              0.1111111111111111,
              "#46039f"
             ],
             [
              0.2222222222222222,
              "#7201a8"
             ],
             [
              0.3333333333333333,
              "#9c179e"
             ],
             [
              0.4444444444444444,
              "#bd3786"
             ],
             [
              0.5555555555555556,
              "#d8576b"
             ],
             [
              0.6666666666666666,
              "#ed7953"
             ],
             [
              0.7777777777777778,
              "#fb9f3a"
             ],
             [
              0.8888888888888888,
              "#fdca26"
             ],
             [
              1,
              "#f0f921"
             ]
            ],
            "type": "surface"
           }
          ],
          "table": [
           {
            "cells": {
             "fill": {
              "color": "#EBF0F8"
             },
             "line": {
              "color": "white"
             }
            },
            "header": {
             "fill": {
              "color": "#C8D4E3"
             },
             "line": {
              "color": "white"
             }
            },
            "type": "table"
           }
          ]
         },
         "layout": {
          "annotationdefaults": {
           "arrowcolor": "#2a3f5f",
           "arrowhead": 0,
           "arrowwidth": 1
          },
          "autotypenumbers": "strict",
          "coloraxis": {
           "colorbar": {
            "outlinewidth": 0,
            "ticks": ""
           }
          },
          "colorscale": {
           "diverging": [
            [
             0,
             "#8e0152"
            ],
            [
             0.1,
             "#c51b7d"
            ],
            [
             0.2,
             "#de77ae"
            ],
            [
             0.3,
             "#f1b6da"
            ],
            [
             0.4,
             "#fde0ef"
            ],
            [
             0.5,
             "#f7f7f7"
            ],
            [
             0.6,
             "#e6f5d0"
            ],
            [
             0.7,
             "#b8e186"
            ],
            [
             0.8,
             "#7fbc41"
            ],
            [
             0.9,
             "#4d9221"
            ],
            [
             1,
             "#276419"
            ]
           ],
           "sequential": [
            [
             0,
             "#0d0887"
            ],
            [
             0.1111111111111111,
             "#46039f"
            ],
            [
             0.2222222222222222,
             "#7201a8"
            ],
            [
             0.3333333333333333,
             "#9c179e"
            ],
            [
             0.4444444444444444,
             "#bd3786"
            ],
            [
             0.5555555555555556,
             "#d8576b"
            ],
            [
             0.6666666666666666,
             "#ed7953"
            ],
            [
             0.7777777777777778,
             "#fb9f3a"
            ],
            [
             0.8888888888888888,
             "#fdca26"
            ],
            [
             1,
             "#f0f921"
            ]
           ],
           "sequentialminus": [
            [
             0,
             "#0d0887"
            ],
            [
             0.1111111111111111,
             "#46039f"
            ],
            [
             0.2222222222222222,
             "#7201a8"
            ],
            [
             0.3333333333333333,
             "#9c179e"
            ],
            [
             0.4444444444444444,
             "#bd3786"
            ],
            [
             0.5555555555555556,
             "#d8576b"
            ],
            [
             0.6666666666666666,
             "#ed7953"
            ],
            [
             0.7777777777777778,
             "#fb9f3a"
            ],
            [
             0.8888888888888888,
             "#fdca26"
            ],
            [
             1,
             "#f0f921"
            ]
           ]
          },
          "colorway": [
           "#636efa",
           "#EF553B",
           "#00cc96",
           "#ab63fa",
           "#FFA15A",
           "#19d3f3",
           "#FF6692",
           "#B6E880",
           "#FF97FF",
           "#FECB52"
          ],
          "font": {
           "color": "#2a3f5f"
          },
          "geo": {
           "bgcolor": "white",
           "lakecolor": "white",
           "landcolor": "#E5ECF6",
           "showlakes": true,
           "showland": true,
           "subunitcolor": "white"
          },
          "hoverlabel": {
           "align": "left"
          },
          "hovermode": "closest",
          "mapbox": {
           "style": "light"
          },
          "paper_bgcolor": "white",
          "plot_bgcolor": "#E5ECF6",
          "polar": {
           "angularaxis": {
            "gridcolor": "white",
            "linecolor": "white",
            "ticks": ""
           },
           "bgcolor": "#E5ECF6",
           "radialaxis": {
            "gridcolor": "white",
            "linecolor": "white",
            "ticks": ""
           }
          },
          "scene": {
           "xaxis": {
            "backgroundcolor": "#E5ECF6",
            "gridcolor": "white",
            "gridwidth": 2,
            "linecolor": "white",
            "showbackground": true,
            "ticks": "",
            "zerolinecolor": "white"
           },
           "yaxis": {
            "backgroundcolor": "#E5ECF6",
            "gridcolor": "white",
            "gridwidth": 2,
            "linecolor": "white",
            "showbackground": true,
            "ticks": "",
            "zerolinecolor": "white"
           },
           "zaxis": {
            "backgroundcolor": "#E5ECF6",
            "gridcolor": "white",
            "gridwidth": 2,
            "linecolor": "white",
            "showbackground": true,
            "ticks": "",
            "zerolinecolor": "white"
           }
          },
          "shapedefaults": {
           "line": {
            "color": "#2a3f5f"
           }
          },
          "ternary": {
           "aaxis": {
            "gridcolor": "white",
            "linecolor": "white",
            "ticks": ""
           },
           "baxis": {
            "gridcolor": "white",
            "linecolor": "white",
            "ticks": ""
           },
           "bgcolor": "#E5ECF6",
           "caxis": {
            "gridcolor": "white",
            "linecolor": "white",
            "ticks": ""
           }
          },
          "title": {
           "x": 0.05
          },
          "xaxis": {
           "automargin": true,
           "gridcolor": "white",
           "linecolor": "white",
           "ticks": "",
           "title": {
            "standoff": 15
           },
           "zerolinecolor": "white",
           "zerolinewidth": 2
          },
          "yaxis": {
           "automargin": true,
           "gridcolor": "white",
           "linecolor": "white",
           "ticks": "",
           "title": {
            "standoff": 15
           },
           "zerolinecolor": "white",
           "zerolinewidth": 2
          }
         }
        },
        "width": 500
       }
      }
     },
     "metadata": {},
     "output_type": "display_data"
    }
   ],
   "source": [
    "px.pie(df['Bedrooms'].value_counts(),values=df['Bedrooms'].value_counts(),\n",
    "names=df['Bedrooms'].value_counts().index,hole=0.2,width=500,height=500).show()"
   ]
  },
  {
   "cell_type": "markdown",
   "id": "cc979d90",
   "metadata": {},
   "source": [
    "## Bathrooms\n",
    "(1) There are 993 missing values  \n",
    "(2) Almost 60% flats has 3 bedrooms"
   ]
  },
  {
   "cell_type": "code",
   "execution_count": 6,
   "id": "ace4e2e9",
   "metadata": {},
   "outputs": [
    {
     "data": {
      "text/plain": [
       "np.int64(993)"
      ]
     },
     "execution_count": 6,
     "metadata": {},
     "output_type": "execute_result"
    }
   ],
   "source": [
    "df['Bathrooms'].isnull().sum()"
   ]
  },
  {
   "cell_type": "code",
   "execution_count": 7,
   "id": "3335676f",
   "metadata": {},
   "outputs": [
    {
     "data": {
      "application/vnd.plotly.v1+json": {
       "config": {
        "plotlyServerURL": "https://plot.ly"
       },
       "data": [
        {
         "domain": {
          "x": [
           0,
           1
          ],
          "y": [
           0,
           1
          ]
         },
         "hole": 0.2,
         "hovertemplate": "label=%{label}<br>count=%{value}<extra></extra>",
         "labels": {
          "bdata": "AAAAAAAACEAAAAAAAAAAQAAAAAAAABBAAAAAAAAAFEAAAAAAAADwPwAAAAAAACRAAAAAAAAAIEAAAAAAAAAYQA==",
          "dtype": "f8"
         },
         "legendgroup": "",
         "name": "",
         "showlegend": true,
         "type": "pie",
         "values": {
          "bdata": "3gaLAkMBQQAWABUACAAEAA==",
          "dtype": "i2"
         }
        }
       ],
       "layout": {
        "height": 500,
        "legend": {
         "tracegroupgap": 0
        },
        "margin": {
         "t": 60
        },
        "template": {
         "data": {
          "bar": [
           {
            "error_x": {
             "color": "#2a3f5f"
            },
            "error_y": {
             "color": "#2a3f5f"
            },
            "marker": {
             "line": {
              "color": "#E5ECF6",
              "width": 0.5
             },
             "pattern": {
              "fillmode": "overlay",
              "size": 10,
              "solidity": 0.2
             }
            },
            "type": "bar"
           }
          ],
          "barpolar": [
           {
            "marker": {
             "line": {
              "color": "#E5ECF6",
              "width": 0.5
             },
             "pattern": {
              "fillmode": "overlay",
              "size": 10,
              "solidity": 0.2
             }
            },
            "type": "barpolar"
           }
          ],
          "carpet": [
           {
            "aaxis": {
             "endlinecolor": "#2a3f5f",
             "gridcolor": "white",
             "linecolor": "white",
             "minorgridcolor": "white",
             "startlinecolor": "#2a3f5f"
            },
            "baxis": {
             "endlinecolor": "#2a3f5f",
             "gridcolor": "white",
             "linecolor": "white",
             "minorgridcolor": "white",
             "startlinecolor": "#2a3f5f"
            },
            "type": "carpet"
           }
          ],
          "choropleth": [
           {
            "colorbar": {
             "outlinewidth": 0,
             "ticks": ""
            },
            "type": "choropleth"
           }
          ],
          "contour": [
           {
            "colorbar": {
             "outlinewidth": 0,
             "ticks": ""
            },
            "colorscale": [
             [
              0,
              "#0d0887"
             ],
             [
              0.1111111111111111,
              "#46039f"
             ],
             [
              0.2222222222222222,
              "#7201a8"
             ],
             [
              0.3333333333333333,
              "#9c179e"
             ],
             [
              0.4444444444444444,
              "#bd3786"
             ],
             [
              0.5555555555555556,
              "#d8576b"
             ],
             [
              0.6666666666666666,
              "#ed7953"
             ],
             [
              0.7777777777777778,
              "#fb9f3a"
             ],
             [
              0.8888888888888888,
              "#fdca26"
             ],
             [
              1,
              "#f0f921"
             ]
            ],
            "type": "contour"
           }
          ],
          "contourcarpet": [
           {
            "colorbar": {
             "outlinewidth": 0,
             "ticks": ""
            },
            "type": "contourcarpet"
           }
          ],
          "heatmap": [
           {
            "colorbar": {
             "outlinewidth": 0,
             "ticks": ""
            },
            "colorscale": [
             [
              0,
              "#0d0887"
             ],
             [
              0.1111111111111111,
              "#46039f"
             ],
             [
              0.2222222222222222,
              "#7201a8"
             ],
             [
              0.3333333333333333,
              "#9c179e"
             ],
             [
              0.4444444444444444,
              "#bd3786"
             ],
             [
              0.5555555555555556,
              "#d8576b"
             ],
             [
              0.6666666666666666,
              "#ed7953"
             ],
             [
              0.7777777777777778,
              "#fb9f3a"
             ],
             [
              0.8888888888888888,
              "#fdca26"
             ],
             [
              1,
              "#f0f921"
             ]
            ],
            "type": "heatmap"
           }
          ],
          "histogram": [
           {
            "marker": {
             "pattern": {
              "fillmode": "overlay",
              "size": 10,
              "solidity": 0.2
             }
            },
            "type": "histogram"
           }
          ],
          "histogram2d": [
           {
            "colorbar": {
             "outlinewidth": 0,
             "ticks": ""
            },
            "colorscale": [
             [
              0,
              "#0d0887"
             ],
             [
              0.1111111111111111,
              "#46039f"
             ],
             [
              0.2222222222222222,
              "#7201a8"
             ],
             [
              0.3333333333333333,
              "#9c179e"
             ],
             [
              0.4444444444444444,
              "#bd3786"
             ],
             [
              0.5555555555555556,
              "#d8576b"
             ],
             [
              0.6666666666666666,
              "#ed7953"
             ],
             [
              0.7777777777777778,
              "#fb9f3a"
             ],
             [
              0.8888888888888888,
              "#fdca26"
             ],
             [
              1,
              "#f0f921"
             ]
            ],
            "type": "histogram2d"
           }
          ],
          "histogram2dcontour": [
           {
            "colorbar": {
             "outlinewidth": 0,
             "ticks": ""
            },
            "colorscale": [
             [
              0,
              "#0d0887"
             ],
             [
              0.1111111111111111,
              "#46039f"
             ],
             [
              0.2222222222222222,
              "#7201a8"
             ],
             [
              0.3333333333333333,
              "#9c179e"
             ],
             [
              0.4444444444444444,
              "#bd3786"
             ],
             [
              0.5555555555555556,
              "#d8576b"
             ],
             [
              0.6666666666666666,
              "#ed7953"
             ],
             [
              0.7777777777777778,
              "#fb9f3a"
             ],
             [
              0.8888888888888888,
              "#fdca26"
             ],
             [
              1,
              "#f0f921"
             ]
            ],
            "type": "histogram2dcontour"
           }
          ],
          "mesh3d": [
           {
            "colorbar": {
             "outlinewidth": 0,
             "ticks": ""
            },
            "type": "mesh3d"
           }
          ],
          "parcoords": [
           {
            "line": {
             "colorbar": {
              "outlinewidth": 0,
              "ticks": ""
             }
            },
            "type": "parcoords"
           }
          ],
          "pie": [
           {
            "automargin": true,
            "type": "pie"
           }
          ],
          "scatter": [
           {
            "fillpattern": {
             "fillmode": "overlay",
             "size": 10,
             "solidity": 0.2
            },
            "type": "scatter"
           }
          ],
          "scatter3d": [
           {
            "line": {
             "colorbar": {
              "outlinewidth": 0,
              "ticks": ""
             }
            },
            "marker": {
             "colorbar": {
              "outlinewidth": 0,
              "ticks": ""
             }
            },
            "type": "scatter3d"
           }
          ],
          "scattercarpet": [
           {
            "marker": {
             "colorbar": {
              "outlinewidth": 0,
              "ticks": ""
             }
            },
            "type": "scattercarpet"
           }
          ],
          "scattergeo": [
           {
            "marker": {
             "colorbar": {
              "outlinewidth": 0,
              "ticks": ""
             }
            },
            "type": "scattergeo"
           }
          ],
          "scattergl": [
           {
            "marker": {
             "colorbar": {
              "outlinewidth": 0,
              "ticks": ""
             }
            },
            "type": "scattergl"
           }
          ],
          "scattermap": [
           {
            "marker": {
             "colorbar": {
              "outlinewidth": 0,
              "ticks": ""
             }
            },
            "type": "scattermap"
           }
          ],
          "scattermapbox": [
           {
            "marker": {
             "colorbar": {
              "outlinewidth": 0,
              "ticks": ""
             }
            },
            "type": "scattermapbox"
           }
          ],
          "scatterpolar": [
           {
            "marker": {
             "colorbar": {
              "outlinewidth": 0,
              "ticks": ""
             }
            },
            "type": "scatterpolar"
           }
          ],
          "scatterpolargl": [
           {
            "marker": {
             "colorbar": {
              "outlinewidth": 0,
              "ticks": ""
             }
            },
            "type": "scatterpolargl"
           }
          ],
          "scatterternary": [
           {
            "marker": {
             "colorbar": {
              "outlinewidth": 0,
              "ticks": ""
             }
            },
            "type": "scatterternary"
           }
          ],
          "surface": [
           {
            "colorbar": {
             "outlinewidth": 0,
             "ticks": ""
            },
            "colorscale": [
             [
              0,
              "#0d0887"
             ],
             [
              0.1111111111111111,
              "#46039f"
             ],
             [
              0.2222222222222222,
              "#7201a8"
             ],
             [
              0.3333333333333333,
              "#9c179e"
             ],
             [
              0.4444444444444444,
              "#bd3786"
             ],
             [
              0.5555555555555556,
              "#d8576b"
             ],
             [
              0.6666666666666666,
              "#ed7953"
             ],
             [
              0.7777777777777778,
              "#fb9f3a"
             ],
             [
              0.8888888888888888,
              "#fdca26"
             ],
             [
              1,
              "#f0f921"
             ]
            ],
            "type": "surface"
           }
          ],
          "table": [
           {
            "cells": {
             "fill": {
              "color": "#EBF0F8"
             },
             "line": {
              "color": "white"
             }
            },
            "header": {
             "fill": {
              "color": "#C8D4E3"
             },
             "line": {
              "color": "white"
             }
            },
            "type": "table"
           }
          ]
         },
         "layout": {
          "annotationdefaults": {
           "arrowcolor": "#2a3f5f",
           "arrowhead": 0,
           "arrowwidth": 1
          },
          "autotypenumbers": "strict",
          "coloraxis": {
           "colorbar": {
            "outlinewidth": 0,
            "ticks": ""
           }
          },
          "colorscale": {
           "diverging": [
            [
             0,
             "#8e0152"
            ],
            [
             0.1,
             "#c51b7d"
            ],
            [
             0.2,
             "#de77ae"
            ],
            [
             0.3,
             "#f1b6da"
            ],
            [
             0.4,
             "#fde0ef"
            ],
            [
             0.5,
             "#f7f7f7"
            ],
            [
             0.6,
             "#e6f5d0"
            ],
            [
             0.7,
             "#b8e186"
            ],
            [
             0.8,
             "#7fbc41"
            ],
            [
             0.9,
             "#4d9221"
            ],
            [
             1,
             "#276419"
            ]
           ],
           "sequential": [
            [
             0,
             "#0d0887"
            ],
            [
             0.1111111111111111,
             "#46039f"
            ],
            [
             0.2222222222222222,
             "#7201a8"
            ],
            [
             0.3333333333333333,
             "#9c179e"
            ],
            [
             0.4444444444444444,
             "#bd3786"
            ],
            [
             0.5555555555555556,
             "#d8576b"
            ],
            [
             0.6666666666666666,
             "#ed7953"
            ],
            [
             0.7777777777777778,
             "#fb9f3a"
            ],
            [
             0.8888888888888888,
             "#fdca26"
            ],
            [
             1,
             "#f0f921"
            ]
           ],
           "sequentialminus": [
            [
             0,
             "#0d0887"
            ],
            [
             0.1111111111111111,
             "#46039f"
            ],
            [
             0.2222222222222222,
             "#7201a8"
            ],
            [
             0.3333333333333333,
             "#9c179e"
            ],
            [
             0.4444444444444444,
             "#bd3786"
            ],
            [
             0.5555555555555556,
             "#d8576b"
            ],
            [
             0.6666666666666666,
             "#ed7953"
            ],
            [
             0.7777777777777778,
             "#fb9f3a"
            ],
            [
             0.8888888888888888,
             "#fdca26"
            ],
            [
             1,
             "#f0f921"
            ]
           ]
          },
          "colorway": [
           "#636efa",
           "#EF553B",
           "#00cc96",
           "#ab63fa",
           "#FFA15A",
           "#19d3f3",
           "#FF6692",
           "#B6E880",
           "#FF97FF",
           "#FECB52"
          ],
          "font": {
           "color": "#2a3f5f"
          },
          "geo": {
           "bgcolor": "white",
           "lakecolor": "white",
           "landcolor": "#E5ECF6",
           "showlakes": true,
           "showland": true,
           "subunitcolor": "white"
          },
          "hoverlabel": {
           "align": "left"
          },
          "hovermode": "closest",
          "mapbox": {
           "style": "light"
          },
          "paper_bgcolor": "white",
          "plot_bgcolor": "#E5ECF6",
          "polar": {
           "angularaxis": {
            "gridcolor": "white",
            "linecolor": "white",
            "ticks": ""
           },
           "bgcolor": "#E5ECF6",
           "radialaxis": {
            "gridcolor": "white",
            "linecolor": "white",
            "ticks": ""
           }
          },
          "scene": {
           "xaxis": {
            "backgroundcolor": "#E5ECF6",
            "gridcolor": "white",
            "gridwidth": 2,
            "linecolor": "white",
            "showbackground": true,
            "ticks": "",
            "zerolinecolor": "white"
           },
           "yaxis": {
            "backgroundcolor": "#E5ECF6",
            "gridcolor": "white",
            "gridwidth": 2,
            "linecolor": "white",
            "showbackground": true,
            "ticks": "",
            "zerolinecolor": "white"
           },
           "zaxis": {
            "backgroundcolor": "#E5ECF6",
            "gridcolor": "white",
            "gridwidth": 2,
            "linecolor": "white",
            "showbackground": true,
            "ticks": "",
            "zerolinecolor": "white"
           }
          },
          "shapedefaults": {
           "line": {
            "color": "#2a3f5f"
           }
          },
          "ternary": {
           "aaxis": {
            "gridcolor": "white",
            "linecolor": "white",
            "ticks": ""
           },
           "baxis": {
            "gridcolor": "white",
            "linecolor": "white",
            "ticks": ""
           },
           "bgcolor": "#E5ECF6",
           "caxis": {
            "gridcolor": "white",
            "linecolor": "white",
            "ticks": ""
           }
          },
          "title": {
           "x": 0.05
          },
          "xaxis": {
           "automargin": true,
           "gridcolor": "white",
           "linecolor": "white",
           "ticks": "",
           "title": {
            "standoff": 15
           },
           "zerolinecolor": "white",
           "zerolinewidth": 2
          },
          "yaxis": {
           "automargin": true,
           "gridcolor": "white",
           "linecolor": "white",
           "ticks": "",
           "title": {
            "standoff": 15
           },
           "zerolinecolor": "white",
           "zerolinewidth": 2
          }
         }
        },
        "width": 500
       }
      }
     },
     "metadata": {},
     "output_type": "display_data"
    }
   ],
   "source": [
    "px.pie(df['Bathrooms'].value_counts(),values=df['Bathrooms'].value_counts(),\n",
    "names=df['Bathrooms'].value_counts().index,hole=0.2,width=500,height=500).show()"
   ]
  },
  {
   "cell_type": "markdown",
   "id": "4bb8818b",
   "metadata": {},
   "source": [
    "# floor level\n",
    "(1) 684 Missing Values"
   ]
  },
  {
   "cell_type": "code",
   "execution_count": 8,
   "id": "e2616860",
   "metadata": {},
   "outputs": [
    {
     "data": {
      "text/plain": [
       "np.int64(684)"
      ]
     },
     "execution_count": 8,
     "metadata": {},
     "output_type": "execute_result"
    }
   ],
   "source": [
    "df['floor_level'].isnull().sum()"
   ]
  },
  {
   "cell_type": "code",
   "execution_count": 9,
   "id": "9bf22cda",
   "metadata": {},
   "outputs": [
    {
     "data": {
      "application/vnd.plotly.v1+json": {
       "config": {
        "plotlyServerURL": "https://plot.ly"
       },
       "data": [
        {
         "domain": {
          "x": [
           0,
           1
          ],
          "y": [
           0,
           1
          ]
         },
         "hole": 0,
         "hovertemplate": "label=%{label}<br>count=%{value}<extra></extra>",
         "labels": [
          "medium",
          "low",
          "high"
         ],
         "legendgroup": "",
         "name": "",
         "showlegend": true,
         "type": "pie",
         "values": {
          "bdata": "UAYPBfoA",
          "dtype": "i2"
         }
        }
       ],
       "layout": {
        "height": 600,
        "legend": {
         "tracegroupgap": 0
        },
        "margin": {
         "t": 60
        },
        "template": {
         "data": {
          "bar": [
           {
            "error_x": {
             "color": "#2a3f5f"
            },
            "error_y": {
             "color": "#2a3f5f"
            },
            "marker": {
             "line": {
              "color": "#E5ECF6",
              "width": 0.5
             },
             "pattern": {
              "fillmode": "overlay",
              "size": 10,
              "solidity": 0.2
             }
            },
            "type": "bar"
           }
          ],
          "barpolar": [
           {
            "marker": {
             "line": {
              "color": "#E5ECF6",
              "width": 0.5
             },
             "pattern": {
              "fillmode": "overlay",
              "size": 10,
              "solidity": 0.2
             }
            },
            "type": "barpolar"
           }
          ],
          "carpet": [
           {
            "aaxis": {
             "endlinecolor": "#2a3f5f",
             "gridcolor": "white",
             "linecolor": "white",
             "minorgridcolor": "white",
             "startlinecolor": "#2a3f5f"
            },
            "baxis": {
             "endlinecolor": "#2a3f5f",
             "gridcolor": "white",
             "linecolor": "white",
             "minorgridcolor": "white",
             "startlinecolor": "#2a3f5f"
            },
            "type": "carpet"
           }
          ],
          "choropleth": [
           {
            "colorbar": {
             "outlinewidth": 0,
             "ticks": ""
            },
            "type": "choropleth"
           }
          ],
          "contour": [
           {
            "colorbar": {
             "outlinewidth": 0,
             "ticks": ""
            },
            "colorscale": [
             [
              0,
              "#0d0887"
             ],
             [
              0.1111111111111111,
              "#46039f"
             ],
             [
              0.2222222222222222,
              "#7201a8"
             ],
             [
              0.3333333333333333,
              "#9c179e"
             ],
             [
              0.4444444444444444,
              "#bd3786"
             ],
             [
              0.5555555555555556,
              "#d8576b"
             ],
             [
              0.6666666666666666,
              "#ed7953"
             ],
             [
              0.7777777777777778,
              "#fb9f3a"
             ],
             [
              0.8888888888888888,
              "#fdca26"
             ],
             [
              1,
              "#f0f921"
             ]
            ],
            "type": "contour"
           }
          ],
          "contourcarpet": [
           {
            "colorbar": {
             "outlinewidth": 0,
             "ticks": ""
            },
            "type": "contourcarpet"
           }
          ],
          "heatmap": [
           {
            "colorbar": {
             "outlinewidth": 0,
             "ticks": ""
            },
            "colorscale": [
             [
              0,
              "#0d0887"
             ],
             [
              0.1111111111111111,
              "#46039f"
             ],
             [
              0.2222222222222222,
              "#7201a8"
             ],
             [
              0.3333333333333333,
              "#9c179e"
             ],
             [
              0.4444444444444444,
              "#bd3786"
             ],
             [
              0.5555555555555556,
              "#d8576b"
             ],
             [
              0.6666666666666666,
              "#ed7953"
             ],
             [
              0.7777777777777778,
              "#fb9f3a"
             ],
             [
              0.8888888888888888,
              "#fdca26"
             ],
             [
              1,
              "#f0f921"
             ]
            ],
            "type": "heatmap"
           }
          ],
          "histogram": [
           {
            "marker": {
             "pattern": {
              "fillmode": "overlay",
              "size": 10,
              "solidity": 0.2
             }
            },
            "type": "histogram"
           }
          ],
          "histogram2d": [
           {
            "colorbar": {
             "outlinewidth": 0,
             "ticks": ""
            },
            "colorscale": [
             [
              0,
              "#0d0887"
             ],
             [
              0.1111111111111111,
              "#46039f"
             ],
             [
              0.2222222222222222,
              "#7201a8"
             ],
             [
              0.3333333333333333,
              "#9c179e"
             ],
             [
              0.4444444444444444,
              "#bd3786"
             ],
             [
              0.5555555555555556,
              "#d8576b"
             ],
             [
              0.6666666666666666,
              "#ed7953"
             ],
             [
              0.7777777777777778,
              "#fb9f3a"
             ],
             [
              0.8888888888888888,
              "#fdca26"
             ],
             [
              1,
              "#f0f921"
             ]
            ],
            "type": "histogram2d"
           }
          ],
          "histogram2dcontour": [
           {
            "colorbar": {
             "outlinewidth": 0,
             "ticks": ""
            },
            "colorscale": [
             [
              0,
              "#0d0887"
             ],
             [
              0.1111111111111111,
              "#46039f"
             ],
             [
              0.2222222222222222,
              "#7201a8"
             ],
             [
              0.3333333333333333,
              "#9c179e"
             ],
             [
              0.4444444444444444,
              "#bd3786"
             ],
             [
              0.5555555555555556,
              "#d8576b"
             ],
             [
              0.6666666666666666,
              "#ed7953"
             ],
             [
              0.7777777777777778,
              "#fb9f3a"
             ],
             [
              0.8888888888888888,
              "#fdca26"
             ],
             [
              1,
              "#f0f921"
             ]
            ],
            "type": "histogram2dcontour"
           }
          ],
          "mesh3d": [
           {
            "colorbar": {
             "outlinewidth": 0,
             "ticks": ""
            },
            "type": "mesh3d"
           }
          ],
          "parcoords": [
           {
            "line": {
             "colorbar": {
              "outlinewidth": 0,
              "ticks": ""
             }
            },
            "type": "parcoords"
           }
          ],
          "pie": [
           {
            "automargin": true,
            "type": "pie"
           }
          ],
          "scatter": [
           {
            "fillpattern": {
             "fillmode": "overlay",
             "size": 10,
             "solidity": 0.2
            },
            "type": "scatter"
           }
          ],
          "scatter3d": [
           {
            "line": {
             "colorbar": {
              "outlinewidth": 0,
              "ticks": ""
             }
            },
            "marker": {
             "colorbar": {
              "outlinewidth": 0,
              "ticks": ""
             }
            },
            "type": "scatter3d"
           }
          ],
          "scattercarpet": [
           {
            "marker": {
             "colorbar": {
              "outlinewidth": 0,
              "ticks": ""
             }
            },
            "type": "scattercarpet"
           }
          ],
          "scattergeo": [
           {
            "marker": {
             "colorbar": {
              "outlinewidth": 0,
              "ticks": ""
             }
            },
            "type": "scattergeo"
           }
          ],
          "scattergl": [
           {
            "marker": {
             "colorbar": {
              "outlinewidth": 0,
              "ticks": ""
             }
            },
            "type": "scattergl"
           }
          ],
          "scattermap": [
           {
            "marker": {
             "colorbar": {
              "outlinewidth": 0,
              "ticks": ""
             }
            },
            "type": "scattermap"
           }
          ],
          "scattermapbox": [
           {
            "marker": {
             "colorbar": {
              "outlinewidth": 0,
              "ticks": ""
             }
            },
            "type": "scattermapbox"
           }
          ],
          "scatterpolar": [
           {
            "marker": {
             "colorbar": {
              "outlinewidth": 0,
              "ticks": ""
             }
            },
            "type": "scatterpolar"
           }
          ],
          "scatterpolargl": [
           {
            "marker": {
             "colorbar": {
              "outlinewidth": 0,
              "ticks": ""
             }
            },
            "type": "scatterpolargl"
           }
          ],
          "scatterternary": [
           {
            "marker": {
             "colorbar": {
              "outlinewidth": 0,
              "ticks": ""
             }
            },
            "type": "scatterternary"
           }
          ],
          "surface": [
           {
            "colorbar": {
             "outlinewidth": 0,
             "ticks": ""
            },
            "colorscale": [
             [
              0,
              "#0d0887"
             ],
             [
              0.1111111111111111,
              "#46039f"
             ],
             [
              0.2222222222222222,
              "#7201a8"
             ],
             [
              0.3333333333333333,
              "#9c179e"
             ],
             [
              0.4444444444444444,
              "#bd3786"
             ],
             [
              0.5555555555555556,
              "#d8576b"
             ],
             [
              0.6666666666666666,
              "#ed7953"
             ],
             [
              0.7777777777777778,
              "#fb9f3a"
             ],
             [
              0.8888888888888888,
              "#fdca26"
             ],
             [
              1,
              "#f0f921"
             ]
            ],
            "type": "surface"
           }
          ],
          "table": [
           {
            "cells": {
             "fill": {
              "color": "#EBF0F8"
             },
             "line": {
              "color": "white"
             }
            },
            "header": {
             "fill": {
              "color": "#C8D4E3"
             },
             "line": {
              "color": "white"
             }
            },
            "type": "table"
           }
          ]
         },
         "layout": {
          "annotationdefaults": {
           "arrowcolor": "#2a3f5f",
           "arrowhead": 0,
           "arrowwidth": 1
          },
          "autotypenumbers": "strict",
          "coloraxis": {
           "colorbar": {
            "outlinewidth": 0,
            "ticks": ""
           }
          },
          "colorscale": {
           "diverging": [
            [
             0,
             "#8e0152"
            ],
            [
             0.1,
             "#c51b7d"
            ],
            [
             0.2,
             "#de77ae"
            ],
            [
             0.3,
             "#f1b6da"
            ],
            [
             0.4,
             "#fde0ef"
            ],
            [
             0.5,
             "#f7f7f7"
            ],
            [
             0.6,
             "#e6f5d0"
            ],
            [
             0.7,
             "#b8e186"
            ],
            [
             0.8,
             "#7fbc41"
            ],
            [
             0.9,
             "#4d9221"
            ],
            [
             1,
             "#276419"
            ]
           ],
           "sequential": [
            [
             0,
             "#0d0887"
            ],
            [
             0.1111111111111111,
             "#46039f"
            ],
            [
             0.2222222222222222,
             "#7201a8"
            ],
            [
             0.3333333333333333,
             "#9c179e"
            ],
            [
             0.4444444444444444,
             "#bd3786"
            ],
            [
             0.5555555555555556,
             "#d8576b"
            ],
            [
             0.6666666666666666,
             "#ed7953"
            ],
            [
             0.7777777777777778,
             "#fb9f3a"
            ],
            [
             0.8888888888888888,
             "#fdca26"
            ],
            [
             1,
             "#f0f921"
            ]
           ],
           "sequentialminus": [
            [
             0,
             "#0d0887"
            ],
            [
             0.1111111111111111,
             "#46039f"
            ],
            [
             0.2222222222222222,
             "#7201a8"
            ],
            [
             0.3333333333333333,
             "#9c179e"
            ],
            [
             0.4444444444444444,
             "#bd3786"
            ],
            [
             0.5555555555555556,
             "#d8576b"
            ],
            [
             0.6666666666666666,
             "#ed7953"
            ],
            [
             0.7777777777777778,
             "#fb9f3a"
            ],
            [
             0.8888888888888888,
             "#fdca26"
            ],
            [
             1,
             "#f0f921"
            ]
           ]
          },
          "colorway": [
           "#636efa",
           "#EF553B",
           "#00cc96",
           "#ab63fa",
           "#FFA15A",
           "#19d3f3",
           "#FF6692",
           "#B6E880",
           "#FF97FF",
           "#FECB52"
          ],
          "font": {
           "color": "#2a3f5f"
          },
          "geo": {
           "bgcolor": "white",
           "lakecolor": "white",
           "landcolor": "#E5ECF6",
           "showlakes": true,
           "showland": true,
           "subunitcolor": "white"
          },
          "hoverlabel": {
           "align": "left"
          },
          "hovermode": "closest",
          "mapbox": {
           "style": "light"
          },
          "paper_bgcolor": "white",
          "plot_bgcolor": "#E5ECF6",
          "polar": {
           "angularaxis": {
            "gridcolor": "white",
            "linecolor": "white",
            "ticks": ""
           },
           "bgcolor": "#E5ECF6",
           "radialaxis": {
            "gridcolor": "white",
            "linecolor": "white",
            "ticks": ""
           }
          },
          "scene": {
           "xaxis": {
            "backgroundcolor": "#E5ECF6",
            "gridcolor": "white",
            "gridwidth": 2,
            "linecolor": "white",
            "showbackground": true,
            "ticks": "",
            "zerolinecolor": "white"
           },
           "yaxis": {
            "backgroundcolor": "#E5ECF6",
            "gridcolor": "white",
            "gridwidth": 2,
            "linecolor": "white",
            "showbackground": true,
            "ticks": "",
            "zerolinecolor": "white"
           },
           "zaxis": {
            "backgroundcolor": "#E5ECF6",
            "gridcolor": "white",
            "gridwidth": 2,
            "linecolor": "white",
            "showbackground": true,
            "ticks": "",
            "zerolinecolor": "white"
           }
          },
          "shapedefaults": {
           "line": {
            "color": "#2a3f5f"
           }
          },
          "ternary": {
           "aaxis": {
            "gridcolor": "white",
            "linecolor": "white",
            "ticks": ""
           },
           "baxis": {
            "gridcolor": "white",
            "linecolor": "white",
            "ticks": ""
           },
           "bgcolor": "#E5ECF6",
           "caxis": {
            "gridcolor": "white",
            "linecolor": "white",
            "ticks": ""
           }
          },
          "title": {
           "x": 0.05
          },
          "xaxis": {
           "automargin": true,
           "gridcolor": "white",
           "linecolor": "white",
           "ticks": "",
           "title": {
            "standoff": 15
           },
           "zerolinecolor": "white",
           "zerolinewidth": 2
          },
          "yaxis": {
           "automargin": true,
           "gridcolor": "white",
           "linecolor": "white",
           "ticks": "",
           "title": {
            "standoff": 15
           },
           "zerolinecolor": "white",
           "zerolinewidth": 2
          }
         }
        },
        "width": 600
       }
      }
     },
     "metadata": {},
     "output_type": "display_data"
    }
   ],
   "source": [
    "fig = px.pie(df['floor_level'].value_counts(),values=df['floor_level'].value_counts(),\n",
    "       names=df['floor_level'].value_counts().index,hole=0.0,width=600,height=600)\n",
    "fig.show()"
   ]
  },
  {
   "cell_type": "markdown",
   "id": "95f870f0",
   "metadata": {},
   "source": [
    "# Floor Area\n",
    "(1) 99 Missing values  \n",
    "(2) Huge level of outlier"
   ]
  },
  {
   "cell_type": "code",
   "execution_count": 10,
   "id": "b4021172",
   "metadata": {},
   "outputs": [
    {
     "data": {
      "text/plain": [
       "np.int64(99)"
      ]
     },
     "execution_count": 10,
     "metadata": {},
     "output_type": "execute_result"
    }
   ],
   "source": [
    "df['Floor_area'].isnull().sum()"
   ]
  },
  {
   "cell_type": "code",
   "execution_count": 11,
   "id": "b98f44a2",
   "metadata": {},
   "outputs": [
    {
     "data": {
      "text/plain": [
       "np.float64(24.99961777781356)"
      ]
     },
     "execution_count": 11,
     "metadata": {},
     "output_type": "execute_result"
    },
    {
     "data": {
      "image/png": "[encoded data removed]",
      "text/plain": [
       "<Figure size 640x480 with 1 Axes>"
      ]
     },
     "metadata": {},
     "output_type": "display_data"
    }
   ],
   "source": [
    "sns.histplot(df['Floor_area'],kde=True,bins=50)\n",
    "df['Floor_area'].skew()"
   ]
  },
  {
   "cell_type": "code",
   "execution_count": 12,
   "id": "bbfdd385",
   "metadata": {},
   "outputs": [
    {
     "data": {
      "application/vnd.plotly.v1+json": {
       "config": {
        "plotlyServerURL": "https://plot.ly"
       },
       "data": [
        {
         "alignmentgroup": "True",
         "hovertemplate": "Floor_area=%{x}<extra></extra>",
         "legendgroup": "",
         "marker": {
          "color": "#636efa"
         },
         "name": "",
         "notched": false,
         "offsetgroup": "",
         "orientation": "h",
         "showlegend": false,
         "type": "box",
         "x": {
          "bdata": "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",
          "dtype": "f8"
         },
         "x0": " ",
         "xaxis": "x",
         "y0": " ",
         "yaxis": "y"
        }
       ],
       "layout": {
        "boxmode": "group",
        "height": 500,
        "legend": {
         "tracegroupgap": 0
        },
        "margin": {
         "t": 60
        },
        "template": {
         "data": {
          "bar": [
           {
            "error_x": {
             "color": "#2a3f5f"
            },
            "error_y": {
             "color": "#2a3f5f"
            },
            "marker": {
             "line": {
              "color": "#E5ECF6",
              "width": 0.5
             },
             "pattern": {
              "fillmode": "overlay",
              "size": 10,
              "solidity": 0.2
             }
            },
            "type": "bar"
           }
          ],
          "barpolar": [
           {
            "marker": {
             "line": {
              "color": "#E5ECF6",
              "width": 0.5
             },
             "pattern": {
              "fillmode": "overlay",
              "size": 10,
              "solidity": 0.2
             }
            },
            "type": "barpolar"
           }
          ],
          "carpet": [
           {
            "aaxis": {
             "endlinecolor": "#2a3f5f",
             "gridcolor": "white",
             "linecolor": "white",
             "minorgridcolor": "white",
             "startlinecolor": "#2a3f5f"
            },
            "baxis": {
             "endlinecolor": "#2a3f5f",
             "gridcolor": "white",
             "linecolor": "white",
             "minorgridcolor": "white",
             "startlinecolor": "#2a3f5f"
            },
            "type": "carpet"
           }
          ],
          "choropleth": [
           {
            "colorbar": {
             "outlinewidth": 0,
             "ticks": ""
            },
            "type": "choropleth"
           }
          ],
          "contour": [
           {
            "colorbar": {
             "outlinewidth": 0,
             "ticks": ""
            },
            "colorscale": [
             [
              0,
              "#0d0887"
             ],
             [
              0.1111111111111111,
              "#46039f"
             ],
             [
              0.2222222222222222,
              "#7201a8"
             ],
             [
              0.3333333333333333,
              "#9c179e"
             ],
             [
              0.4444444444444444,
              "#bd3786"
             ],
             [
              0.5555555555555556,
              "#d8576b"
             ],
             [
              0.6666666666666666,
              "#ed7953"
             ],
             [
              0.7777777777777778,
              "#fb9f3a"
             ],
             [
              0.8888888888888888,
              "#fdca26"
             ],
             [
              1,
              "#f0f921"
             ]
            ],
            "type": "contour"
           }
          ],
          "contourcarpet": [
           {
            "colorbar": {
             "outlinewidth": 0,
             "ticks": ""
            },
            "type": "contourcarpet"
           }
          ],
          "heatmap": [
           {
            "colorbar": {
             "outlinewidth": 0,
             "ticks": ""
            },
            "colorscale": [
             [
              0,
              "#0d0887"
             ],
             [
              0.1111111111111111,
              "#46039f"
             ],
             [
              0.2222222222222222,
              "#7201a8"
             ],
             [
              0.3333333333333333,
              "#9c179e"
             ],
             [
              0.4444444444444444,
              "#bd3786"
             ],
             [
              0.5555555555555556,
              "#d8576b"
             ],
             [
              0.6666666666666666,
              "#ed7953"
             ],
             [
              0.7777777777777778,
              "#fb9f3a"
             ],
             [
              0.8888888888888888,
              "#fdca26"
             ],
             [
              1,
              "#f0f921"
             ]
            ],
            "type": "heatmap"
           }
          ],
          "histogram": [
           {
            "marker": {
             "pattern": {
              "fillmode": "overlay",
              "size": 10,
              "solidity": 0.2
             }
            },
            "type": "histogram"
           }
          ],
          "histogram2d": [
           {
            "colorbar": {
             "outlinewidth": 0,
             "ticks": ""
            },
            "colorscale": [
             [
              0,
              "#0d0887"
             ],
             [
              0.1111111111111111,
              "#46039f"
             ],
             [
              0.2222222222222222,
              "#7201a8"
             ],
             [
              0.3333333333333333,
              "#9c179e"
             ],
             [
              0.4444444444444444,
              "#bd3786"
             ],
             [
              0.5555555555555556,
              "#d8576b"
             ],
             [
              0.6666666666666666,
              "#ed7953"
             ],
             [
              0.7777777777777778,
              "#fb9f3a"
             ],
             [
              0.8888888888888888,
              "#fdca26"
             ],
             [
              1,
              "#f0f921"
             ]
            ],
            "type": "histogram2d"
           }
          ],
          "histogram2dcontour": [
           {
            "colorbar": {
             "outlinewidth": 0,
             "ticks": ""
            },
            "colorscale": [
             [
              0,
              "#0d0887"
             ],
             [
              0.1111111111111111,
              "#46039f"
             ],
             [
              0.2222222222222222,
              "#7201a8"
             ],
             [
              0.3333333333333333,
              "#9c179e"
             ],
             [
              0.4444444444444444,
              "#bd3786"
             ],
             [
              0.5555555555555556,
              "#d8576b"
             ],
             [
              0.6666666666666666,
              "#ed7953"
             ],
             [
              0.7777777777777778,
              "#fb9f3a"
             ],
             [
              0.8888888888888888,
              "#fdca26"
             ],
             [
              1,
              "#f0f921"
             ]
            ],
            "type": "histogram2dcontour"
           }
          ],
          "mesh3d": [
           {
            "colorbar": {
             "outlinewidth": 0,
             "ticks": ""
            },
            "type": "mesh3d"
           }
          ],
          "parcoords": [
           {
            "line": {
             "colorbar": {
              "outlinewidth": 0,
              "ticks": ""
             }
            },
            "type": "parcoords"
           }
          ],
          "pie": [
           {
            "automargin": true,
            "type": "pie"
           }
          ],
          "scatter": [
           {
            "fillpattern": {
             "fillmode": "overlay",
             "size": 10,
             "solidity": 0.2
            },
            "type": "scatter"
           }
          ],
          "scatter3d": [
           {
            "line": {
             "colorbar": {
              "outlinewidth": 0,
              "ticks": ""
             }
            },
            "marker": {
             "colorbar": {
              "outlinewidth": 0,
              "ticks": ""
             }
            },
            "type": "scatter3d"
           }
          ],
          "scattercarpet": [
           {
            "marker": {
             "colorbar": {
              "outlinewidth": 0,
              "ticks": ""
             }
            },
            "type": "scattercarpet"
           }
          ],
          "scattergeo": [
           {
            "marker": {
             "colorbar": {
              "outlinewidth": 0,
              "ticks": ""
             }
            },
            "type": "scattergeo"
           }
          ],
          "scattergl": [
           {
            "marker": {
             "colorbar": {
              "outlinewidth": 0,
              "ticks": ""
             }
            },
            "type": "scattergl"
           }
          ],
          "scattermap": [
           {
            "marker": {
             "colorbar": {
              "outlinewidth": 0,
              "ticks": ""
             }
            },
            "type": "scattermap"
           }
          ],
          "scattermapbox": [
           {
            "marker": {
             "colorbar": {
              "outlinewidth": 0,
              "ticks": ""
             }
            },
            "type": "scattermapbox"
           }
          ],
          "scatterpolar": [
           {
            "marker": {
             "colorbar": {
              "outlinewidth": 0,
              "ticks": ""
             }
            },
            "type": "scatterpolar"
           }
          ],
          "scatterpolargl": [
           {
            "marker": {
             "colorbar": {
              "outlinewidth": 0,
              "ticks": ""
             }
            },
            "type": "scatterpolargl"
           }
          ],
          "scatterternary": [
           {
            "marker": {
             "colorbar": {
              "outlinewidth": 0,
              "ticks": ""
             }
            },
            "type": "scatterternary"
           }
          ],
          "surface": [
           {
            "colorbar": {
             "outlinewidth": 0,
             "ticks": ""
            },
            "colorscale": [
             [
              0,
              "#0d0887"
             ],
             [
              0.1111111111111111,
              "#46039f"
             ],
             [
              0.2222222222222222,
              "#7201a8"
             ],
             [
              0.3333333333333333,
              "#9c179e"
             ],
             [
              0.4444444444444444,
              "#bd3786"
             ],
             [
              0.5555555555555556,
              "#d8576b"
             ],
             [
              0.6666666666666666,
              "#ed7953"
             ],
             [
              0.7777777777777778,
              "#fb9f3a"
             ],
             [
              0.8888888888888888,
              "#fdca26"
             ],
             [
              1,
              "#f0f921"
             ]
            ],
            "type": "surface"
           }
          ],
          "table": [
           {
            "cells": {
             "fill": {
              "color": "#EBF0F8"
             },
             "line": {
              "color": "white"
             }
            },
            "header": {
             "fill": {
              "color": "#C8D4E3"
             },
             "line": {
              "color": "white"
             }
            },
            "type": "table"
           }
          ]
         },
         "layout": {
          "annotationdefaults": {
           "arrowcolor": "#2a3f5f",
           "arrowhead": 0,
           "arrowwidth": 1
          },
          "autotypenumbers": "strict",
          "coloraxis": {
           "colorbar": {
            "outlinewidth": 0,
            "ticks": ""
           }
          },
          "colorscale": {
           "diverging": [
            [
             0,
             "#8e0152"
            ],
            [
             0.1,
             "#c51b7d"
            ],
            [
             0.2,
             "#de77ae"
            ],
            [
             0.3,
             "#f1b6da"
            ],
            [
             0.4,
             "#fde0ef"
            ],
            [
             0.5,
             "#f7f7f7"
            ],
            [
             0.6,
             "#e6f5d0"
            ],
            [
             0.7,
             "#b8e186"
            ],
            [
             0.8,
             "#7fbc41"
            ],
            [
             0.9,
             "#4d9221"
            ],
            [
             1,
             "#276419"
            ]
           ],
           "sequential": [
            [
             0,
             "#0d0887"
            ],
            [
             0.1111111111111111,
             "#46039f"
            ],
            [
             0.2222222222222222,
             "#7201a8"
            ],
            [
             0.3333333333333333,
             "#9c179e"
            ],
            [
             0.4444444444444444,
             "#bd3786"
            ],
            [
             0.5555555555555556,
             "#d8576b"
            ],
            [
             0.6666666666666666,
             "#ed7953"
            ],
            [
             0.7777777777777778,
             "#fb9f3a"
            ],
            [
             0.8888888888888888,
             "#fdca26"
            ],
            [
             1,
             "#f0f921"
            ]
           ],
           "sequentialminus": [
            [
             0,
             "#0d0887"
            ],
            [
             0.1111111111111111,
             "#46039f"
            ],
            [
             0.2222222222222222,
             "#7201a8"
            ],
            [
             0.3333333333333333,
             "#9c179e"
            ],
            [
             0.4444444444444444,
             "#bd3786"
            ],
            [
             0.5555555555555556,
             "#d8576b"
            ],
            [
             0.6666666666666666,
             "#ed7953"
            ],
            [
             0.7777777777777778,
             "#fb9f3a"
            ],
            [
             0.8888888888888888,
             "#fdca26"
            ],
            [
             1,
             "#f0f921"
            ]
           ]
          },
          "colorway": [
           "#636efa",
           "#EF553B",
           "#00cc96",
           "#ab63fa",
           "#FFA15A",
           "#19d3f3",
           "#FF6692",
           "#B6E880",
           "#FF97FF",
           "#FECB52"
          ],
          "font": {
           "color": "#2a3f5f"
          },
          "geo": {
           "bgcolor": "white",
           "lakecolor": "white",
           "landcolor": "#E5ECF6",
           "showlakes": true,
           "showland": true,
           "subunitcolor": "white"
          },
          "hoverlabel": {
           "align": "left"
          },
          "hovermode": "closest",
          "mapbox": {
           "style": "light"
          },
          "paper_bgcolor": "white",
          "plot_bgcolor": "#E5ECF6",
          "polar": {
           "angularaxis": {
            "gridcolor": "white",
            "linecolor": "white",
            "ticks": ""
           },
           "bgcolor": "#E5ECF6",
           "radialaxis": {
            "gridcolor": "white",
            "linecolor": "white",
            "ticks": ""
           }
          },
          "scene": {
           "xaxis": {
            "backgroundcolor": "#E5ECF6",
            "gridcolor": "white",
            "gridwidth": 2,
            "linecolor": "white",
            "showbackground": true,
            "ticks": "",
            "zerolinecolor": "white"
           },
           "yaxis": {
            "backgroundcolor": "#E5ECF6",
            "gridcolor": "white",
            "gridwidth": 2,
            "linecolor": "white",
            "showbackground": true,
            "ticks": "",
            "zerolinecolor": "white"
           },
           "zaxis": {
            "backgroundcolor": "#E5ECF6",
            "gridcolor": "white",
            "gridwidth": 2,
            "linecolor": "white",
            "showbackground": true,
            "ticks": "",
            "zerolinecolor": "white"
           }
          },
          "shapedefaults": {
           "line": {
            "color": "#2a3f5f"
           }
          },
          "ternary": {
           "aaxis": {
            "gridcolor": "white",
            "linecolor": "white",
            "ticks": ""
           },
           "baxis": {
            "gridcolor": "white",
            "linecolor": "white",
            "ticks": ""
           },
           "bgcolor": "#E5ECF6",
           "caxis": {
            "gridcolor": "white",
            "linecolor": "white",
            "ticks": ""
           }
          },
          "title": {
           "x": 0.05
          },
          "xaxis": {
           "automargin": true,
           "gridcolor": "white",
           "linecolor": "white",
           "ticks": "",
           "title": {
            "standoff": 15
           },
           "zerolinecolor": "white",
           "zerolinewidth": 2
          },
          "yaxis": {
           "automargin": true,
           "gridcolor": "white",
           "linecolor": "white",
           "ticks": "",
           "title": {
            "standoff": 15
           },
           "zerolinecolor": "white",
           "zerolinewidth": 2
          }
         }
        },
        "width": 1000,
        "xaxis": {
         "anchor": "y",
         "domain": [
          0,
          1
         ],
         "title": {
          "text": "Floor_area"
         }
        },
        "yaxis": {
         "anchor": "x",
         "domain": [
          0,
          1
         ]
        }
       }
      }
     },
     "metadata": {},
     "output_type": "display_data"
    }
   ],
   "source": [
    "px.box(df,x='Floor_area',width=1000,height=500)"
   ]
  },
  {
   "cell_type": "markdown",
   "id": "e305a555",
   "metadata": {},
   "source": [
    "# City"
   ]
  },
  {
   "cell_type": "code",
   "execution_count": 13,
   "id": "c765d9f6",
   "metadata": {},
   "outputs": [
    {
     "data": {
      "text/plain": [
       "np.int64(0)"
      ]
     },
     "execution_count": 13,
     "metadata": {},
     "output_type": "execute_result"
    }
   ],
   "source": [
    "df['City'].isnull().sum()"
   ]
  },
  {
   "cell_type": "code",
   "execution_count": 14,
   "id": "8cd1228d",
   "metadata": {},
   "outputs": [
    {
     "data": {
      "application/vnd.plotly.v1+json": {
       "config": {
        "plotlyServerURL": "https://plot.ly"
       },
       "data": [
        {
         "domain": {
          "x": [
           0,
           1
          ],
          "y": [
           0,
           1
          ]
         },
         "hole": 0.2,
         "hovertemplate": "label=%{label}<br>count=%{value}<extra></extra>",
         "labels": [
          "dhaka",
          "chattogram",
          "narayanganj",
          "gazipur",
          "cumilla"
         ],
         "legendgroup": "",
         "name": "",
         "showlegend": true,
         "type": "pie",
         "values": {
          "bdata": "bQa1BZ4BtACRAA==",
          "dtype": "i2"
         }
        }
       ],
       "layout": {
        "height": 600,
        "legend": {
         "tracegroupgap": 0
        },
        "margin": {
         "t": 60
        },
        "template": {
         "data": {
          "bar": [
           {
            "error_x": {
             "color": "#2a3f5f"
            },
            "error_y": {
             "color": "#2a3f5f"
            },
            "marker": {
             "line": {
              "color": "#E5ECF6",
              "width": 0.5
             },
             "pattern": {
              "fillmode": "overlay",
              "size": 10,
              "solidity": 0.2
             }
            },
            "type": "bar"
           }
          ],
          "barpolar": [
           {
            "marker": {
             "line": {
              "color": "#E5ECF6",
              "width": 0.5
             },
             "pattern": {
              "fillmode": "overlay",
              "size": 10,
              "solidity": 0.2
             }
            },
            "type": "barpolar"
           }
          ],
          "carpet": [
           {
            "aaxis": {
             "endlinecolor": "#2a3f5f",
             "gridcolor": "white",
             "linecolor": "white",
             "minorgridcolor": "white",
             "startlinecolor": "#2a3f5f"
            },
            "baxis": {
             "endlinecolor": "#2a3f5f",
             "gridcolor": "white",
             "linecolor": "white",
             "minorgridcolor": "white",
             "startlinecolor": "#2a3f5f"
            },
            "type": "carpet"
           }
          ],
          "choropleth": [
           {
            "colorbar": {
             "outlinewidth": 0,
             "ticks": ""
            },
            "type": "choropleth"
           }
          ],
          "contour": [
           {
            "colorbar": {
             "outlinewidth": 0,
             "ticks": ""
            },
            "colorscale": [
             [
              0,
              "#0d0887"
             ],
             [
              0.1111111111111111,
              "#46039f"
             ],
             [
              0.2222222222222222,
              "#7201a8"
             ],
             [
              0.3333333333333333,
              "#9c179e"
             ],
             [
              0.4444444444444444,
              "#bd3786"
             ],
             [
              0.5555555555555556,
              "#d8576b"
             ],
             [
              0.6666666666666666,
              "#ed7953"
             ],
             [
              0.7777777777777778,
              "#fb9f3a"
             ],
             [
              0.8888888888888888,
              "#fdca26"
             ],
             [
              1,
              "#f0f921"
             ]
            ],
            "type": "contour"
           }
          ],
          "contourcarpet": [
           {
            "colorbar": {
             "outlinewidth": 0,
             "ticks": ""
            },
            "type": "contourcarpet"
           }
          ],
          "heatmap": [
           {
            "colorbar": {
             "outlinewidth": 0,
             "ticks": ""
            },
            "colorscale": [
             [
              0,
              "#0d0887"
             ],
             [
              0.1111111111111111,
              "#46039f"
             ],
             [
              0.2222222222222222,
              "#7201a8"
             ],
             [
              0.3333333333333333,
              "#9c179e"
             ],
             [
              0.4444444444444444,
              "#bd3786"
             ],
             [
              0.5555555555555556,
              "#d8576b"
             ],
             [
              0.6666666666666666,
              "#ed7953"
             ],
             [
              0.7777777777777778,
              "#fb9f3a"
             ],
             [
              0.8888888888888888,
              "#fdca26"
             ],
             [
              1,
              "#f0f921"
             ]
            ],
            "type": "heatmap"
           }
          ],
          "histogram": [
           {
            "marker": {
             "pattern": {
              "fillmode": "overlay",
              "size": 10,
              "solidity": 0.2
             }
            },
            "type": "histogram"
           }
          ],
          "histogram2d": [
           {
            "colorbar": {
             "outlinewidth": 0,
             "ticks": ""
            },
            "colorscale": [
             [
              0,
              "#0d0887"
             ],
             [
              0.1111111111111111,
              "#46039f"
             ],
             [
              0.2222222222222222,
              "#7201a8"
             ],
             [
              0.3333333333333333,
              "#9c179e"
             ],
             [
              0.4444444444444444,
              "#bd3786"
             ],
             [
              0.5555555555555556,
              "#d8576b"
             ],
             [
              0.6666666666666666,
              "#ed7953"
             ],
             [
              0.7777777777777778,
              "#fb9f3a"
             ],
             [
              0.8888888888888888,
              "#fdca26"
             ],
             [
              1,
              "#f0f921"
             ]
            ],
            "type": "histogram2d"
           }
          ],
          "histogram2dcontour": [
           {
            "colorbar": {
             "outlinewidth": 0,
             "ticks": ""
            },
            "colorscale": [
             [
              0,
              "#0d0887"
             ],
             [
              0.1111111111111111,
              "#46039f"
             ],
             [
              0.2222222222222222,
              "#7201a8"
             ],
             [
              0.3333333333333333,
              "#9c179e"
             ],
             [
              0.4444444444444444,
              "#bd3786"
             ],
             [
              0.5555555555555556,
              "#d8576b"
             ],
             [
              0.6666666666666666,
              "#ed7953"
             ],
             [
              0.7777777777777778,
              "#fb9f3a"
             ],
             [
              0.8888888888888888,
              "#fdca26"
             ],
             [
              1,
              "#f0f921"
             ]
            ],
            "type": "histogram2dcontour"
           }
          ],
          "mesh3d": [
           {
            "colorbar": {
             "outlinewidth": 0,
             "ticks": ""
            },
            "type": "mesh3d"
           }
          ],
          "parcoords": [
           {
            "line": {
             "colorbar": {
              "outlinewidth": 0,
              "ticks": ""
             }
            },
            "type": "parcoords"
           }
          ],
          "pie": [
           {
            "automargin": true,
            "type": "pie"
           }
          ],
          "scatter": [
           {
            "fillpattern": {
             "fillmode": "overlay",
             "size": 10,
             "solidity": 0.2
            },
            "type": "scatter"
           }
          ],
          "scatter3d": [
           {
            "line": {
             "colorbar": {
              "outlinewidth": 0,
              "ticks": ""
             }
            },
            "marker": {
             "colorbar": {
              "outlinewidth": 0,
              "ticks": ""
             }
            },
            "type": "scatter3d"
           }
          ],
          "scattercarpet": [
           {
            "marker": {
             "colorbar": {
              "outlinewidth": 0,
              "ticks": ""
             }
            },
            "type": "scattercarpet"
           }
          ],
          "scattergeo": [
           {
            "marker": {
             "colorbar": {
              "outlinewidth": 0,
              "ticks": ""
             }
            },
            "type": "scattergeo"
           }
          ],
          "scattergl": [
           {
            "marker": {
             "colorbar": {
              "outlinewidth": 0,
              "ticks": ""
             }
            },
            "type": "scattergl"
           }
          ],
          "scattermap": [
           {
            "marker": {
             "colorbar": {
              "outlinewidth": 0,
              "ticks": ""
             }
            },
            "type": "scattermap"
           }
          ],
          "scattermapbox": [
           {
            "marker": {
             "colorbar": {
              "outlinewidth": 0,
              "ticks": ""
             }
            },
            "type": "scattermapbox"
           }
          ],
          "scatterpolar": [
           {
            "marker": {
             "colorbar": {
              "outlinewidth": 0,
              "ticks": ""
             }
            },
            "type": "scatterpolar"
           }
          ],
          "scatterpolargl": [
           {
            "marker": {
             "colorbar": {
              "outlinewidth": 0,
              "ticks": ""
             }
            },
            "type": "scatterpolargl"
           }
          ],
          "scatterternary": [
           {
            "marker": {
             "colorbar": {
              "outlinewidth": 0,
              "ticks": ""
             }
            },
            "type": "scatterternary"
           }
          ],
          "surface": [
           {
            "colorbar": {
             "outlinewidth": 0,
             "ticks": ""
            },
            "colorscale": [
             [
              0,
              "#0d0887"
             ],
             [
              0.1111111111111111,
              "#46039f"
             ],
             [
              0.2222222222222222,
              "#7201a8"
             ],
             [
              0.3333333333333333,
              "#9c179e"
             ],
             [
              0.4444444444444444,
              "#bd3786"
             ],
             [
              0.5555555555555556,
              "#d8576b"
             ],
             [
              0.6666666666666666,
              "#ed7953"
             ],
             [
              0.7777777777777778,
              "#fb9f3a"
             ],
             [
              0.8888888888888888,
              "#fdca26"
             ],
             [
              1,
              "#f0f921"
             ]
            ],
            "type": "surface"
           }
          ],
          "table": [
           {
            "cells": {
             "fill": {
              "color": "#EBF0F8"
             },
             "line": {
              "color": "white"
             }
            },
            "header": {
             "fill": {
              "color": "#C8D4E3"
             },
             "line": {
              "color": "white"
             }
            },
            "type": "table"
           }
          ]
         },
         "layout": {
          "annotationdefaults": {
           "arrowcolor": "#2a3f5f",
           "arrowhead": 0,
           "arrowwidth": 1
          },
          "autotypenumbers": "strict",
          "coloraxis": {
           "colorbar": {
            "outlinewidth": 0,
            "ticks": ""
           }
          },
          "colorscale": {
           "diverging": [
            [
             0,
             "#8e0152"
            ],
            [
             0.1,
             "#c51b7d"
            ],
            [
             0.2,
             "#de77ae"
            ],
            [
             0.3,
             "#f1b6da"
            ],
            [
             0.4,
             "#fde0ef"
            ],
            [
             0.5,
             "#f7f7f7"
            ],
            [
             0.6,
             "#e6f5d0"
            ],
            [
             0.7,
             "#b8e186"
            ],
            [
             0.8,
             "#7fbc41"
            ],
            [
             0.9,
             "#4d9221"
            ],
            [
             1,
             "#276419"
            ]
           ],
           "sequential": [
            [
             0,
             "#0d0887"
            ],
            [
             0.1111111111111111,
             "#46039f"
            ],
            [
             0.2222222222222222,
             "#7201a8"
            ],
            [
             0.3333333333333333,
             "#9c179e"
            ],
            [
             0.4444444444444444,
             "#bd3786"
            ],
            [
             0.5555555555555556,
             "#d8576b"
            ],
            [
             0.6666666666666666,
             "#ed7953"
            ],
            [
             0.7777777777777778,
             "#fb9f3a"
            ],
            [
             0.8888888888888888,
             "#fdca26"
            ],
            [
             1,
             "#f0f921"
            ]
           ],
           "sequentialminus": [
            [
             0,
             "#0d0887"
            ],
            [
             0.1111111111111111,
             "#46039f"
            ],
            [
             0.2222222222222222,
             "#7201a8"
            ],
            [
             0.3333333333333333,
             "#9c179e"
            ],
            [
             0.4444444444444444,
             "#bd3786"
            ],
            [
             0.5555555555555556,
             "#d8576b"
            ],
            [
             0.6666666666666666,
             "#ed7953"
            ],
            [
             0.7777777777777778,
             "#fb9f3a"
            ],
            [
             0.8888888888888888,
             "#fdca26"
            ],
            [
             1,
             "#f0f921"
            ]
           ]
          },
          "colorway": [
           "#636efa",
           "#EF553B",
           "#00cc96",
           "#ab63fa",
           "#FFA15A",
           "#19d3f3",
           "#FF6692",
           "#B6E880",
           "#FF97FF",
           "#FECB52"
          ],
          "font": {
           "color": "#2a3f5f"
          },
          "geo": {
           "bgcolor": "white",
           "lakecolor": "white",
           "landcolor": "#E5ECF6",
           "showlakes": true,
           "showland": true,
           "subunitcolor": "white"
          },
          "hoverlabel": {
           "align": "left"
          },
          "hovermode": "closest",
          "mapbox": {
           "style": "light"
          },
          "paper_bgcolor": "white",
          "plot_bgcolor": "#E5ECF6",
          "polar": {
           "angularaxis": {
            "gridcolor": "white",
            "linecolor": "white",
            "ticks": ""
           },
           "bgcolor": "#E5ECF6",
           "radialaxis": {
            "gridcolor": "white",
            "linecolor": "white",
            "ticks": ""
           }
          },
          "scene": {
           "xaxis": {
            "backgroundcolor": "#E5ECF6",
            "gridcolor": "white",
            "gridwidth": 2,
            "linecolor": "white",
            "showbackground": true,
            "ticks": "",
            "zerolinecolor": "white"
           },
           "yaxis": {
            "backgroundcolor": "#E5ECF6",
            "gridcolor": "white",
            "gridwidth": 2,
            "linecolor": "white",
            "showbackground": true,
            "ticks": "",
            "zerolinecolor": "white"
           },
           "zaxis": {
            "backgroundcolor": "#E5ECF6",
            "gridcolor": "white",
            "gridwidth": 2,
            "linecolor": "white",
            "showbackground": true,
            "ticks": "",
            "zerolinecolor": "white"
           }
          },
          "shapedefaults": {
           "line": {
            "color": "#2a3f5f"
           }
          },
          "ternary": {
           "aaxis": {
            "gridcolor": "white",
            "linecolor": "white",
            "ticks": ""
           },
           "baxis": {
            "gridcolor": "white",
            "linecolor": "white",
            "ticks": ""
           },
           "bgcolor": "#E5ECF6",
           "caxis": {
            "gridcolor": "white",
            "linecolor": "white",
            "ticks": ""
           }
          },
          "title": {
           "x": 0.05
          },
          "xaxis": {
           "automargin": true,
           "gridcolor": "white",
           "linecolor": "white",
           "ticks": "",
           "title": {
            "standoff": 15
           },
           "zerolinecolor": "white",
           "zerolinewidth": 2
          },
          "yaxis": {
           "automargin": true,
           "gridcolor": "white",
           "linecolor": "white",
           "ticks": "",
           "title": {
            "standoff": 15
           },
           "zerolinecolor": "white",
           "zerolinewidth": 2
          }
         }
        },
        "width": 600
       }
      }
     },
     "metadata": {},
     "output_type": "display_data"
    }
   ],
   "source": [
    "px.pie(df['City'].value_counts(),values=df['City'].value_counts(),names=df['City'].value_counts().index,hole=0.2,width=600,height=600).show()"
   ]
  },
  {
   "cell_type": "markdown",
   "id": "c98671e0",
   "metadata": {},
   "source": [
    "# location_area\n",
    "(1) 37 missing values  \n",
    "(2) Mirpur has the highest number of flats"
   ]
  },
  {
   "cell_type": "code",
   "execution_count": 15,
   "id": "2120d887",
   "metadata": {},
   "outputs": [
    {
     "data": {
      "text/plain": [
       "np.int64(37)"
      ]
     },
     "execution_count": 15,
     "metadata": {},
     "output_type": "execute_result"
    }
   ],
   "source": [
    "df['location_area'].isnull().sum()"
   ]
  },
  {
   "cell_type": "code",
   "execution_count": 16,
   "id": "1ebf58d2",
   "metadata": {},
   "outputs": [
    {
     "data": {
      "application/vnd.plotly.v1+json": {
       "config": {
        "plotlyServerURL": "https://plot.ly"
       },
       "data": [
        {
         "domain": {
          "x": [
           0,
           1
          ],
          "y": [
           0,
           1
          ]
         },
         "hole": 0.2,
         "hovertemplate": "label=%{label}<br>count=%{value}<extra></extra>",
         "labels": [
          "mirpur",
          "narayanganj",
          "bashundhara",
          "bakalia",
          "north pahartali ward",
          "double mooring",
          "gazipur sadar upazila",
          "bayazid",
          "chandgaon ward",
          "uttara"
         ],
         "legendgroup": "",
         "name": "",
         "showlegend": true,
         "type": "pie",
         "values": {
          "bdata": "VwKVAb0AswCwAK4ArQCBAIAAfwA=",
          "dtype": "i2"
         }
        }
       ],
       "layout": {
        "height": 600,
        "legend": {
         "tracegroupgap": 0
        },
        "margin": {
         "t": 60
        },
        "template": {
         "data": {
          "bar": [
           {
            "error_x": {
             "color": "#2a3f5f"
            },
            "error_y": {
             "color": "#2a3f5f"
            },
            "marker": {
             "line": {
              "color": "#E5ECF6",
              "width": 0.5
             },
             "pattern": {
              "fillmode": "overlay",
              "size": 10,
              "solidity": 0.2
             }
            },
            "type": "bar"
           }
          ],
          "barpolar": [
           {
            "marker": {
             "line": {
              "color": "#E5ECF6",
              "width": 0.5
             },
             "pattern": {
              "fillmode": "overlay",
              "size": 10,
              "solidity": 0.2
             }
            },
            "type": "barpolar"
           }
          ],
          "carpet": [
           {
            "aaxis": {
             "endlinecolor": "#2a3f5f",
             "gridcolor": "white",
             "linecolor": "white",
             "minorgridcolor": "white",
             "startlinecolor": "#2a3f5f"
            },
            "baxis": {
             "endlinecolor": "#2a3f5f",
             "gridcolor": "white",
             "linecolor": "white",
             "minorgridcolor": "white",
             "startlinecolor": "#2a3f5f"
            },
            "type": "carpet"
           }
          ],
          "choropleth": [
           {
            "colorbar": {
             "outlinewidth": 0,
             "ticks": ""
            },
            "type": "choropleth"
           }
          ],
          "contour": [
           {
            "colorbar": {
             "outlinewidth": 0,
             "ticks": ""
            },
            "colorscale": [
             [
              0,
              "#0d0887"
             ],
             [
              0.1111111111111111,
              "#46039f"
             ],
             [
              0.2222222222222222,
              "#7201a8"
             ],
             [
              0.3333333333333333,
              "#9c179e"
             ],
             [
              0.4444444444444444,
              "#bd3786"
             ],
             [
              0.5555555555555556,
              "#d8576b"
             ],
             [
              0.6666666666666666,
              "#ed7953"
             ],
             [
              0.7777777777777778,
              "#fb9f3a"
             ],
             [
              0.8888888888888888,
              "#fdca26"
             ],
             [
              1,
              "#f0f921"
             ]
            ],
            "type": "contour"
           }
          ],
          "contourcarpet": [
           {
            "colorbar": {
             "outlinewidth": 0,
             "ticks": ""
            },
            "type": "contourcarpet"
           }
          ],
          "heatmap": [
           {
            "colorbar": {
             "outlinewidth": 0,
             "ticks": ""
            },
            "colorscale": [
             [
              0,
              "#0d0887"
             ],
             [
              0.1111111111111111,
              "#46039f"
             ],
             [
              0.2222222222222222,
              "#7201a8"
             ],
             [
              0.3333333333333333,
              "#9c179e"
             ],
             [
              0.4444444444444444,
              "#bd3786"
             ],
             [
              0.5555555555555556,
              "#d8576b"
             ],
             [
              0.6666666666666666,
              "#ed7953"
             ],
             [
              0.7777777777777778,
              "#fb9f3a"
             ],
             [
              0.8888888888888888,
              "#fdca26"
             ],
             [
              1,
              "#f0f921"
             ]
            ],
            "type": "heatmap"
           }
          ],
          "histogram": [
           {
            "marker": {
             "pattern": {
              "fillmode": "overlay",
              "size": 10,
              "solidity": 0.2
             }
            },
            "type": "histogram"
           }
          ],
          "histogram2d": [
           {
            "colorbar": {
             "outlinewidth": 0,
             "ticks": ""
            },
            "colorscale": [
             [
              0,
              "#0d0887"
             ],
             [
              0.1111111111111111,
              "#46039f"
             ],
             [
              0.2222222222222222,
              "#7201a8"
             ],
             [
              0.3333333333333333,
              "#9c179e"
             ],
             [
              0.4444444444444444,
              "#bd3786"
             ],
             [
              0.5555555555555556,
              "#d8576b"
             ],
             [
              0.6666666666666666,
              "#ed7953"
             ],
             [
              0.7777777777777778,
              "#fb9f3a"
             ],
             [
              0.8888888888888888,
              "#fdca26"
             ],
             [
              1,
              "#f0f921"
             ]
            ],
            "type": "histogram2d"
           }
          ],
          "histogram2dcontour": [
           {
            "colorbar": {
             "outlinewidth": 0,
             "ticks": ""
            },
            "colorscale": [
             [
              0,
              "#0d0887"
             ],
             [
              0.1111111111111111,
              "#46039f"
             ],
             [
              0.2222222222222222,
              "#7201a8"
             ],
             [
              0.3333333333333333,
              "#9c179e"
             ],
             [
              0.4444444444444444,
              "#bd3786"
             ],
             [
              0.5555555555555556,
              "#d8576b"
             ],
             [
              0.6666666666666666,
              "#ed7953"
             ],
             [
              0.7777777777777778,
              "#fb9f3a"
             ],
             [
              0.8888888888888888,
              "#fdca26"
             ],
             [
              1,
              "#f0f921"
             ]
            ],
            "type": "histogram2dcontour"
           }
          ],
          "mesh3d": [
           {
            "colorbar": {
             "outlinewidth": 0,
             "ticks": ""
            },
            "type": "mesh3d"
           }
          ],
          "parcoords": [
           {
            "line": {
             "colorbar": {
              "outlinewidth": 0,
              "ticks": ""
             }
            },
            "type": "parcoords"
           }
          ],
          "pie": [
           {
            "automargin": true,
            "type": "pie"
           }
          ],
          "scatter": [
           {
            "fillpattern": {
             "fillmode": "overlay",
             "size": 10,
             "solidity": 0.2
            },
            "type": "scatter"
           }
          ],
          "scatter3d": [
           {
            "line": {
             "colorbar": {
              "outlinewidth": 0,
              "ticks": ""
             }
            },
            "marker": {
             "colorbar": {
              "outlinewidth": 0,
              "ticks": ""
             }
            },
            "type": "scatter3d"
           }
          ],
          "scattercarpet": [
           {
            "marker": {
             "colorbar": {
              "outlinewidth": 0,
              "ticks": ""
             }
            },
            "type": "scattercarpet"
           }
          ],
          "scattergeo": [
           {
            "marker": {
             "colorbar": {
              "outlinewidth": 0,
              "ticks": ""
             }
            },
            "type": "scattergeo"
           }
          ],
          "scattergl": [
           {
            "marker": {
             "colorbar": {
              "outlinewidth": 0,
              "ticks": ""
             }
            },
            "type": "scattergl"
           }
          ],
          "scattermap": [
           {
            "marker": {
             "colorbar": {
              "outlinewidth": 0,
              "ticks": ""
             }
            },
            "type": "scattermap"
           }
          ],
          "scattermapbox": [
           {
            "marker": {
             "colorbar": {
              "outlinewidth": 0,
              "ticks": ""
             }
            },
            "type": "scattermapbox"
           }
          ],
          "scatterpolar": [
           {
            "marker": {
             "colorbar": {
              "outlinewidth": 0,
              "ticks": ""
             }
            },
            "type": "scatterpolar"
           }
          ],
          "scatterpolargl": [
           {
            "marker": {
             "colorbar": {
              "outlinewidth": 0,
              "ticks": ""
             }
            },
            "type": "scatterpolargl"
           }
          ],
          "scatterternary": [
           {
            "marker": {
             "colorbar": {
              "outlinewidth": 0,
              "ticks": ""
             }
            },
            "type": "scatterternary"
           }
          ],
          "surface": [
           {
            "colorbar": {
             "outlinewidth": 0,
             "ticks": ""
            },
            "colorscale": [
             [
              0,
              "#0d0887"
             ],
             [
              0.1111111111111111,
              "#46039f"
             ],
             [
              0.2222222222222222,
              "#7201a8"
             ],
             [
              0.3333333333333333,
              "#9c179e"
             ],
             [
              0.4444444444444444,
              "#bd3786"
             ],
             [
              0.5555555555555556,
              "#d8576b"
             ],
             [
              0.6666666666666666,
              "#ed7953"
             ],
             [
              0.7777777777777778,
              "#fb9f3a"
             ],
             [
              0.8888888888888888,
              "#fdca26"
             ],
             [
              1,
              "#f0f921"
             ]
            ],
            "type": "surface"
           }
          ],
          "table": [
           {
            "cells": {
             "fill": {
              "color": "#EBF0F8"
             },
             "line": {
              "color": "white"
             }
            },
            "header": {
             "fill": {
              "color": "#C8D4E3"
             },
             "line": {
              "color": "white"
             }
            },
            "type": "table"
           }
          ]
         },
         "layout": {
          "annotationdefaults": {
           "arrowcolor": "#2a3f5f",
           "arrowhead": 0,
           "arrowwidth": 1
          },
          "autotypenumbers": "strict",
          "coloraxis": {
           "colorbar": {
            "outlinewidth": 0,
            "ticks": ""
           }
          },
          "colorscale": {
           "diverging": [
            [
             0,
             "#8e0152"
            ],
            [
             0.1,
             "#c51b7d"
            ],
            [
             0.2,
             "#de77ae"
            ],
            [
             0.3,
             "#f1b6da"
            ],
            [
             0.4,
             "#fde0ef"
            ],
            [
             0.5,
             "#f7f7f7"
            ],
            [
             0.6,
             "#e6f5d0"
            ],
            [
             0.7,
             "#b8e186"
            ],
            [
             0.8,
             "#7fbc41"
            ],
            [
             0.9,
             "#4d9221"
            ],
            [
             1,
             "#276419"
            ]
           ],
           "sequential": [
            [
             0,
             "#0d0887"
            ],
            [
             0.1111111111111111,
             "#46039f"
            ],
            [
             0.2222222222222222,
             "#7201a8"
            ],
            [
             0.3333333333333333,
             "#9c179e"
            ],
            [
             0.4444444444444444,
             "#bd3786"
            ],
            [
             0.5555555555555556,
             "#d8576b"
            ],
            [
             0.6666666666666666,
             "#ed7953"
            ],
            [
             0.7777777777777778,
             "#fb9f3a"
            ],
            [
             0.8888888888888888,
             "#fdca26"
            ],
            [
             1,
             "#f0f921"
            ]
           ],
           "sequentialminus": [
            [
             0,
             "#0d0887"
            ],
            [
             0.1111111111111111,
             "#46039f"
            ],
            [
             0.2222222222222222,
             "#7201a8"
            ],
            [
             0.3333333333333333,
             "#9c179e"
            ],
            [
             0.4444444444444444,
             "#bd3786"
            ],
            [
             0.5555555555555556,
             "#d8576b"
            ],
            [
             0.6666666666666666,
             "#ed7953"
            ],
            [
             0.7777777777777778,
             "#fb9f3a"
            ],
            [
             0.8888888888888888,
             "#fdca26"
            ],
            [
             1,
             "#f0f921"
            ]
           ]
          },
          "colorway": [
           "#636efa",
           "#EF553B",
           "#00cc96",
           "#ab63fa",
           "#FFA15A",
           "#19d3f3",
           "#FF6692",
           "#B6E880",
           "#FF97FF",
           "#FECB52"
          ],
          "font": {
           "color": "#2a3f5f"
          },
          "geo": {
           "bgcolor": "white",
           "lakecolor": "white",
           "landcolor": "#E5ECF6",
           "showlakes": true,
           "showland": true,
           "subunitcolor": "white"
          },
          "hoverlabel": {
           "align": "left"
          },
          "hovermode": "closest",
          "mapbox": {
           "style": "light"
          },
          "paper_bgcolor": "white",
          "plot_bgcolor": "#E5ECF6",
          "polar": {
           "angularaxis": {
            "gridcolor": "white",
            "linecolor": "white",
            "ticks": ""
           },
           "bgcolor": "#E5ECF6",
           "radialaxis": {
            "gridcolor": "white",
            "linecolor": "white",
            "ticks": ""
           }
          },
          "scene": {
           "xaxis": {
            "backgroundcolor": "#E5ECF6",
            "gridcolor": "white",
            "gridwidth": 2,
            "linecolor": "white",
            "showbackground": true,
            "ticks": "",
            "zerolinecolor": "white"
           },
           "yaxis": {
            "backgroundcolor": "#E5ECF6",
            "gridcolor": "white",
            "gridwidth": 2,
            "linecolor": "white",
            "showbackground": true,
            "ticks": "",
            "zerolinecolor": "white"
           },
           "zaxis": {
            "backgroundcolor": "#E5ECF6",
            "gridcolor": "white",
            "gridwidth": 2,
            "linecolor": "white",
            "showbackground": true,
            "ticks": "",
            "zerolinecolor": "white"
           }
          },
          "shapedefaults": {
           "line": {
            "color": "#2a3f5f"
           }
          },
          "ternary": {
           "aaxis": {
            "gridcolor": "white",
            "linecolor": "white",
            "ticks": ""
           },
           "baxis": {
            "gridcolor": "white",
            "linecolor": "white",
            "ticks": ""
           },
           "bgcolor": "#E5ECF6",
           "caxis": {
            "gridcolor": "white",
            "linecolor": "white",
            "ticks": ""
           }
          },
          "title": {
           "x": 0.05
          },
          "xaxis": {
           "automargin": true,
           "gridcolor": "white",
           "linecolor": "white",
           "ticks": "",
           "title": {
            "standoff": 15
           },
           "zerolinecolor": "white",
           "zerolinewidth": 2
          },
          "yaxis": {
           "automargin": true,
           "gridcolor": "white",
           "linecolor": "white",
           "ticks": "",
           "title": {
            "standoff": 15
           },
           "zerolinecolor": "white",
           "zerolinewidth": 2
          }
         }
        },
        "width": 600
       }
      }
     },
     "metadata": {},
     "output_type": "display_data"
    }
   ],
   "source": [
    "fig = px.pie(df['location_area'].value_counts().head(10),values=df['location_area'].value_counts().head(10),\n",
    "             names=df['location_area'].value_counts().head(10).index,hole=0.2,width=600,height=600)\n",
    "fig.show()"
   ]
  },
  {
   "cell_type": "markdown",
   "id": "34fe3eae",
   "metadata": {},
   "source": [
    "# Price in Cr\n",
    "(1) Too many outliers"
   ]
  },
  {
   "cell_type": "code",
   "execution_count": 17,
   "id": "ee712d4e",
   "metadata": {},
   "outputs": [
    {
     "data": {
      "text/plain": [
       "np.int64(0)"
      ]
     },
     "execution_count": 17,
     "metadata": {},
     "output_type": "execute_result"
    }
   ],
   "source": [
    "df['Price_in_Cr'].isnull().sum()"
   ]
  },
  {
   "cell_type": "code",
   "execution_count": 18,
   "id": "60b890d8",
   "metadata": {},
   "outputs": [
    {
     "data": {
      "text/plain": [
       "<Axes: xlabel='Price_in_Cr', ylabel='Count'>"
      ]
     },
     "execution_count": 18,
     "metadata": {},
     "output_type": "execute_result"
    },
    {
     "data": {
      "image/png": "[encoded data removed]",
      "text/plain": [
       "<Figure size 640x480 with 1 Axes>"
      ]
     },
     "metadata": {},
     "output_type": "display_data"
    }
   ],
   "source": [
    "sns.histplot(df['Price_in_Cr'],kde=True,bins=50)"
   ]
  },
  {
   "cell_type": "code",
   "execution_count": 19,
   "id": "ee850ec1",
   "metadata": {},
   "outputs": [
    {
     "data": {
      "application/vnd.plotly.v1+json": {
       "config": {
        "plotlyServerURL": "https://plot.ly"
       },
       "data": [
        {
         "alignmentgroup": "True",
         "hovertemplate": "Price_in_Cr=%{x}<extra></extra>",
         "legendgroup": "",
         "marker": {
          "color": "#636efa"
         },
         "name": "",
         "notched": false,
         "offsetgroup": "",
         "orientation": "h",
         "showlegend": false,
         "type": "box",
         "x": {
          "bdata": "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",
          "dtype": "f8"
         },
         "x0": " ",
         "xaxis": "x",
         "y0": " ",
         "yaxis": "y"
        }
       ],
       "layout": {
        "boxmode": "group",
        "height": 500,
        "legend": {
         "tracegroupgap": 0
        },
        "margin": {
         "t": 60
        },
        "template": {
         "data": {
          "bar": [
           {
            "error_x": {
             "color": "#2a3f5f"
            },
            "error_y": {
             "color": "#2a3f5f"
            },
            "marker": {
             "line": {
              "color": "#E5ECF6",
              "width": 0.5
             },
             "pattern": {
              "fillmode": "overlay",
              "size": 10,
              "solidity": 0.2
             }
            },
            "type": "bar"
           }
          ],
          "barpolar": [
           {
            "marker": {
             "line": {
              "color": "#E5ECF6",
              "width": 0.5
             },
             "pattern": {
              "fillmode": "overlay",
              "size": 10,
              "solidity": 0.2
             }
            },
            "type": "barpolar"
           }
          ],
          "carpet": [
           {
            "aaxis": {
             "endlinecolor": "#2a3f5f",
             "gridcolor": "white",
             "linecolor": "white",
             "minorgridcolor": "white",
             "startlinecolor": "#2a3f5f"
            },
            "baxis": {
             "endlinecolor": "#2a3f5f",
             "gridcolor": "white",
             "linecolor": "white",
             "minorgridcolor": "white",
             "startlinecolor": "#2a3f5f"
            },
            "type": "carpet"
           }
          ],
          "choropleth": [
           {
            "colorbar": {
             "outlinewidth": 0,
             "ticks": ""
            },
            "type": "choropleth"
           }
          ],
          "contour": [
           {
            "colorbar": {
             "outlinewidth": 0,
             "ticks": ""
            },
            "colorscale": [
             [
              0,
              "#0d0887"
             ],
             [
              0.1111111111111111,
              "#46039f"
             ],
             [
              0.2222222222222222,
              "#7201a8"
             ],
             [
              0.3333333333333333,
              "#9c179e"
             ],
             [
              0.4444444444444444,
              "#bd3786"
             ],
             [
              0.5555555555555556,
              "#d8576b"
             ],
             [
              0.6666666666666666,
              "#ed7953"
             ],
             [
              0.7777777777777778,
              "#fb9f3a"
             ],
             [
              0.8888888888888888,
              "#fdca26"
             ],
             [
              1,
              "#f0f921"
             ]
            ],
            "type": "contour"
           }
          ],
          "contourcarpet": [
           {
            "colorbar": {
             "outlinewidth": 0,
             "ticks": ""
            },
            "type": "contourcarpet"
           }
          ],
          "heatmap": [
           {
            "colorbar": {
             "outlinewidth": 0,
             "ticks": ""
            },
            "colorscale": [
             [
              0,
              "#0d0887"
             ],
             [
              0.1111111111111111,
              "#46039f"
             ],
             [
              0.2222222222222222,
              "#7201a8"
             ],
             [
              0.3333333333333333,
              "#9c179e"
             ],
             [
              0.4444444444444444,
              "#bd3786"
             ],
             [
              0.5555555555555556,
              "#d8576b"
             ],
             [
              0.6666666666666666,
              "#ed7953"
             ],
             [
              0.7777777777777778,
              "#fb9f3a"
             ],
             [
              0.8888888888888888,
              "#fdca26"
             ],
             [
              1,
              "#f0f921"
             ]
            ],
            "type": "heatmap"
           }
          ],
          "histogram": [
           {
            "marker": {
             "pattern": {
              "fillmode": "overlay",
              "size": 10,
              "solidity": 0.2
             }
            },
            "type": "histogram"
           }
          ],
          "histogram2d": [
           {
            "colorbar": {
             "outlinewidth": 0,
             "ticks": ""
            },
            "colorscale": [
             [
              0,
              "#0d0887"
             ],
             [
              0.1111111111111111,
              "#46039f"
             ],
             [
              0.2222222222222222,
              "#7201a8"
             ],
             [
              0.3333333333333333,
              "#9c179e"
             ],
             [
              0.4444444444444444,
              "#bd3786"
             ],
             [
              0.5555555555555556,
              "#d8576b"
             ],
             [
              0.6666666666666666,
              "#ed7953"
             ],
             [
              0.7777777777777778,
              "#fb9f3a"
             ],
             [
              0.8888888888888888,
              "#fdca26"
             ],
             [
              1,
              "#f0f921"
             ]
            ],
            "type": "histogram2d"
           }
          ],
          "histogram2dcontour": [
           {
            "colorbar": {
             "outlinewidth": 0,
             "ticks": ""
            },
            "colorscale": [
             [
              0,
              "#0d0887"
             ],
             [
              0.1111111111111111,
              "#46039f"
             ],
             [
              0.2222222222222222,
              "#7201a8"
             ],
             [
              0.3333333333333333,
              "#9c179e"
             ],
             [
              0.4444444444444444,
              "#bd3786"
             ],
             [
              0.5555555555555556,
              "#d8576b"
             ],
             [
              0.6666666666666666,
              "#ed7953"
             ],
             [
              0.7777777777777778,
              "#fb9f3a"
             ],
             [
              0.8888888888888888,
              "#fdca26"
             ],
             [
              1,
              "#f0f921"
             ]
            ],
            "type": "histogram2dcontour"
           }
          ],
          "mesh3d": [
           {
            "colorbar": {
             "outlinewidth": 0,
             "ticks": ""
            },
            "type": "mesh3d"
           }
          ],
          "parcoords": [
           {
            "line": {
             "colorbar": {
              "outlinewidth": 0,
              "ticks": ""
             }
            },
            "type": "parcoords"
           }
          ],
          "pie": [
           {
            "automargin": true,
            "type": "pie"
           }
          ],
          "scatter": [
           {
            "fillpattern": {
             "fillmode": "overlay",
             "size": 10,
             "solidity": 0.2
            },
            "type": "scatter"
           }
          ],
          "scatter3d": [
           {
            "line": {
             "colorbar": {
              "outlinewidth": 0,
              "ticks": ""
             }
            },
            "marker": {
             "colorbar": {
              "outlinewidth": 0,
              "ticks": ""
             }
            },
            "type": "scatter3d"
           }
          ],
          "scattercarpet": [
           {
            "marker": {
             "colorbar": {
              "outlinewidth": 0,
              "ticks": ""
             }
            },
            "type": "scattercarpet"
           }
          ],
          "scattergeo": [
           {
            "marker": {
             "colorbar": {
              "outlinewidth": 0,
              "ticks": ""
             }
            },
            "type": "scattergeo"
           }
          ],
          "scattergl": [
           {
            "marker": {
             "colorbar": {
              "outlinewidth": 0,
              "ticks": ""
             }
            },
            "type": "scattergl"
           }
          ],
          "scattermap": [
           {
            "marker": {
             "colorbar": {
              "outlinewidth": 0,
              "ticks": ""
             }
            },
            "type": "scattermap"
           }
          ],
          "scattermapbox": [
           {
            "marker": {
             "colorbar": {
              "outlinewidth": 0,
              "ticks": ""
             }
            },
            "type": "scattermapbox"
           }
          ],
          "scatterpolar": [
           {
            "marker": {
             "colorbar": {
              "outlinewidth": 0,
              "ticks": ""
             }
            },
            "type": "scatterpolar"
           }
          ],
          "scatterpolargl": [
           {
            "marker": {
             "colorbar": {
              "outlinewidth": 0,
              "ticks": ""
             }
            },
            "type": "scatterpolargl"
           }
          ],
          "scatterternary": [
           {
            "marker": {
             "colorbar": {
              "outlinewidth": 0,
              "ticks": ""
             }
            },
            "type": "scatterternary"
           }
          ],
          "surface": [
           {
            "colorbar": {
             "outlinewidth": 0,
             "ticks": ""
            },
            "colorscale": [
             [
              0,
              "#0d0887"
             ],
             [
              0.1111111111111111,
              "#46039f"
             ],
             [
              0.2222222222222222,
              "#7201a8"
             ],
             [
              0.3333333333333333,
              "#9c179e"
             ],
             [
              0.4444444444444444,
              "#bd3786"
             ],
             [
              0.5555555555555556,
              "#d8576b"
             ],
             [
              0.6666666666666666,
              "#ed7953"
             ],
             [
              0.7777777777777778,
              "#fb9f3a"
             ],
             [
              0.8888888888888888,
              "#fdca26"
             ],
             [
              1,
              "#f0f921"
             ]
            ],
            "type": "surface"
           }
          ],
          "table": [
           {
            "cells": {
             "fill": {
              "color": "#EBF0F8"
             },
             "line": {
              "color": "white"
             }
            },
            "header": {
             "fill": {
              "color": "#C8D4E3"
             },
             "line": {
              "color": "white"
             }
            },
            "type": "table"
           }
          ]
         },
         "layout": {
          "annotationdefaults": {
           "arrowcolor": "#2a3f5f",
           "arrowhead": 0,
           "arrowwidth": 1
          },
          "autotypenumbers": "strict",
          "coloraxis": {
           "colorbar": {
            "outlinewidth": 0,
            "ticks": ""
           }
          },
          "colorscale": {
           "diverging": [
            [
             0,
             "#8e0152"
            ],
            [
             0.1,
             "#c51b7d"
            ],
            [
             0.2,
             "#de77ae"
            ],
            [
             0.3,
             "#f1b6da"
            ],
            [
             0.4,
             "#fde0ef"
            ],
            [
             0.5,
             "#f7f7f7"
            ],
            [
             0.6,
             "#e6f5d0"
            ],
            [
             0.7,
             "#b8e186"
            ],
            [
             0.8,
             "#7fbc41"
            ],
            [
             0.9,
             "#4d9221"
            ],
            [
             1,
             "#276419"
            ]
           ],
           "sequential": [
            [
             0,
             "#0d0887"
            ],
            [
             0.1111111111111111,
             "#46039f"
            ],
            [
             0.2222222222222222,
             "#7201a8"
            ],
            [
             0.3333333333333333,
             "#9c179e"
            ],
            [
             0.4444444444444444,
             "#bd3786"
            ],
            [
             0.5555555555555556,
             "#d8576b"
            ],
            [
             0.6666666666666666,
             "#ed7953"
            ],
            [
             0.7777777777777778,
             "#fb9f3a"
            ],
            [
             0.8888888888888888,
             "#fdca26"
            ],
            [
             1,
             "#f0f921"
            ]
           ],
           "sequentialminus": [
            [
             0,
             "#0d0887"
            ],
            [
             0.1111111111111111,
             "#46039f"
            ],
            [
             0.2222222222222222,
             "#7201a8"
            ],
            [
             0.3333333333333333,
             "#9c179e"
            ],
            [
             0.4444444444444444,
             "#bd3786"
            ],
            [
             0.5555555555555556,
             "#d8576b"
            ],
            [
             0.6666666666666666,
             "#ed7953"
            ],
            [
             0.7777777777777778,
             "#fb9f3a"
            ],
            [
             0.8888888888888888,
             "#fdca26"
            ],
            [
             1,
             "#f0f921"
            ]
           ]
          },
          "colorway": [
           "#636efa",
           "#EF553B",
           "#00cc96",
           "#ab63fa",
           "#FFA15A",
           "#19d3f3",
           "#FF6692",
           "#B6E880",
           "#FF97FF",
           "#FECB52"
          ],
          "font": {
           "color": "#2a3f5f"
          },
          "geo": {
           "bgcolor": "white",
           "lakecolor": "white",
           "landcolor": "#E5ECF6",
           "showlakes": true,
           "showland": true,
           "subunitcolor": "white"
          },
          "hoverlabel": {
           "align": "left"
          },
          "hovermode": "closest",
          "mapbox": {
           "style": "light"
          },
          "paper_bgcolor": "white",
          "plot_bgcolor": "#E5ECF6",
          "polar": {
           "angularaxis": {
            "gridcolor": "white",
            "linecolor": "white",
            "ticks": ""
           },
           "bgcolor": "#E5ECF6",
           "radialaxis": {
            "gridcolor": "white",
            "linecolor": "white",
            "ticks": ""
           }
          },
          "scene": {
           "xaxis": {
            "backgroundcolor": "#E5ECF6",
            "gridcolor": "white",
            "gridwidth": 2,
            "linecolor": "white",
            "showbackground": true,
            "ticks": "",
            "zerolinecolor": "white"
           },
           "yaxis": {
            "backgroundcolor": "#E5ECF6",
            "gridcolor": "white",
            "gridwidth": 2,
            "linecolor": "white",
            "showbackground": true,
            "ticks": "",
            "zerolinecolor": "white"
           },
           "zaxis": {
            "backgroundcolor": "#E5ECF6",
            "gridcolor": "white",
            "gridwidth": 2,
            "linecolor": "white",
            "showbackground": true,
            "ticks": "",
            "zerolinecolor": "white"
           }
          },
          "shapedefaults": {
           "line": {
            "color": "#2a3f5f"
           }
          },
          "ternary": {
           "aaxis": {
            "gridcolor": "white",
            "linecolor": "white",
            "ticks": ""
           },
           "baxis": {
            "gridcolor": "white",
            "linecolor": "white",
            "ticks": ""
           },
           "bgcolor": "#E5ECF6",
           "caxis": {
            "gridcolor": "white",
            "linecolor": "white",
            "ticks": ""
           }
          },
          "title": {
           "x": 0.05
          },
          "xaxis": {
           "automargin": true,
           "gridcolor": "white",
           "linecolor": "white",
           "ticks": "",
           "title": {
            "standoff": 15
           },
           "zerolinecolor": "white",
           "zerolinewidth": 2
          },
          "yaxis": {
           "automargin": true,
           "gridcolor": "white",
           "linecolor": "white",
           "ticks": "",
           "title": {
            "standoff": 15
           },
           "zerolinecolor": "white",
           "zerolinewidth": 2
          }
         }
        },
        "width": 1000,
        "xaxis": {
         "anchor": "y",
         "domain": [
          0,
          1
         ],
         "title": {
          "text": "Price_in_Cr"
         }
        },
        "yaxis": {
         "anchor": "x",
         "domain": [
          0,
          1
         ]
        }
       }
      }
     },
     "metadata": {},
     "output_type": "display_data"
    }
   ],
   "source": [
    "px.box(df,x='Price_in_Cr',width=1000,height=500)"
   ]
  },
  {
   "cell_type": "markdown",
   "id": "52300f95",
   "metadata": {},
   "source": [
    "# Is commercial \n",
    "(1) Only 11% of the flats are commercial "
   ]
  },
  {
   "cell_type": "code",
   "execution_count": 20,
   "id": "ece88c85",
   "metadata": {},
   "outputs": [
    {
     "data": {
      "text/plain": [
       "np.int64(0)"
      ]
     },
     "execution_count": 20,
     "metadata": {},
     "output_type": "execute_result"
    }
   ],
   "source": [
    "df['is_commercial'].isnull().sum()"
   ]
  },
  {
   "cell_type": "code",
   "execution_count": 21,
   "id": "2fb8f5bf",
   "metadata": {},
   "outputs": [
    {
     "data": {
      "application/vnd.plotly.v1+json": {
       "config": {
        "plotlyServerURL": "https://plot.ly"
       },
       "data": [
        {
         "domain": {
          "x": [
           0,
           1
          ],
          "y": [
           0,
           1
          ]
         },
         "hole": 0.2,
         "hovertemplate": "label=%{label}<br>count=%{value}<extra></extra>",
         "labels": {
          "bdata": "AAAAAAAAAAAAAAAAAADwPw==",
          "dtype": "f8"
         },
         "legendgroup": "",
         "name": "",
         "showlegend": true,
         "type": "pie",
         "values": {
          "bdata": "UA21AQ==",
          "dtype": "i2"
         }
        }
       ],
       "layout": {
        "height": 600,
        "legend": {
         "tracegroupgap": 0
        },
        "margin": {
         "t": 60
        },
        "template": {
         "data": {
          "bar": [
           {
            "error_x": {
             "color": "#2a3f5f"
            },
            "error_y": {
             "color": "#2a3f5f"
            },
            "marker": {
             "line": {
              "color": "#E5ECF6",
              "width": 0.5
             },
             "pattern": {
              "fillmode": "overlay",
              "size": 10,
              "solidity": 0.2
             }
            },
            "type": "bar"
           }
          ],
          "barpolar": [
           {
            "marker": {
             "line": {
              "color": "#E5ECF6",
              "width": 0.5
             },
             "pattern": {
              "fillmode": "overlay",
              "size": 10,
              "solidity": 0.2
             }
            },
            "type": "barpolar"
           }
          ],
          "carpet": [
           {
            "aaxis": {
             "endlinecolor": "#2a3f5f",
             "gridcolor": "white",
             "linecolor": "white",
             "minorgridcolor": "white",
             "startlinecolor": "#2a3f5f"
            },
            "baxis": {
             "endlinecolor": "#2a3f5f",
             "gridcolor": "white",
             "linecolor": "white",
             "minorgridcolor": "white",
             "startlinecolor": "#2a3f5f"
            },
            "type": "carpet"
           }
          ],
          "choropleth": [
           {
            "colorbar": {
             "outlinewidth": 0,
             "ticks": ""
            },
            "type": "choropleth"
           }
          ],
          "contour": [
           {
            "colorbar": {
             "outlinewidth": 0,
             "ticks": ""
            },
            "colorscale": [
             [
              0,
              "#0d0887"
             ],
             [
              0.1111111111111111,
              "#46039f"
             ],
             [
              0.2222222222222222,
              "#7201a8"
             ],
             [
              0.3333333333333333,
              "#9c179e"
             ],
             [
              0.4444444444444444,
              "#bd3786"
             ],
             [
              0.5555555555555556,
              "#d8576b"
             ],
             [
              0.6666666666666666,
              "#ed7953"
             ],
             [
              0.7777777777777778,
              "#fb9f3a"
             ],
             [
              0.8888888888888888,
              "#fdca26"
             ],
             [
              1,
              "#f0f921"
             ]
            ],
            "type": "contour"
           }
          ],
          "contourcarpet": [
           {
            "colorbar": {
             "outlinewidth": 0,
             "ticks": ""
            },
            "type": "contourcarpet"
           }
          ],
          "heatmap": [
           {
            "colorbar": {
             "outlinewidth": 0,
             "ticks": ""
            },
            "colorscale": [
             [
              0,
              "#0d0887"
             ],
             [
              0.1111111111111111,
              "#46039f"
             ],
             [
              0.2222222222222222,
              "#7201a8"
             ],
             [
              0.3333333333333333,
              "#9c179e"
             ],
             [
              0.4444444444444444,
              "#bd3786"
             ],
             [
              0.5555555555555556,
              "#d8576b"
             ],
             [
              0.6666666666666666,
              "#ed7953"
             ],
             [
              0.7777777777777778,
              "#fb9f3a"
             ],
             [
              0.8888888888888888,
              "#fdca26"
             ],
             [
              1,
              "#f0f921"
             ]
            ],
            "type": "heatmap"
           }
          ],
          "histogram": [
           {
            "marker": {
             "pattern": {
              "fillmode": "overlay",
              "size": 10,
              "solidity": 0.2
             }
            },
            "type": "histogram"
           }
          ],
          "histogram2d": [
           {
            "colorbar": {
             "outlinewidth": 0,
             "ticks": ""
            },
            "colorscale": [
             [
              0,
              "#0d0887"
             ],
             [
              0.1111111111111111,
              "#46039f"
             ],
             [
              0.2222222222222222,
              "#7201a8"
             ],
             [
              0.3333333333333333,
              "#9c179e"
             ],
             [
              0.4444444444444444,
              "#bd3786"
             ],
             [
              0.5555555555555556,
              "#d8576b"
             ],
             [
              0.6666666666666666,
              "#ed7953"
             ],
             [
              0.7777777777777778,
              "#fb9f3a"
             ],
             [
              0.8888888888888888,
              "#fdca26"
             ],
             [
              1,
              "#f0f921"
             ]
            ],
            "type": "histogram2d"
           }
          ],
          "histogram2dcontour": [
           {
            "colorbar": {
             "outlinewidth": 0,
             "ticks": ""
            },
            "colorscale": [
             [
              0,
              "#0d0887"
             ],
             [
              0.1111111111111111,
              "#46039f"
             ],
             [
              0.2222222222222222,
              "#7201a8"
             ],
             [
              0.3333333333333333,
              "#9c179e"
             ],
             [
              0.4444444444444444,
              "#bd3786"
             ],
             [
              0.5555555555555556,
              "#d8576b"
             ],
             [
              0.6666666666666666,
              "#ed7953"
             ],
             [
              0.7777777777777778,
              "#fb9f3a"
             ],
             [
              0.8888888888888888,
              "#fdca26"
             ],
             [
              1,
              "#f0f921"
             ]
            ],
            "type": "histogram2dcontour"
           }
          ],
          "mesh3d": [
           {
            "colorbar": {
             "outlinewidth": 0,
             "ticks": ""
            },
            "type": "mesh3d"
           }
          ],
          "parcoords": [
           {
            "line": {
             "colorbar": {
              "outlinewidth": 0,
              "ticks": ""
             }
            },
            "type": "parcoords"
           }
          ],
          "pie": [
           {
            "automargin": true,
            "type": "pie"
           }
          ],
          "scatter": [
           {
            "fillpattern": {
             "fillmode": "overlay",
             "size": 10,
             "solidity": 0.2
            },
            "type": "scatter"
           }
          ],
          "scatter3d": [
           {
            "line": {
             "colorbar": {
              "outlinewidth": 0,
              "ticks": ""
             }
            },
            "marker": {
             "colorbar": {
              "outlinewidth": 0,
              "ticks": ""
             }
            },
            "type": "scatter3d"
           }
          ],
          "scattercarpet": [
           {
            "marker": {
             "colorbar": {
              "outlinewidth": 0,
              "ticks": ""
             }
            },
            "type": "scattercarpet"
           }
          ],
          "scattergeo": [
           {
            "marker": {
             "colorbar": {
              "outlinewidth": 0,
              "ticks": ""
             }
            },
            "type": "scattergeo"
           }
          ],
          "scattergl": [
           {
            "marker": {
             "colorbar": {
              "outlinewidth": 0,
              "ticks": ""
             }
            },
            "type": "scattergl"
           }
          ],
          "scattermap": [
           {
            "marker": {
             "colorbar": {
              "outlinewidth": 0,
              "ticks": ""
             }
            },
            "type": "scattermap"
           }
          ],
          "scattermapbox": [
           {
            "marker": {
             "colorbar": {
              "outlinewidth": 0,
              "ticks": ""
             }
            },
            "type": "scattermapbox"
           }
          ],
          "scatterpolar": [
           {
            "marker": {
             "colorbar": {
              "outlinewidth": 0,
              "ticks": ""
             }
            },
            "type": "scatterpolar"
           }
          ],
          "scatterpolargl": [
           {
            "marker": {
             "colorbar": {
              "outlinewidth": 0,
              "ticks": ""
             }
            },
            "type": "scatterpolargl"
           }
          ],
          "scatterternary": [
           {
            "marker": {
             "colorbar": {
              "outlinewidth": 0,
              "ticks": ""
             }
            },
            "type": "scatterternary"
           }
          ],
          "surface": [
           {
            "colorbar": {
             "outlinewidth": 0,
             "ticks": ""
            },
            "colorscale": [
             [
              0,
              "#0d0887"
             ],
             [
              0.1111111111111111,
              "#46039f"
             ],
             [
              0.2222222222222222,
              "#7201a8"
             ],
             [
              0.3333333333333333,
              "#9c179e"
             ],
             [
              0.4444444444444444,
              "#bd3786"
             ],
             [
              0.5555555555555556,
              "#d8576b"
             ],
             [
              0.6666666666666666,
              "#ed7953"
             ],
             [
              0.7777777777777778,
              "#fb9f3a"
             ],
             [
              0.8888888888888888,
              "#fdca26"
             ],
             [
              1,
              "#f0f921"
             ]
            ],
            "type": "surface"
           }
          ],
          "table": [
           {
            "cells": {
             "fill": {
              "color": "#EBF0F8"
             },
             "line": {
              "color": "white"
             }
            },
            "header": {
             "fill": {
              "color": "#C8D4E3"
             },
             "line": {
              "color": "white"
             }
            },
            "type": "table"
           }
          ]
         },
         "layout": {
          "annotationdefaults": {
           "arrowcolor": "#2a3f5f",
           "arrowhead": 0,
           "arrowwidth": 1
          },
          "autotypenumbers": "strict",
          "coloraxis": {
           "colorbar": {
            "outlinewidth": 0,
            "ticks": ""
           }
          },
          "colorscale": {
           "diverging": [
            [
             0,
             "#8e0152"
            ],
            [
             0.1,
             "#c51b7d"
            ],
            [
             0.2,
             "#de77ae"
            ],
            [
             0.3,
             "#f1b6da"
            ],
            [
             0.4,
             "#fde0ef"
            ],
            [
             0.5,
             "#f7f7f7"
            ],
            [
             0.6,
             "#e6f5d0"
            ],
            [
             0.7,
             "#b8e186"
            ],
            [
             0.8,
             "#7fbc41"
            ],
            [
             0.9,
             "#4d9221"
            ],
            [
             1,
             "#276419"
            ]
           ],
           "sequential": [
            [
             0,
             "#0d0887"
            ],
            [
             0.1111111111111111,
             "#46039f"
            ],
            [
             0.2222222222222222,
             "#7201a8"
            ],
            [
             0.3333333333333333,
             "#9c179e"
            ],
            [
             0.4444444444444444,
             "#bd3786"
            ],
            [
             0.5555555555555556,
             "#d8576b"
            ],
            [
             0.6666666666666666,
             "#ed7953"
            ],
            [
             0.7777777777777778,
             "#fb9f3a"
            ],
            [
             0.8888888888888888,
             "#fdca26"
            ],
            [
             1,
             "#f0f921"
            ]
           ],
           "sequentialminus": [
            [
             0,
             "#0d0887"
            ],
            [
             0.1111111111111111,
             "#46039f"
            ],
            [
             0.2222222222222222,
             "#7201a8"
            ],
            [
             0.3333333333333333,
             "#9c179e"
            ],
            [
             0.4444444444444444,
             "#bd3786"
            ],
            [
             0.5555555555555556,
             "#d8576b"
            ],
            [
             0.6666666666666666,
             "#ed7953"
            ],
            [
             0.7777777777777778,
             "#fb9f3a"
            ],
            [
             0.8888888888888888,
             "#fdca26"
            ],
            [
             1,
             "#f0f921"
            ]
           ]
          },
          "colorway": [
           "#636efa",
           "#EF553B",
           "#00cc96",
           "#ab63fa",
           "#FFA15A",
           "#19d3f3",
           "#FF6692",
           "#B6E880",
           "#FF97FF",
           "#FECB52"
          ],
          "font": {
           "color": "#2a3f5f"
          },
          "geo": {
           "bgcolor": "white",
           "lakecolor": "white",
           "landcolor": "#E5ECF6",
           "showlakes": true,
           "showland": true,
           "subunitcolor": "white"
          },
          "hoverlabel": {
           "align": "left"
          },
          "hovermode": "closest",
          "mapbox": {
           "style": "light"
          },
          "paper_bgcolor": "white",
          "plot_bgcolor": "#E5ECF6",
          "polar": {
           "angularaxis": {
            "gridcolor": "white",
            "linecolor": "white",
            "ticks": ""
           },
           "bgcolor": "#E5ECF6",
           "radialaxis": {
            "gridcolor": "white",
            "linecolor": "white",
            "ticks": ""
           }
          },
          "scene": {
           "xaxis": {
            "backgroundcolor": "#E5ECF6",
            "gridcolor": "white",
            "gridwidth": 2,
            "linecolor": "white",
            "showbackground": true,
            "ticks": "",
            "zerolinecolor": "white"
           },
           "yaxis": {
            "backgroundcolor": "#E5ECF6",
            "gridcolor": "white",
            "gridwidth": 2,
            "linecolor": "white",
            "showbackground": true,
            "ticks": "",
            "zerolinecolor": "white"
           },
           "zaxis": {
            "backgroundcolor": "#E5ECF6",
            "gridcolor": "white",
            "gridwidth": 2,
            "linecolor": "white",
            "showbackground": true,
            "ticks": "",
            "zerolinecolor": "white"
           }
          },
          "shapedefaults": {
           "line": {
            "color": "#2a3f5f"
           }
          },
          "ternary": {
           "aaxis": {
            "gridcolor": "white",
            "linecolor": "white",
            "ticks": ""
           },
           "baxis": {
            "gridcolor": "white",
            "linecolor": "white",
            "ticks": ""
           },
           "bgcolor": "#E5ECF6",
           "caxis": {
            "gridcolor": "white",
            "linecolor": "white",
            "ticks": ""
           }
          },
          "title": {
           "x": 0.05
          },
          "xaxis": {
           "automargin": true,
           "gridcolor": "white",
           "linecolor": "white",
           "ticks": "",
           "title": {
            "standoff": 15
           },
           "zerolinecolor": "white",
           "zerolinewidth": 2
          },
          "yaxis": {
           "automargin": true,
           "gridcolor": "white",
           "linecolor": "white",
           "ticks": "",
           "title": {
            "standoff": 15
           },
           "zerolinecolor": "white",
           "zerolinewidth": 2
          }
         }
        },
        "width": 600
       }
      }
     },
     "metadata": {},
     "output_type": "display_data"
    }
   ],
   "source": [
    "px.pie(df['is_commercial'].value_counts(),values=df['is_commercial'].value_counts(),\n",
    "names=df['is_commercial'].value_counts().index,hole=0.2,width=600,height=600).show()"
   ]
  },
  {
   "cell_type": "markdown",
   "id": "154ca117",
   "metadata": {},
   "source": [
    "# Is Residential "
   ]
  },
  {
   "cell_type": "code",
   "execution_count": 22,
   "id": "bb221c9f",
   "metadata": {},
   "outputs": [
    {
     "data": {
      "text/plain": [
       "np.int64(0)"
      ]
     },
     "execution_count": 22,
     "metadata": {},
     "output_type": "execute_result"
    }
   ],
   "source": [
    "df['is_residential'].isnull().sum()"
   ]
  },
  {
   "cell_type": "code",
   "execution_count": 24,
   "id": "248533ad",
   "metadata": {},
   "outputs": [
    {
     "data": {
      "application/vnd.plotly.v1+json": {
       "config": {
        "plotlyServerURL": "https://plot.ly"
       },
       "data": [
        {
         "domain": {
          "x": [
           0,
           1
          ],
          "y": [
           0,
           1
          ]
         },
         "hole": 0.2,
         "hovertemplate": "label=%{label}<br>count=%{value}<extra></extra>",
         "labels": {
          "bdata": "AAAAAAAA8D8AAAAAAAAAAA==",
          "dtype": "f8"
         },
         "legendgroup": "",
         "name": "",
         "showlegend": true,
         "type": "pie",
         "values": {
          "bdata": "UA21AQ==",
          "dtype": "i2"
         }
        }
       ],
       "layout": {
        "height": 600,
        "legend": {
         "tracegroupgap": 0
        },
        "margin": {
         "t": 60
        },
        "template": {
         "data": {
          "bar": [
           {
            "error_x": {
             "color": "#2a3f5f"
            },
            "error_y": {
             "color": "#2a3f5f"
            },
            "marker": {
             "line": {
              "color": "#E5ECF6",
              "width": 0.5
             },
             "pattern": {
              "fillmode": "overlay",
              "size": 10,
              "solidity": 0.2
             }
            },
            "type": "bar"
           }
          ],
          "barpolar": [
           {
            "marker": {
             "line": {
              "color": "#E5ECF6",
              "width": 0.5
             },
             "pattern": {
              "fillmode": "overlay",
              "size": 10,
              "solidity": 0.2
             }
            },
            "type": "barpolar"
           }
          ],
          "carpet": [
           {
            "aaxis": {
             "endlinecolor": "#2a3f5f",
             "gridcolor": "white",
             "linecolor": "white",
             "minorgridcolor": "white",
             "startlinecolor": "#2a3f5f"
            },
            "baxis": {
             "endlinecolor": "#2a3f5f",
             "gridcolor": "white",
             "linecolor": "white",
             "minorgridcolor": "white",
             "startlinecolor": "#2a3f5f"
            },
            "type": "carpet"
           }
          ],
          "choropleth": [
           {
            "colorbar": {
             "outlinewidth": 0,
             "ticks": ""
            },
            "type": "choropleth"
           }
          ],
          "contour": [
           {
            "colorbar": {
             "outlinewidth": 0,
             "ticks": ""
            },
            "colorscale": [
             [
              0,
              "#0d0887"
             ],
             [
              0.1111111111111111,
              "#46039f"
             ],
             [
              0.2222222222222222,
              "#7201a8"
             ],
             [
              0.3333333333333333,
              "#9c179e"
             ],
             [
              0.4444444444444444,
              "#bd3786"
             ],
             [
              0.5555555555555556,
              "#d8576b"
             ],
             [
              0.6666666666666666,
              "#ed7953"
             ],
             [
              0.7777777777777778,
              "#fb9f3a"
             ],
             [
              0.8888888888888888,
              "#fdca26"
             ],
             [
              1,
              "#f0f921"
             ]
            ],
            "type": "contour"
           }
          ],
          "contourcarpet": [
           {
            "colorbar": {
             "outlinewidth": 0,
             "ticks": ""
            },
            "type": "contourcarpet"
           }
          ],
          "heatmap": [
           {
            "colorbar": {
             "outlinewidth": 0,
             "ticks": ""
            },
            "colorscale": [
             [
              0,
              "#0d0887"
             ],
             [
              0.1111111111111111,
              "#46039f"
             ],
             [
              0.2222222222222222,
              "#7201a8"
             ],
             [
              0.3333333333333333,
              "#9c179e"
             ],
             [
              0.4444444444444444,
              "#bd3786"
             ],
             [
              0.5555555555555556,
              "#d8576b"
             ],
             [
              0.6666666666666666,
              "#ed7953"
             ],
             [
              0.7777777777777778,
              "#fb9f3a"
             ],
             [
              0.8888888888888888,
              "#fdca26"
             ],
             [
              1,
              "#f0f921"
             ]
            ],
            "type": "heatmap"
           }
          ],
          "histogram": [
           {
            "marker": {
             "pattern": {
              "fillmode": "overlay",
              "size": 10,
              "solidity": 0.2
             }
            },
            "type": "histogram"
           }
          ],
          "histogram2d": [
           {
            "colorbar": {
             "outlinewidth": 0,
             "ticks": ""
            },
            "colorscale": [
             [
              0,
              "#0d0887"
             ],
             [
              0.1111111111111111,
              "#46039f"
             ],
             [
              0.2222222222222222,
              "#7201a8"
             ],
             [
              0.3333333333333333,
              "#9c179e"
             ],
             [
              0.4444444444444444,
              "#bd3786"
             ],
             [
              0.5555555555555556,
              "#d8576b"
             ],
             [
              0.6666666666666666,
              "#ed7953"
             ],
             [
              0.7777777777777778,
              "#fb9f3a"
             ],
             [
              0.8888888888888888,
              "#fdca26"
             ],
             [
              1,
              "#f0f921"
             ]
            ],
            "type": "histogram2d"
           }
          ],
          "histogram2dcontour": [
           {
            "colorbar": {
             "outlinewidth": 0,
             "ticks": ""
            },
            "colorscale": [
             [
              0,
              "#0d0887"
             ],
             [
              0.1111111111111111,
              "#46039f"
             ],
             [
              0.2222222222222222,
              "#7201a8"
             ],
             [
              0.3333333333333333,
              "#9c179e"
             ],
             [
              0.4444444444444444,
              "#bd3786"
             ],
             [
              0.5555555555555556,
              "#d8576b"
             ],
             [
              0.6666666666666666,
              "#ed7953"
             ],
             [
              0.7777777777777778,
              "#fb9f3a"
             ],
             [
              0.8888888888888888,
              "#fdca26"
             ],
             [
              1,
              "#f0f921"
             ]
            ],
            "type": "histogram2dcontour"
           }
          ],
          "mesh3d": [
           {
            "colorbar": {
             "outlinewidth": 0,
             "ticks": ""
            },
            "type": "mesh3d"
           }
          ],
          "parcoords": [
           {
            "line": {
             "colorbar": {
              "outlinewidth": 0,
              "ticks": ""
             }
            },
            "type": "parcoords"
           }
          ],
          "pie": [
           {
            "automargin": true,
            "type": "pie"
           }
          ],
          "scatter": [
           {
            "fillpattern": {
             "fillmode": "overlay",
             "size": 10,
             "solidity": 0.2
            },
            "type": "scatter"
           }
          ],
          "scatter3d": [
           {
            "line": {
             "colorbar": {
              "outlinewidth": 0,
              "ticks": ""
             }
            },
            "marker": {
             "colorbar": {
              "outlinewidth": 0,
              "ticks": ""
             }
            },
            "type": "scatter3d"
           }
          ],
          "scattercarpet": [
           {
            "marker": {
             "colorbar": {
              "outlinewidth": 0,
              "ticks": ""
             }
            },
            "type": "scattercarpet"
           }
          ],
          "scattergeo": [
           {
            "marker": {
             "colorbar": {
              "outlinewidth": 0,
              "ticks": ""
             }
            },
            "type": "scattergeo"
           }
          ],
          "scattergl": [
           {
            "marker": {
             "colorbar": {
              "outlinewidth": 0,
              "ticks": ""
             }
            },
            "type": "scattergl"
           }
          ],
          "scattermap": [
           {
            "marker": {
             "colorbar": {
              "outlinewidth": 0,
              "ticks": ""
             }
            },
            "type": "scattermap"
           }
          ],
          "scattermapbox": [
           {
            "marker": {
             "colorbar": {
              "outlinewidth": 0,
              "ticks": ""
             }
            },
            "type": "scattermapbox"
           }
          ],
          "scatterpolar": [
           {
            "marker": {
             "colorbar": {
              "outlinewidth": 0,
              "ticks": ""
             }
            },
            "type": "scatterpolar"
           }
          ],
          "scatterpolargl": [
           {
            "marker": {
             "colorbar": {
              "outlinewidth": 0,
              "ticks": ""
             }
            },
            "type": "scatterpolargl"
           }
          ],
          "scatterternary": [
           {
            "marker": {
             "colorbar": {
              "outlinewidth": 0,
              "ticks": ""
             }
            },
            "type": "scatterternary"
           }
          ],
          "surface": [
           {
            "colorbar": {
             "outlinewidth": 0,
             "ticks": ""
            },
            "colorscale": [
             [
              0,
              "#0d0887"
             ],
             [
              0.1111111111111111,
              "#46039f"
             ],
             [
              0.2222222222222222,
              "#7201a8"
             ],
             [
              0.3333333333333333,
              "#9c179e"
             ],
             [
              0.4444444444444444,
              "#bd3786"
             ],
             [
              0.5555555555555556,
              "#d8576b"
             ],
             [
              0.6666666666666666,
              "#ed7953"
             ],
             [
              0.7777777777777778,
              "#fb9f3a"
             ],
             [
              0.8888888888888888,
              "#fdca26"
             ],
             [
              1,
              "#f0f921"
             ]
            ],
            "type": "surface"
           }
          ],
          "table": [
           {
            "cells": {
             "fill": {
              "color": "#EBF0F8"
             },
             "line": {
              "color": "white"
             }
            },
            "header": {
             "fill": {
              "color": "#C8D4E3"
             },
             "line": {
              "color": "white"
             }
            },
            "type": "table"
           }
          ]
         },
         "layout": {
          "annotationdefaults": {
           "arrowcolor": "#2a3f5f",
           "arrowhead": 0,
           "arrowwidth": 1
          },
          "autotypenumbers": "strict",
          "coloraxis": {
           "colorbar": {
            "outlinewidth": 0,
            "ticks": ""
           }
          },
          "colorscale": {
           "diverging": [
            [
             0,
             "#8e0152"
            ],
            [
             0.1,
             "#c51b7d"
            ],
            [
             0.2,
             "#de77ae"
            ],
            [
             0.3,
             "#f1b6da"
            ],
            [
             0.4,
             "#fde0ef"
            ],
            [
             0.5,
             "#f7f7f7"
            ],
            [
             0.6,
             "#e6f5d0"
            ],
            [
             0.7,
             "#b8e186"
            ],
            [
             0.8,
             "#7fbc41"
            ],
            [
             0.9,
             "#4d9221"
            ],
            [
             1,
             "#276419"
            ]
           ],
           "sequential": [
            [
             0,
             "#0d0887"
            ],
            [
             0.1111111111111111,
             "#46039f"
            ],
            [
             0.2222222222222222,
             "#7201a8"
            ],
            [
             0.3333333333333333,
             "#9c179e"
            ],
            [
             0.4444444444444444,
             "#bd3786"
            ],
            [
             0.5555555555555556,
             "#d8576b"
            ],
            [
             0.6666666666666666,
             "#ed7953"
            ],
            [
             0.7777777777777778,
             "#fb9f3a"
            ],
            [
             0.8888888888888888,
             "#fdca26"
            ],
            [
             1,
             "#f0f921"
            ]
           ],
           "sequentialminus": [
            [
             0,
             "#0d0887"
            ],
            [
             0.1111111111111111,
             "#46039f"
            ],
            [
             0.2222222222222222,
             "#7201a8"
            ],
            [
             0.3333333333333333,
             "#9c179e"
            ],
            [
             0.4444444444444444,
             "#bd3786"
            ],
            [
             0.5555555555555556,
             "#d8576b"
            ],
            [
             0.6666666666666666,
             "#ed7953"
            ],
            [
             0.7777777777777778,
             "#fb9f3a"
            ],
            [
             0.8888888888888888,
             "#fdca26"
            ],
            [
             1,
             "#f0f921"
            ]
           ]
          },
          "colorway": [
           "#636efa",
           "#EF553B",
           "#00cc96",
           "#ab63fa",
           "#FFA15A",
           "#19d3f3",
           "#FF6692",
           "#B6E880",
           "#FF97FF",
           "#FECB52"
          ],
          "font": {
           "color": "#2a3f5f"
          },
          "geo": {
           "bgcolor": "white",
           "lakecolor": "white",
           "landcolor": "#E5ECF6",
           "showlakes": true,
           "showland": true,
           "subunitcolor": "white"
          },
          "hoverlabel": {
           "align": "left"
          },
          "hovermode": "closest",
          "mapbox": {
           "style": "light"
          },
          "paper_bgcolor": "white",
          "plot_bgcolor": "#E5ECF6",
          "polar": {
           "angularaxis": {
            "gridcolor": "white",
            "linecolor": "white",
            "ticks": ""
           },
           "bgcolor": "#E5ECF6",
           "radialaxis": {
            "gridcolor": "white",
            "linecolor": "white",
            "ticks": ""
           }
          },
          "scene": {
           "xaxis": {
            "backgroundcolor": "#E5ECF6",
            "gridcolor": "white",
            "gridwidth": 2,
            "linecolor": "white",
            "showbackground": true,
            "ticks": "",
            "zerolinecolor": "white"
           },
           "yaxis": {
            "backgroundcolor": "#E5ECF6",
            "gridcolor": "white",
            "gridwidth": 2,
            "linecolor": "white",
            "showbackground": true,
            "ticks": "",
            "zerolinecolor": "white"
           },
           "zaxis": {
            "backgroundcolor": "#E5ECF6",
            "gridcolor": "white",
            "gridwidth": 2,
            "linecolor": "white",
            "showbackground": true,
            "ticks": "",
            "zerolinecolor": "white"
           }
          },
          "shapedefaults": {
           "line": {
            "color": "#2a3f5f"
           }
          },
          "ternary": {
           "aaxis": {
            "gridcolor": "white",
            "linecolor": "white",
            "ticks": ""
           },
           "baxis": {
            "gridcolor": "white",
            "linecolor": "white",
            "ticks": ""
           },
           "bgcolor": "#E5ECF6",
           "caxis": {
            "gridcolor": "white",
            "linecolor": "white",
            "ticks": ""
           }
          },
          "title": {
           "x": 0.05
          },
          "xaxis": {
           "automargin": true,
           "gridcolor": "white",
           "linecolor": "white",
           "ticks": "",
           "title": {
            "standoff": 15
           },
           "zerolinecolor": "white",
           "zerolinewidth": 2
          },
          "yaxis": {
           "automargin": true,
           "gridcolor": "white",
           "linecolor": "white",
           "ticks": "",
           "title": {
            "standoff": 15
           },
           "zerolinecolor": "white",
           "zerolinewidth": 2
          }
         }
        },
        "width": 600
       }
      }
     },
     "metadata": {},
     "output_type": "display_data"
    }
   ],
   "source": [
    "px.pie(df['is_residential'].value_counts(),values=df['is_residential'].value_counts(),\n",
    "names=df['is_residential'].value_counts().index,hole=0.2,width=600,height=600).show()"
   ]
  }
 ],
 "metadata": {
  "kernelspec": {
   "display_name": "Python 3",
   "language": "python",
   "name": "python3"
  },
  "language_info": {
   "codemirror_mode": {
    "name": "ipython",
    "version": 3
   },
   "file_extension": ".py",
   "mimetype": "text/x-python",
   "name": "python",
   "nbconvert_exporter": "python",
   "pygments_lexer": "ipython3",
   "version": "3.13.1"
  }
 },
 "nbformat": 4,
 "nbformat_minor": 5
}
