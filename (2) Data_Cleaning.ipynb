{
 "cells": [
  {
   "cell_type": "code",
   "execution_count": 37,
   "id": "53b743de",
   "metadata": {},
   "outputs": [],
   "source": [
    "import pandas as pd\n",
    "import numpy as np\n",
    "import re\n",
    "\n",
    "pd.set_option('display.max_columns', None)\n",
    "pd.set_option('display.max_rows', None)"
   ]
  },
  {
   "cell_type": "code",
   "execution_count": 2,
   "id": "3623acdd",
   "metadata": {},
   "outputs": [],
   "source": [
    "df = pd.read_csv('house_price_bd.csv')"
   ]
  },
  {
   "cell_type": "code",
   "execution_count": 3,
   "id": "90c0857a",
   "metadata": {},
   "outputs": [
    {
     "data": {
      "text/plain": [
       "(3865, 9)"
      ]
     },
     "execution_count": 3,
     "metadata": {},
     "output_type": "execute_result"
    }
   ],
   "source": [
    "df.shape"
   ]
  },
  {
   "cell_type": "markdown",
   "id": "961c9f1c",
   "metadata": {},
   "source": [
    "There are **3865** rows (House Informations)"
   ]
  },
  {
   "cell_type": "code",
   "execution_count": 4,
   "id": "fc882fdd",
   "metadata": {},
   "outputs": [
    {
     "data": {
      "text/plain": [
       "106"
      ]
     },
     "execution_count": 4,
     "metadata": {},
     "output_type": "execute_result"
    }
   ],
   "source": [
    "df['Location'].str.split(',').str.get(1).nunique()"
   ]
  },
  {
   "cell_type": "markdown",
   "id": "d2259f7c",
   "metadata": {},
   "source": [
    " There are **106** unique locations"
   ]
  },
  {
   "cell_type": "code",
   "execution_count": 5,
   "id": "be890288",
   "metadata": {},
   "outputs": [],
   "source": [
    "df['location_area'] = df['Location'].str.split(',').str.get(1).str.lower()"
   ]
  },
  {
   "cell_type": "markdown",
   "id": "6de9c07b",
   "metadata": {},
   "source": [
    "# Location\n",
    "Replacing   \n",
    "(1)The (r-a) from basundhara r-a  \n",
    "(2) The ward numbers from specific wards, such as \"9 no. pahartoli ward\" becomes only pahartoli ward  \n",
    "(3) And removing the whitespaces using str.strip()    "
   ]
  },
  {
   "cell_type": "code",
   "execution_count": 6,
   "id": "4be47de2",
   "metadata": {},
   "outputs": [],
   "source": [
    "df['location_area'] = df['location_area'].str.replace('r-a','').str.replace(r'\\b\\d+\\s*no\\.?\\s*','',regex=True,flags=re.IGNORECASE).str.strip()"
   ]
  },
  {
   "cell_type": "markdown",
   "id": "7b3d0ad2",
   "metadata": {},
   "source": [
    "# Price_in_taka\n",
    "(1) Removing the ৳ from prices   \n",
    "(2) convert the values in Crores  \n",
    "(3) rounding up the values to 2"
   ]
  },
  {
   "cell_type": "code",
   "execution_count": 7,
   "id": "d0dc0463",
   "metadata": {},
   "outputs": [],
   "source": [
    "def convert_to_crores(x):\n",
    "    converted = (x/10000000)\n",
    "    return converted"
   ]
  },
  {
   "cell_type": "code",
   "execution_count": 8,
   "id": "f3acb8b0",
   "metadata": {},
   "outputs": [],
   "source": [
    "df['Price_in_Cr'] = df['Price_in_taka'].str.replace('৳','').str.replace(',','').str.strip().astype(float).apply(lambda x:convert_to_crores(x)).round(2)"
   ]
  },
  {
   "cell_type": "code",
   "execution_count": 9,
   "id": "c0d3bef2",
   "metadata": {},
   "outputs": [],
   "source": [
    "df.drop(['Price_in_taka'],axis=1,inplace=True)"
   ]
  },
  {
   "cell_type": "code",
   "execution_count": 10,
   "id": "b2538a76",
   "metadata": {},
   "outputs": [
    {
     "name": "stdout",
     "output_type": "stream",
     "text": [
      "<class 'pandas.core.frame.DataFrame'>\n",
      "RangeIndex: 3865 entries, 0 to 3864\n",
      "Data columns (total 10 columns):\n",
      " #   Column            Non-Null Count  Dtype  \n",
      "---  ------            --------------  -----  \n",
      " 0   Title             3865 non-null   object \n",
      " 1   Bedrooms          2864 non-null   float64\n",
      " 2   Bathrooms         2864 non-null   float64\n",
      " 3   Floor_no          3181 non-null   object \n",
      " 4   Occupancy_status  3766 non-null   object \n",
      " 5   Floor_area        3766 non-null   float64\n",
      " 6   City              3865 non-null   object \n",
      " 7   Location          3859 non-null   object \n",
      " 8   location_area     3828 non-null   object \n",
      " 9   Price_in_Cr       3865 non-null   float64\n",
      "dtypes: float64(4), object(6)\n",
      "memory usage: 302.1+ KB\n"
     ]
    }
   ],
   "source": [
    "df.info()"
   ]
  },
  {
   "cell_type": "markdown",
   "id": "dda72caf",
   "metadata": {},
   "source": [
    "# City\n",
    "Replacing the \"-city\" word from narayanganj  \n",
    "There are **5** cities "
   ]
  },
  {
   "cell_type": "code",
   "execution_count": 11,
   "id": "85c29173",
   "metadata": {},
   "outputs": [],
   "source": [
    "df['City'] = df['City'].str.replace('-city','').str.strip()"
   ]
  },
  {
   "cell_type": "code",
   "execution_count": 12,
   "id": "2dfdfc9d",
   "metadata": {},
   "outputs": [
    {
     "data": {
      "text/plain": [
       "City\n",
       "dhaka          1650\n",
       "chattogram     1470\n",
       "narayanganj     420\n",
       "gazipur         180\n",
       "cumilla         145\n",
       "Name: count, dtype: int64"
      ]
     },
     "execution_count": 12,
     "metadata": {},
     "output_type": "execute_result"
    }
   ],
   "source": [
    "df['City'].value_counts()"
   ]
  },
  {
   "cell_type": "markdown",
   "id": "faf42ff7",
   "metadata": {},
   "source": [
    "# Floor_no"
   ]
  },
  {
   "cell_type": "code",
   "execution_count": 15,
   "id": "7565c4b0",
   "metadata": {},
   "outputs": [
    {
     "data": {
      "text/plain": [
       "Floor_no\n",
       "1                       532\n",
       "4                       418\n",
       "5                       402\n",
       "2                       397\n",
       "3                       366\n",
       "6                       316\n",
       "7                       252\n",
       "8                       228\n",
       "9                       167\n",
       "10                       30\n",
       "11                       26\n",
       "12                       19\n",
       "13                        8\n",
       "14                        2\n",
       "4th to 8th Backside       2\n",
       "8th                       2\n",
       "1st                       1\n",
       "G+7                       1\n",
       "0+7                       1\n",
       "A1,A2,A3,A4,A5,A6,A7      1\n",
       "1F                        1\n",
       "18                        1\n",
       "5th                       1\n",
       "17                        1\n",
       "Name: count, dtype: int64"
      ]
     },
     "execution_count": 15,
     "metadata": {},
     "output_type": "execute_result"
    }
   ],
   "source": [
    "df['Floor_no'].value_counts()"
   ]
  },
  {
   "cell_type": "code",
   "execution_count": 13,
   "id": "f00bc1e3",
   "metadata": {},
   "outputs": [
    {
     "data": {
      "text/plain": [
       "0       3\n",
       "1       1\n",
       "2       6\n",
       "3       4\n",
       "4       4\n",
       "       ..\n",
       "3860    8\n",
       "3861    7\n",
       "3862    9\n",
       "3863    9\n",
       "3864    8\n",
       "Name: Floor_no, Length: 3865, dtype: object"
      ]
     },
     "execution_count": 13,
     "metadata": {},
     "output_type": "execute_result"
    }
   ],
   "source": [
    "df['Floor_no'].str.strip()"
   ]
  },
  {
   "cell_type": "markdown",
   "id": "290cf596",
   "metadata": {},
   "source": [
    "Droping where floor_no = \"Merin City - Purbach\" because they seems to like outliers"
   ]
  },
  {
   "cell_type": "code",
   "execution_count": 14,
   "id": "b0621acf",
   "metadata": {},
   "outputs": [],
   "source": [
    "df = df[~df['Floor_no'].str.contains('Merin City - Purbach',na=False)]"
   ]
  },
  {
   "cell_type": "markdown",
   "id": "f6d00dca",
   "metadata": {},
   "source": [
    "Removing all the problematic rows with isin() function"
   ]
  },
  {
   "cell_type": "code",
   "execution_count": 27,
   "id": "5aba9e5c",
   "metadata": {},
   "outputs": [],
   "source": [
    "rare_floor = df['Floor_no'].value_counts()[df['Floor_no'].value_counts()<=2].index"
   ]
  },
  {
   "cell_type": "code",
   "execution_count": 31,
   "id": "caf19413",
   "metadata": {},
   "outputs": [],
   "source": [
    "df = df[~df['Floor_no'].isin(rare_floor)]"
   ]
  },
  {
   "cell_type": "code",
   "execution_count": 32,
   "id": "82d64ed7",
   "metadata": {},
   "outputs": [
    {
     "data": {
      "text/plain": [
       "Floor_no\n",
       "1     532\n",
       "4     418\n",
       "5     402\n",
       "2     397\n",
       "3     366\n",
       "6     316\n",
       "7     252\n",
       "8     228\n",
       "9     167\n",
       "10     30\n",
       "11     26\n",
       "12     19\n",
       "13      8\n",
       "Name: count, dtype: int64"
      ]
     },
     "execution_count": 32,
     "metadata": {},
     "output_type": "execute_result"
    }
   ],
   "source": [
    "df['Floor_no'].value_counts()"
   ]
  },
  {
   "cell_type": "markdown",
   "id": "ed5eda70",
   "metadata": {},
   "source": [
    "# Occupancy_status\n",
    "This is the most useless column , might drop it"
   ]
  },
  {
   "cell_type": "code",
   "execution_count": 43,
   "id": "21bd5979",
   "metadata": {},
   "outputs": [
    {
     "data": {
      "text/plain": [
       "Occupancy_status\n",
       "vacant      3743\n",
       "occupied       3\n",
       "Name: count, dtype: int64"
      ]
     },
     "execution_count": 43,
     "metadata": {},
     "output_type": "execute_result"
    }
   ],
   "source": [
    "df['Occupancy_status'].value_counts()"
   ]
  },
  {
   "cell_type": "markdown",
   "id": "a96042b7",
   "metadata": {},
   "source": [
    "# Bedrooms"
   ]
  },
  {
   "cell_type": "code",
   "execution_count": 44,
   "id": "a60cdb40",
   "metadata": {},
   "outputs": [
    {
     "data": {
      "text/plain": [
       "Bedrooms\n",
       "3.0     2184\n",
       "2.0      405\n",
       "4.0      219\n",
       "7.0        8\n",
       "16.0       5\n",
       "5.0        5\n",
       "8.0        4\n",
       "1.0        3\n",
       "6.0        3\n",
       "18.0       2\n",
       "33.0       2\n",
       "22.0       2\n",
       "50.0       2\n",
       "23.0       2\n",
       "21.0       2\n",
       "13.0       1\n",
       "20.0       1\n",
       "27.0       1\n",
       "15.0       1\n",
       "Name: count, dtype: int64"
      ]
     },
     "execution_count": 44,
     "metadata": {},
     "output_type": "execute_result"
    }
   ],
   "source": [
    "df['Bedrooms'].value_counts()"
   ]
  },
  {
   "cell_type": "markdown",
   "id": "7cc9ee7b",
   "metadata": {},
   "source": [
    "# Bathrooms"
   ]
  },
  {
   "cell_type": "code",
   "execution_count": 45,
   "id": "1d3a2d62",
   "metadata": {},
   "outputs": [
    {
     "data": {
      "text/plain": [
       "Bathrooms\n",
       "3.0     1758\n",
       "2.0      651\n",
       "4.0      323\n",
       "5.0       65\n",
       "1.0       22\n",
       "10.0      21\n",
       "8.0        8\n",
       "6.0        4\n",
       "Name: count, dtype: int64"
      ]
     },
     "execution_count": 45,
     "metadata": {},
     "output_type": "execute_result"
    }
   ],
   "source": [
    "df['Bathrooms'].value_counts()"
   ]
  },
  {
   "cell_type": "code",
   "execution_count": 47,
   "id": "5988d2d6",
   "metadata": {},
   "outputs": [
    {
     "data": {
      "text/html": [
       "<div>\n",
       "<style scoped>\n",
       "    .dataframe tbody tr th:only-of-type {\n",
       "        vertical-align: middle;\n",
       "    }\n",
       "\n",
       "    .dataframe tbody tr th {\n",
       "        vertical-align: top;\n",
       "    }\n",
       "\n",
       "    .dataframe thead th {\n",
       "        text-align: right;\n",
       "    }\n",
       "</style>\n",
       "<table border=\"1\" class=\"dataframe\">\n",
       "  <thead>\n",
       "    <tr style=\"text-align: right;\">\n",
       "      <th></th>\n",
       "      <th>Title</th>\n",
       "      <th>Bedrooms</th>\n",
       "      <th>Bathrooms</th>\n",
       "      <th>Floor_no</th>\n",
       "      <th>Occupancy_status</th>\n",
       "      <th>Floor_area</th>\n",
       "      <th>City</th>\n",
       "      <th>Location</th>\n",
       "      <th>location_area</th>\n",
       "      <th>Price_in_Cr</th>\n",
       "    </tr>\n",
       "  </thead>\n",
       "  <tbody>\n",
       "    <tr>\n",
       "      <th>1682</th>\n",
       "      <td>This 1616 Sq Ft Apartment Is Up For For Sale I...</td>\n",
       "      <td>3.0</td>\n",
       "      <td>3.0</td>\n",
       "      <td>6</td>\n",
       "      <td>vacant</td>\n",
       "      <td>1616.0</td>\n",
       "      <td>chattogram</td>\n",
       "      <td>CDA Avenue, Muradpur</td>\n",
       "      <td>muradpur</td>\n",
       "      <td>1.15</td>\n",
       "    </tr>\n",
       "    <tr>\n",
       "      <th>2065</th>\n",
       "      <td>A Convenient 1253 Sq Ft Residential Flat Is Pr...</td>\n",
       "      <td>3.0</td>\n",
       "      <td>3.0</td>\n",
       "      <td>7</td>\n",
       "      <td>vacant</td>\n",
       "      <td>1253.0</td>\n",
       "      <td>chattogram</td>\n",
       "      <td>Dewan Bazar, Bakalia</td>\n",
       "      <td>bakalia</td>\n",
       "      <td>0.56</td>\n",
       "    </tr>\n",
       "    <tr>\n",
       "      <th>1382</th>\n",
       "      <td>Nearly Finished 1600 Square Feet Apartment For...</td>\n",
       "      <td>3.0</td>\n",
       "      <td>3.0</td>\n",
       "      <td>8</td>\n",
       "      <td>vacant</td>\n",
       "      <td>1600.0</td>\n",
       "      <td>dhaka</td>\n",
       "      <td>Sector 15, Uttara</td>\n",
       "      <td>uttara</td>\n",
       "      <td>1.60</td>\n",
       "    </tr>\n",
       "  </tbody>\n",
       "</table>\n",
       "</div>"
      ],
      "text/plain": [
       "                                                  Title  Bedrooms  Bathrooms  \\\n",
       "1682  This 1616 Sq Ft Apartment Is Up For For Sale I...       3.0        3.0   \n",
       "2065  A Convenient 1253 Sq Ft Residential Flat Is Pr...       3.0        3.0   \n",
       "1382  Nearly Finished 1600 Square Feet Apartment For...       3.0        3.0   \n",
       "\n",
       "     Floor_no Occupancy_status  Floor_area        City              Location  \\\n",
       "1682        6           vacant      1616.0  chattogram  CDA Avenue, Muradpur   \n",
       "2065        7           vacant      1253.0  chattogram  Dewan Bazar, Bakalia   \n",
       "1382        8           vacant      1600.0       dhaka     Sector 15, Uttara   \n",
       "\n",
       "     location_area  Price_in_Cr  \n",
       "1682      muradpur         1.15  \n",
       "2065       bakalia         0.56  \n",
       "1382        uttara         1.60  "
      ]
     },
     "execution_count": 47,
     "metadata": {},
     "output_type": "execute_result"
    }
   ],
   "source": [
    "df.sample(3)"
   ]
  },
  {
   "cell_type": "code",
   "execution_count": 48,
   "id": "88f9d4ef",
   "metadata": {},
   "outputs": [],
   "source": [
    "df.to_csv('house_price_cleaned.csv',index=False)"
   ]
  }
 ],
 "metadata": {
  "kernelspec": {
   "display_name": "Python 3",
   "language": "python",
   "name": "python3"
  },
  "language_info": {
   "codemirror_mode": {
    "name": "ipython",
    "version": 3
   },
   "file_extension": ".py",
   "mimetype": "text/x-python",
   "name": "python",
   "nbconvert_exporter": "python",
   "pygments_lexer": "ipython3",
   "version": "3.13.1"
  }
 },
 "nbformat": 4,
 "nbformat_minor": 5
}
