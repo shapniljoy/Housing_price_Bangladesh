{
 "cells": [
  {
   "cell_type": "code",
   "execution_count": 1,
   "id": "72cec645",
   "metadata": {},
   "outputs": [],
   "source": [
    "import pandas as pd\n",
    "import numpy as np\n",
    "import matplotlib.pyplot as plt\n",
    "import seaborn as sns\n",
    "import plotly.express as px\n",
    "import warnings\n",
    "warnings.filterwarnings('ignore')\n",
    "\n",
    "pd.set_option('display.max_columns',None)\n",
    "pd.set_option('display.max_rows',None)"
   ]
  },
  {
   "cell_type": "code",
   "execution_count": 2,
   "id": "981246cc",
   "metadata": {},
   "outputs": [],
   "source": [
    "df = pd.read_csv('final_data.csv')"
   ]
  },
  {
   "cell_type": "code",
   "execution_count": 3,
   "id": "8ce73e24",
   "metadata": {},
   "outputs": [],
   "source": [
    "df = df.drop(['Title'],axis=1)"
   ]
  },
  {
   "cell_type": "markdown",
   "id": "d1c185ae",
   "metadata": {},
   "source": [
    "# Encoding"
   ]
  },
  {
   "cell_type": "code",
   "execution_count": 4,
   "id": "84609cfb",
   "metadata": {},
   "outputs": [],
   "source": [
    "from sklearn.preprocessing import OneHotEncoder,TargetEncoder,OrdinalEncoder\n",
    "df[['City','floor_level','Is_in_Dhaka']] = OrdinalEncoder(handle_unknown='error').fit_transform(df[['City','floor_level','Is_in_Dhaka']])"
   ]
  },
  {
   "cell_type": "code",
   "execution_count": 5,
   "id": "845f6bf7",
   "metadata": {},
   "outputs": [],
   "source": [
    "df[['location_area']] = TargetEncoder().fit_transform(df[['location_area']],df[['Price_in_Cr']])"
   ]
  },
  {
   "cell_type": "code",
   "execution_count": 6,
   "id": "7e32ecc2",
   "metadata": {},
   "outputs": [],
   "source": [
    "x = df.drop(['Price_in_Cr'],axis=1)\n",
    "y = df['Price_in_Cr']"
   ]
  },
  {
   "cell_type": "markdown",
   "id": "adadc463",
   "metadata": {},
   "source": [
    "# Scalling"
   ]
  },
  {
   "cell_type": "code",
   "execution_count": 7,
   "id": "b59fc88e",
   "metadata": {},
   "outputs": [],
   "source": [
    "from sklearn.preprocessing import StandardScaler\n",
    "\n",
    "x_scaled = StandardScaler().fit_transform(x)\n"
   ]
  },
  {
   "cell_type": "markdown",
   "id": "195da7d8",
   "metadata": {},
   "source": [
    "# (1) Correlation"
   ]
  },
  {
   "cell_type": "code",
   "execution_count": 8,
   "id": "f4cd283b",
   "metadata": {},
   "outputs": [
    {
     "data": {
      "application/vnd.plotly.v1+json": {
       "config": {
        "plotlyServerURL": "https://plot.ly"
       },
       "data": [
        {
         "coloraxis": "coloraxis",
         "hovertemplate": "x: %{x}<br>y: %{y}<br>color: %{z}<extra></extra>",
         "name": "0",
         "texttemplate": "%{z}",
         "type": "heatmap",
         "x": [
          "Bedrooms",
          "Bathrooms",
          "Floor_area",
          "City",
          "location_area",
          "Price_in_Cr",
          "Price_per_sqft",
          "floor_level",
          "Is_in_Dhaka"
         ],
         "xaxis": "x",
         "y": [
          "Bedrooms",
          "Bathrooms",
          "Floor_area",
          "City",
          "location_area",
          "Price_in_Cr",
          "Price_per_sqft",
          "floor_level",
          "Is_in_Dhaka"
         ],
         "yaxis": "y",
         "z": {
          "bdata": "AAAAAAAA8D9rpKSRxmLnPwD5jz2IoOU/+zIo9YHHtL/YND8uC5bOP+2SPnvPfN8/zycO04WF0z/Zt3C67Bu1vxp+wDVxKqG/a6SkkcZi5z8AAAAAAADwPynIvhjheuc/b3Ep8ACqyr82AM1p6GHWP4GKNksVgeE/8ZCikFnN2D8QmN+M3su5vyWm++WEUry/APmPPYig5T8pyL4Y4XrnPwAAAAAAAPA/cYQx5dW6yL+0P4mzYaPfP5bCBoGVNeo/k0RsFEZT4T8fdk3J2tW4v3nOimLiirK/+zIo9YHHtL9vcSnwAKrKv3GEMeXVusi/AAAAAAAA8D+KP2Qa1HeKv9SpmcECgIA/hrH83RpPuz8TbAu9K/CrPyrLhoxD0+Y/2DQ/LguWzj82AM1p6GHWP7Q/ibNho98/ij9kGtR3ir8AAAAAAADwP51ZH1wik+c/BY3UWP9m6D9AKAwqgSuIv9HrQhWpNsw/7ZI+e8983z+BijZLFYHhP5bCBoGVNeo/1KmZwQKAgD+dWR9cIpPnPwAAAAAAAPA/C9dXUasV7D+nTJB+pTmrv+TjFzfr/sY/zycO04WF0z/xkKKQWc3YP5NEbBRGU+E/hrH83RpPuz8FjdRY/2boPwvXV1GrFew/AAAAAAAA8D/0YVY1FW+UvwYK1kLZ8tU/2bdwuuwbtb8QmN+M3su5vx92Tcna1bi/E2wLvSvwqz9AKAwqgSuIv6dMkH6lOau/9GFWNRVvlL8AAAAAAADwP1yOLLuty6A/Gn7ANXEqob8lpvvlhFK8v3nOimLiirK/KsuGjEPT5j/R60IVqTbMP+TjFzfr/sY/BgrWQtny1T9cjiy7rcugPwAAAAAAAPA/",
          "dtype": "f8",
          "shape": "9, 9"
         }
        }
       ],
       "layout": {
        "coloraxis": {
         "colorscale": [
          [
           0,
           "#0d0887"
          ],
          [
           0.1111111111111111,
           "#46039f"
          ],
          [
           0.2222222222222222,
           "#7201a8"
          ],
          [
           0.3333333333333333,
           "#9c179e"
          ],
          [
           0.4444444444444444,
           "#bd3786"
          ],
          [
           0.5555555555555556,
           "#d8576b"
          ],
          [
           0.6666666666666666,
           "#ed7953"
          ],
          [
           0.7777777777777778,
           "#fb9f3a"
          ],
          [
           0.8888888888888888,
           "#fdca26"
          ],
          [
           1,
           "#f0f921"
          ]
         ]
        },
        "height": 600,
        "margin": {
         "t": 60
        },
        "template": {
         "data": {
          "bar": [
           {
            "error_x": {
             "color": "#2a3f5f"
            },
            "error_y": {
             "color": "#2a3f5f"
            },
            "marker": {
             "line": {
              "color": "#E5ECF6",
              "width": 0.5
             },
             "pattern": {
              "fillmode": "overlay",
              "size": 10,
              "solidity": 0.2
             }
            },
            "type": "bar"
           }
          ],
          "barpolar": [
           {
            "marker": {
             "line": {
              "color": "#E5ECF6",
              "width": 0.5
             },
             "pattern": {
              "fillmode": "overlay",
              "size": 10,
              "solidity": 0.2
             }
            },
            "type": "barpolar"
           }
          ],
          "carpet": [
           {
            "aaxis": {
             "endlinecolor": "#2a3f5f",
             "gridcolor": "white",
             "linecolor": "white",
             "minorgridcolor": "white",
             "startlinecolor": "#2a3f5f"
            },
            "baxis": {
             "endlinecolor": "#2a3f5f",
             "gridcolor": "white",
             "linecolor": "white",
             "minorgridcolor": "white",
             "startlinecolor": "#2a3f5f"
            },
            "type": "carpet"
           }
          ],
          "choropleth": [
           {
            "colorbar": {
             "outlinewidth": 0,
             "ticks": ""
            },
            "type": "choropleth"
           }
          ],
          "contour": [
           {
            "colorbar": {
             "outlinewidth": 0,
             "ticks": ""
            },
            "colorscale": [
             [
              0,
              "#0d0887"
             ],
             [
              0.1111111111111111,
              "#46039f"
             ],
             [
              0.2222222222222222,
              "#7201a8"
             ],
             [
              0.3333333333333333,
              "#9c179e"
             ],
             [
              0.4444444444444444,
              "#bd3786"
             ],
             [
              0.5555555555555556,
              "#d8576b"
             ],
             [
              0.6666666666666666,
              "#ed7953"
             ],
             [
              0.7777777777777778,
              "#fb9f3a"
             ],
             [
              0.8888888888888888,
              "#fdca26"
             ],
             [
              1,
              "#f0f921"
             ]
            ],
            "type": "contour"
           }
          ],
          "contourcarpet": [
           {
            "colorbar": {
             "outlinewidth": 0,
             "ticks": ""
            },
            "type": "contourcarpet"
           }
          ],
          "heatmap": [
           {
            "colorbar": {
             "outlinewidth": 0,
             "ticks": ""
            },
            "colorscale": [
             [
              0,
              "#0d0887"
             ],
             [
              0.1111111111111111,
              "#46039f"
             ],
             [
              0.2222222222222222,
              "#7201a8"
             ],
             [
              0.3333333333333333,
              "#9c179e"
             ],
             [
              0.4444444444444444,
              "#bd3786"
             ],
             [
              0.5555555555555556,
              "#d8576b"
             ],
             [
              0.6666666666666666,
              "#ed7953"
             ],
             [
              0.7777777777777778,
              "#fb9f3a"
             ],
             [
              0.8888888888888888,
              "#fdca26"
             ],
             [
              1,
              "#f0f921"
             ]
            ],
            "type": "heatmap"
           }
          ],
          "histogram": [
           {
            "marker": {
             "pattern": {
              "fillmode": "overlay",
              "size": 10,
              "solidity": 0.2
             }
            },
            "type": "histogram"
           }
          ],
          "histogram2d": [
           {
            "colorbar": {
             "outlinewidth": 0,
             "ticks": ""
            },
            "colorscale": [
             [
              0,
              "#0d0887"
             ],
             [
              0.1111111111111111,
              "#46039f"
             ],
             [
              0.2222222222222222,
              "#7201a8"
             ],
             [
              0.3333333333333333,
              "#9c179e"
             ],
             [
              0.4444444444444444,
              "#bd3786"
             ],
             [
              0.5555555555555556,
              "#d8576b"
             ],
             [
              0.6666666666666666,
              "#ed7953"
             ],
             [
              0.7777777777777778,
              "#fb9f3a"
             ],
             [
              0.8888888888888888,
              "#fdca26"
             ],
             [
              1,
              "#f0f921"
             ]
            ],
            "type": "histogram2d"
           }
          ],
          "histogram2dcontour": [
           {
            "colorbar": {
             "outlinewidth": 0,
             "ticks": ""
            },
            "colorscale": [
             [
              0,
              "#0d0887"
             ],
             [
              0.1111111111111111,
              "#46039f"
             ],
             [
              0.2222222222222222,
              "#7201a8"
             ],
             [
              0.3333333333333333,
              "#9c179e"
             ],
             [
              0.4444444444444444,
              "#bd3786"
             ],
             [
              0.5555555555555556,
              "#d8576b"
             ],
             [
              0.6666666666666666,
              "#ed7953"
             ],
             [
              0.7777777777777778,
              "#fb9f3a"
             ],
             [
              0.8888888888888888,
              "#fdca26"
             ],
             [
              1,
              "#f0f921"
             ]
            ],
            "type": "histogram2dcontour"
           }
          ],
          "mesh3d": [
           {
            "colorbar": {
             "outlinewidth": 0,
             "ticks": ""
            },
            "type": "mesh3d"
           }
          ],
          "parcoords": [
           {
            "line": {
             "colorbar": {
              "outlinewidth": 0,
              "ticks": ""
             }
            },
            "type": "parcoords"
           }
          ],
          "pie": [
           {
            "automargin": true,
            "type": "pie"
           }
          ],
          "scatter": [
           {
            "fillpattern": {
             "fillmode": "overlay",
             "size": 10,
             "solidity": 0.2
            },
            "type": "scatter"
           }
          ],
          "scatter3d": [
           {
            "line": {
             "colorbar": {
              "outlinewidth": 0,
              "ticks": ""
             }
            },
            "marker": {
             "colorbar": {
              "outlinewidth": 0,
              "ticks": ""
             }
            },
            "type": "scatter3d"
           }
          ],
          "scattercarpet": [
           {
            "marker": {
             "colorbar": {
              "outlinewidth": 0,
              "ticks": ""
             }
            },
            "type": "scattercarpet"
           }
          ],
          "scattergeo": [
           {
            "marker": {
             "colorbar": {
              "outlinewidth": 0,
              "ticks": ""
             }
            },
            "type": "scattergeo"
           }
          ],
          "scattergl": [
           {
            "marker": {
             "colorbar": {
              "outlinewidth": 0,
              "ticks": ""
             }
            },
            "type": "scattergl"
           }
          ],
          "scattermap": [
           {
            "marker": {
             "colorbar": {
              "outlinewidth": 0,
              "ticks": ""
             }
            },
            "type": "scattermap"
           }
          ],
          "scattermapbox": [
           {
            "marker": {
             "colorbar": {
              "outlinewidth": 0,
              "ticks": ""
             }
            },
            "type": "scattermapbox"
           }
          ],
          "scatterpolar": [
           {
            "marker": {
             "colorbar": {
              "outlinewidth": 0,
              "ticks": ""
             }
            },
            "type": "scatterpolar"
           }
          ],
          "scatterpolargl": [
           {
            "marker": {
             "colorbar": {
              "outlinewidth": 0,
              "ticks": ""
             }
            },
            "type": "scatterpolargl"
           }
          ],
          "scatterternary": [
           {
            "marker": {
             "colorbar": {
              "outlinewidth": 0,
              "ticks": ""
             }
            },
            "type": "scatterternary"
           }
          ],
          "surface": [
           {
            "colorbar": {
             "outlinewidth": 0,
             "ticks": ""
            },
            "colorscale": [
             [
              0,
              "#0d0887"
             ],
             [
              0.1111111111111111,
              "#46039f"
             ],
             [
              0.2222222222222222,
              "#7201a8"
             ],
             [
              0.3333333333333333,
              "#9c179e"
             ],
             [
              0.4444444444444444,
              "#bd3786"
             ],
             [
              0.5555555555555556,
              "#d8576b"
             ],
             [
              0.6666666666666666,
              "#ed7953"
             ],
             [
              0.7777777777777778,
              "#fb9f3a"
             ],
             [
              0.8888888888888888,
              "#fdca26"
             ],
             [
              1,
              "#f0f921"
             ]
            ],
            "type": "surface"
           }
          ],
          "table": [
           {
            "cells": {
             "fill": {
              "color": "#EBF0F8"
             },
             "line": {
              "color": "white"
             }
            },
            "header": {
             "fill": {
              "color": "#C8D4E3"
             },
             "line": {
              "color": "white"
             }
            },
            "type": "table"
           }
          ]
         },
         "layout": {
          "annotationdefaults": {
           "arrowcolor": "#2a3f5f",
           "arrowhead": 0,
           "arrowwidth": 1
          },
          "autotypenumbers": "strict",
          "coloraxis": {
           "colorbar": {
            "outlinewidth": 0,
            "ticks": ""
           }
          },
          "colorscale": {
           "diverging": [
            [
             0,
             "#8e0152"
            ],
            [
             0.1,
             "#c51b7d"
            ],
            [
             0.2,
             "#de77ae"
            ],
            [
             0.3,
             "#f1b6da"
            ],
            [
             0.4,
             "#fde0ef"
            ],
            [
             0.5,
             "#f7f7f7"
            ],
            [
             0.6,
             "#e6f5d0"
            ],
            [
             0.7,
             "#b8e186"
            ],
            [
             0.8,
             "#7fbc41"
            ],
            [
             0.9,
             "#4d9221"
            ],
            [
             1,
             "#276419"
            ]
           ],
           "sequential": [
            [
             0,
             "#0d0887"
            ],
            [
             0.1111111111111111,
             "#46039f"
            ],
            [
             0.2222222222222222,
             "#7201a8"
            ],
            [
             0.3333333333333333,
             "#9c179e"
            ],
            [
             0.4444444444444444,
             "#bd3786"
            ],
            [
             0.5555555555555556,
             "#d8576b"
            ],
            [
             0.6666666666666666,
             "#ed7953"
            ],
            [
             0.7777777777777778,
             "#fb9f3a"
            ],
            [
             0.8888888888888888,
             "#fdca26"
            ],
            [
             1,
             "#f0f921"
            ]
           ],
           "sequentialminus": [
            [
             0,
             "#0d0887"
            ],
            [
             0.1111111111111111,
             "#46039f"
            ],
            [
             0.2222222222222222,
             "#7201a8"
            ],
            [
             0.3333333333333333,
             "#9c179e"
            ],
            [
             0.4444444444444444,
             "#bd3786"
            ],
            [
             0.5555555555555556,
             "#d8576b"
            ],
            [
             0.6666666666666666,
             "#ed7953"
            ],
            [
             0.7777777777777778,
             "#fb9f3a"
            ],
            [
             0.8888888888888888,
             "#fdca26"
            ],
            [
             1,
             "#f0f921"
            ]
           ]
          },
          "colorway": [
           "#636efa",
           "#EF553B",
           "#00cc96",
           "#ab63fa",
           "#FFA15A",
           "#19d3f3",
           "#FF6692",
           "#B6E880",
           "#FF97FF",
           "#FECB52"
          ],
          "font": {
           "color": "#2a3f5f"
          },
          "geo": {
           "bgcolor": "white",
           "lakecolor": "white",
           "landcolor": "#E5ECF6",
           "showlakes": true,
           "showland": true,
           "subunitcolor": "white"
          },
          "hoverlabel": {
           "align": "left"
          },
          "hovermode": "closest",
          "mapbox": {
           "style": "light"
          },
          "paper_bgcolor": "white",
          "plot_bgcolor": "#E5ECF6",
          "polar": {
           "angularaxis": {
            "gridcolor": "white",
            "linecolor": "white",
            "ticks": ""
           },
           "bgcolor": "#E5ECF6",
           "radialaxis": {
            "gridcolor": "white",
            "linecolor": "white",
            "ticks": ""
           }
          },
          "scene": {
           "xaxis": {
            "backgroundcolor": "#E5ECF6",
            "gridcolor": "white",
            "gridwidth": 2,
            "linecolor": "white",
            "showbackground": true,
            "ticks": "",
            "zerolinecolor": "white"
           },
           "yaxis": {
            "backgroundcolor": "#E5ECF6",
            "gridcolor": "white",
            "gridwidth": 2,
            "linecolor": "white",
            "showbackground": true,
            "ticks": "",
            "zerolinecolor": "white"
           },
           "zaxis": {
            "backgroundcolor": "#E5ECF6",
            "gridcolor": "white",
            "gridwidth": 2,
            "linecolor": "white",
            "showbackground": true,
            "ticks": "",
            "zerolinecolor": "white"
           }
          },
          "shapedefaults": {
           "line": {
            "color": "#2a3f5f"
           }
          },
          "ternary": {
           "aaxis": {
            "gridcolor": "white",
            "linecolor": "white",
            "ticks": ""
           },
           "baxis": {
            "gridcolor": "white",
            "linecolor": "white",
            "ticks": ""
           },
           "bgcolor": "#E5ECF6",
           "caxis": {
            "gridcolor": "white",
            "linecolor": "white",
            "ticks": ""
           }
          },
          "title": {
           "x": 0.05
          },
          "xaxis": {
           "automargin": true,
           "gridcolor": "white",
           "linecolor": "white",
           "ticks": "",
           "title": {
            "standoff": 15
           },
           "zerolinecolor": "white",
           "zerolinewidth": 2
          },
          "yaxis": {
           "automargin": true,
           "gridcolor": "white",
           "linecolor": "white",
           "ticks": "",
           "title": {
            "standoff": 15
           },
           "zerolinecolor": "white",
           "zerolinewidth": 2
          }
         }
        },
        "width": 800,
        "xaxis": {
         "anchor": "y",
         "constrain": "domain",
         "domain": [
          0,
          1
         ],
         "scaleanchor": "y"
        },
        "yaxis": {
         "anchor": "x",
         "autorange": "reversed",
         "constrain": "domain",
         "domain": [
          0,
          1
         ]
        }
       }
      }
     },
     "metadata": {},
     "output_type": "display_data"
    }
   ],
   "source": [
    "px.imshow(df.corr(),text_auto=True,width=800,height=600)"
   ]
  },
  {
   "cell_type": "code",
   "execution_count": 9,
   "id": "6466c0f4",
   "metadata": {},
   "outputs": [],
   "source": [
    "fi_df1 = df.corr()['Price_in_Cr'].to_frame().sort_values(by='Price_in_Cr',ascending=False).reset_index().rename({'index':'Features','Price_in_Cr':'Importance'},axis=1)"
   ]
  },
  {
   "cell_type": "code",
   "execution_count": 10,
   "id": "2fea8487",
   "metadata": {},
   "outputs": [
    {
     "data": {
      "text/html": [
       "<div>\n",
       "<style scoped>\n",
       "    .dataframe tbody tr th:only-of-type {\n",
       "        vertical-align: middle;\n",
       "    }\n",
       "\n",
       "    .dataframe tbody tr th {\n",
       "        vertical-align: top;\n",
       "    }\n",
       "\n",
       "    .dataframe thead th {\n",
       "        text-align: right;\n",
       "    }\n",
       "</style>\n",
       "<table border=\"1\" class=\"dataframe\">\n",
       "  <thead>\n",
       "    <tr style=\"text-align: right;\">\n",
       "      <th></th>\n",
       "      <th>Features</th>\n",
       "      <th>Importance</th>\n",
       "    </tr>\n",
       "  </thead>\n",
       "  <tbody>\n",
       "    <tr>\n",
       "      <th>0</th>\n",
       "      <td>Price_in_Cr</td>\n",
       "      <td>1.000000</td>\n",
       "    </tr>\n",
       "    <tr>\n",
       "      <th>1</th>\n",
       "      <td>Price_per_sqft</td>\n",
       "      <td>0.877645</td>\n",
       "    </tr>\n",
       "    <tr>\n",
       "      <th>2</th>\n",
       "      <td>Floor_area</td>\n",
       "      <td>0.819041</td>\n",
       "    </tr>\n",
       "    <tr>\n",
       "      <th>3</th>\n",
       "      <td>location_area</td>\n",
       "      <td>0.736711</td>\n",
       "    </tr>\n",
       "    <tr>\n",
       "      <th>4</th>\n",
       "      <td>Bathrooms</td>\n",
       "      <td>0.547007</td>\n",
       "    </tr>\n",
       "    <tr>\n",
       "      <th>5</th>\n",
       "      <td>Bedrooms</td>\n",
       "      <td>0.491993</td>\n",
       "    </tr>\n",
       "    <tr>\n",
       "      <th>6</th>\n",
       "      <td>Is_in_Dhaka</td>\n",
       "      <td>0.179655</td>\n",
       "    </tr>\n",
       "    <tr>\n",
       "      <th>7</th>\n",
       "      <td>City</td>\n",
       "      <td>0.008057</td>\n",
       "    </tr>\n",
       "    <tr>\n",
       "      <th>8</th>\n",
       "      <td>floor_level</td>\n",
       "      <td>-0.053174</td>\n",
       "    </tr>\n",
       "  </tbody>\n",
       "</table>\n",
       "</div>"
      ],
      "text/plain": [
       "         Features  Importance\n",
       "0     Price_in_Cr    1.000000\n",
       "1  Price_per_sqft    0.877645\n",
       "2      Floor_area    0.819041\n",
       "3   location_area    0.736711\n",
       "4       Bathrooms    0.547007\n",
       "5        Bedrooms    0.491993\n",
       "6     Is_in_Dhaka    0.179655\n",
       "7            City    0.008057\n",
       "8     floor_level   -0.053174"
      ]
     },
     "execution_count": 10,
     "metadata": {},
     "output_type": "execute_result"
    }
   ],
   "source": [
    "fi_df1"
   ]
  },
  {
   "cell_type": "code",
   "execution_count": 11,
   "id": "3dec5de3",
   "metadata": {},
   "outputs": [
    {
     "data": {
      "text/html": [
       "<div>\n",
       "<style scoped>\n",
       "    .dataframe tbody tr th:only-of-type {\n",
       "        vertical-align: middle;\n",
       "    }\n",
       "\n",
       "    .dataframe tbody tr th {\n",
       "        vertical-align: top;\n",
       "    }\n",
       "\n",
       "    .dataframe thead th {\n",
       "        text-align: right;\n",
       "    }\n",
       "</style>\n",
       "<table border=\"1\" class=\"dataframe\">\n",
       "  <thead>\n",
       "    <tr style=\"text-align: right;\">\n",
       "      <th></th>\n",
       "      <th>Features</th>\n",
       "      <th>Importance</th>\n",
       "    </tr>\n",
       "  </thead>\n",
       "  <tbody>\n",
       "    <tr>\n",
       "      <th>6</th>\n",
       "      <td>Is_in_Dhaka</td>\n",
       "      <td>0.179655</td>\n",
       "    </tr>\n",
       "    <tr>\n",
       "      <th>7</th>\n",
       "      <td>City</td>\n",
       "      <td>0.008057</td>\n",
       "    </tr>\n",
       "    <tr>\n",
       "      <th>8</th>\n",
       "      <td>floor_level</td>\n",
       "      <td>-0.053174</td>\n",
       "    </tr>\n",
       "  </tbody>\n",
       "</table>\n",
       "</div>"
      ],
      "text/plain": [
       "      Features  Importance\n",
       "6  Is_in_Dhaka    0.179655\n",
       "7         City    0.008057\n",
       "8  floor_level   -0.053174"
      ]
     },
     "execution_count": 11,
     "metadata": {},
     "output_type": "execute_result"
    }
   ],
   "source": [
    "fi_df1.tail(3)"
   ]
  },
  {
   "cell_type": "markdown",
   "id": "70e961fe",
   "metadata": {},
   "source": [
    "# (2) Random Forest Feature Importance"
   ]
  },
  {
   "cell_type": "code",
   "execution_count": 12,
   "id": "6dc00d47",
   "metadata": {},
   "outputs": [
    {
     "data": {
      "text/html": [
       "<div>\n",
       "<style scoped>\n",
       "    .dataframe tbody tr th:only-of-type {\n",
       "        vertical-align: middle;\n",
       "    }\n",
       "\n",
       "    .dataframe tbody tr th {\n",
       "        vertical-align: top;\n",
       "    }\n",
       "\n",
       "    .dataframe thead th {\n",
       "        text-align: right;\n",
       "    }\n",
       "</style>\n",
       "<table border=\"1\" class=\"dataframe\">\n",
       "  <thead>\n",
       "    <tr style=\"text-align: right;\">\n",
       "      <th></th>\n",
       "      <th>Features</th>\n",
       "      <th>RF_Importance</th>\n",
       "    </tr>\n",
       "  </thead>\n",
       "  <tbody>\n",
       "    <tr>\n",
       "      <th>5</th>\n",
       "      <td>Price_per_sqft</td>\n",
       "      <td>0.553417</td>\n",
       "    </tr>\n",
       "    <tr>\n",
       "      <th>2</th>\n",
       "      <td>Floor_area</td>\n",
       "      <td>0.429360</td>\n",
       "    </tr>\n",
       "    <tr>\n",
       "      <th>4</th>\n",
       "      <td>location_area</td>\n",
       "      <td>0.014159</td>\n",
       "    </tr>\n",
       "    <tr>\n",
       "      <th>1</th>\n",
       "      <td>Bathrooms</td>\n",
       "      <td>0.001082</td>\n",
       "    </tr>\n",
       "    <tr>\n",
       "      <th>6</th>\n",
       "      <td>floor_level</td>\n",
       "      <td>0.000815</td>\n",
       "    </tr>\n",
       "    <tr>\n",
       "      <th>0</th>\n",
       "      <td>Bedrooms</td>\n",
       "      <td>0.000474</td>\n",
       "    </tr>\n",
       "    <tr>\n",
       "      <th>3</th>\n",
       "      <td>City</td>\n",
       "      <td>0.000450</td>\n",
       "    </tr>\n",
       "    <tr>\n",
       "      <th>7</th>\n",
       "      <td>Is_in_Dhaka</td>\n",
       "      <td>0.000242</td>\n",
       "    </tr>\n",
       "  </tbody>\n",
       "</table>\n",
       "</div>"
      ],
      "text/plain": [
       "         Features  RF_Importance\n",
       "5  Price_per_sqft       0.553417\n",
       "2      Floor_area       0.429360\n",
       "4   location_area       0.014159\n",
       "1       Bathrooms       0.001082\n",
       "6     floor_level       0.000815\n",
       "0        Bedrooms       0.000474\n",
       "3            City       0.000450\n",
       "7     Is_in_Dhaka       0.000242"
      ]
     },
     "execution_count": 12,
     "metadata": {},
     "output_type": "execute_result"
    }
   ],
   "source": [
    "from sklearn.ensemble import RandomForestRegressor\n",
    "rf = RandomForestRegressor(n_estimators=100,random_state=0).fit(x_scaled,y)\n",
    "\n",
    "fi_df2 = pd.DataFrame({'Features':x.columns,'RF_Importance':rf.feature_importances_}).sort_values(by='RF_Importance',ascending=False)\n",
    "fi_df2"
   ]
  },
  {
   "cell_type": "code",
   "execution_count": 13,
   "id": "4400eeca",
   "metadata": {},
   "outputs": [
    {
     "data": {
      "text/html": [
       "<div>\n",
       "<style scoped>\n",
       "    .dataframe tbody tr th:only-of-type {\n",
       "        vertical-align: middle;\n",
       "    }\n",
       "\n",
       "    .dataframe tbody tr th {\n",
       "        vertical-align: top;\n",
       "    }\n",
       "\n",
       "    .dataframe thead th {\n",
       "        text-align: right;\n",
       "    }\n",
       "</style>\n",
       "<table border=\"1\" class=\"dataframe\">\n",
       "  <thead>\n",
       "    <tr style=\"text-align: right;\">\n",
       "      <th></th>\n",
       "      <th>Features</th>\n",
       "      <th>RF_Importance</th>\n",
       "    </tr>\n",
       "  </thead>\n",
       "  <tbody>\n",
       "    <tr>\n",
       "      <th>0</th>\n",
       "      <td>Bedrooms</td>\n",
       "      <td>0.000474</td>\n",
       "    </tr>\n",
       "    <tr>\n",
       "      <th>3</th>\n",
       "      <td>City</td>\n",
       "      <td>0.000450</td>\n",
       "    </tr>\n",
       "    <tr>\n",
       "      <th>7</th>\n",
       "      <td>Is_in_Dhaka</td>\n",
       "      <td>0.000242</td>\n",
       "    </tr>\n",
       "  </tbody>\n",
       "</table>\n",
       "</div>"
      ],
      "text/plain": [
       "      Features  RF_Importance\n",
       "0     Bedrooms       0.000474\n",
       "3         City       0.000450\n",
       "7  Is_in_Dhaka       0.000242"
      ]
     },
     "execution_count": 13,
     "metadata": {},
     "output_type": "execute_result"
    }
   ],
   "source": [
    "fi_df2.tail(3)"
   ]
  },
  {
   "cell_type": "markdown",
   "id": "091425a3",
   "metadata": {},
   "source": [
    "# (3) Gradient Boosting"
   ]
  },
  {
   "cell_type": "code",
   "execution_count": 14,
   "id": "6620af4c",
   "metadata": {},
   "outputs": [
    {
     "data": {
      "text/html": [
       "<div>\n",
       "<style scoped>\n",
       "    .dataframe tbody tr th:only-of-type {\n",
       "        vertical-align: middle;\n",
       "    }\n",
       "\n",
       "    .dataframe tbody tr th {\n",
       "        vertical-align: top;\n",
       "    }\n",
       "\n",
       "    .dataframe thead th {\n",
       "        text-align: right;\n",
       "    }\n",
       "</style>\n",
       "<table border=\"1\" class=\"dataframe\">\n",
       "  <thead>\n",
       "    <tr style=\"text-align: right;\">\n",
       "      <th></th>\n",
       "      <th>Features</th>\n",
       "      <th>GB_Importance</th>\n",
       "    </tr>\n",
       "  </thead>\n",
       "  <tbody>\n",
       "    <tr>\n",
       "      <th>5</th>\n",
       "      <td>Price_per_sqft</td>\n",
       "      <td>0.504056</td>\n",
       "    </tr>\n",
       "    <tr>\n",
       "      <th>2</th>\n",
       "      <td>Floor_area</td>\n",
       "      <td>0.488555</td>\n",
       "    </tr>\n",
       "    <tr>\n",
       "      <th>4</th>\n",
       "      <td>location_area</td>\n",
       "      <td>0.006958</td>\n",
       "    </tr>\n",
       "    <tr>\n",
       "      <th>0</th>\n",
       "      <td>Bedrooms</td>\n",
       "      <td>0.000172</td>\n",
       "    </tr>\n",
       "    <tr>\n",
       "      <th>3</th>\n",
       "      <td>City</td>\n",
       "      <td>0.000112</td>\n",
       "    </tr>\n",
       "    <tr>\n",
       "      <th>1</th>\n",
       "      <td>Bathrooms</td>\n",
       "      <td>0.000078</td>\n",
       "    </tr>\n",
       "    <tr>\n",
       "      <th>6</th>\n",
       "      <td>floor_level</td>\n",
       "      <td>0.000045</td>\n",
       "    </tr>\n",
       "    <tr>\n",
       "      <th>7</th>\n",
       "      <td>Is_in_Dhaka</td>\n",
       "      <td>0.000023</td>\n",
       "    </tr>\n",
       "  </tbody>\n",
       "</table>\n",
       "</div>"
      ],
      "text/plain": [
       "         Features  GB_Importance\n",
       "5  Price_per_sqft       0.504056\n",
       "2      Floor_area       0.488555\n",
       "4   location_area       0.006958\n",
       "0        Bedrooms       0.000172\n",
       "3            City       0.000112\n",
       "1       Bathrooms       0.000078\n",
       "6     floor_level       0.000045\n",
       "7     Is_in_Dhaka       0.000023"
      ]
     },
     "execution_count": 14,
     "metadata": {},
     "output_type": "execute_result"
    }
   ],
   "source": [
    "from sklearn.ensemble import GradientBoostingRegressor\n",
    "gb = GradientBoostingRegressor(n_estimators=100,random_state=0).fit(x_scaled,y)\n",
    "\n",
    "fi_df3 = pd.DataFrame({'Features':x.columns,'GB_Importance':gb.feature_importances_}).sort_values(by='GB_Importance',ascending=False)\n",
    "fi_df3"
   ]
  },
  {
   "cell_type": "markdown",
   "id": "cf9c7bd4",
   "metadata": {},
   "source": [
    "# (4) Lasso"
   ]
  },
  {
   "cell_type": "code",
   "execution_count": 15,
   "id": "2e45ddbb",
   "metadata": {},
   "outputs": [
    {
     "data": {
      "text/html": [
       "<div>\n",
       "<style scoped>\n",
       "    .dataframe tbody tr th:only-of-type {\n",
       "        vertical-align: middle;\n",
       "    }\n",
       "\n",
       "    .dataframe tbody tr th {\n",
       "        vertical-align: top;\n",
       "    }\n",
       "\n",
       "    .dataframe thead th {\n",
       "        text-align: right;\n",
       "    }\n",
       "</style>\n",
       "<table border=\"1\" class=\"dataframe\">\n",
       "  <thead>\n",
       "    <tr style=\"text-align: right;\">\n",
       "      <th></th>\n",
       "      <th>Features</th>\n",
       "      <th>lasso_Importance</th>\n",
       "    </tr>\n",
       "  </thead>\n",
       "  <tbody>\n",
       "    <tr>\n",
       "      <th>5</th>\n",
       "      <td>Price_per_sqft</td>\n",
       "      <td>0.370587</td>\n",
       "    </tr>\n",
       "    <tr>\n",
       "      <th>2</th>\n",
       "      <td>Floor_area</td>\n",
       "      <td>0.281456</td>\n",
       "    </tr>\n",
       "    <tr>\n",
       "      <th>4</th>\n",
       "      <td>location_area</td>\n",
       "      <td>0.003352</td>\n",
       "    </tr>\n",
       "    <tr>\n",
       "      <th>0</th>\n",
       "      <td>Bedrooms</td>\n",
       "      <td>0.000000</td>\n",
       "    </tr>\n",
       "    <tr>\n",
       "      <th>3</th>\n",
       "      <td>City</td>\n",
       "      <td>0.000000</td>\n",
       "    </tr>\n",
       "    <tr>\n",
       "      <th>1</th>\n",
       "      <td>Bathrooms</td>\n",
       "      <td>0.000000</td>\n",
       "    </tr>\n",
       "    <tr>\n",
       "      <th>6</th>\n",
       "      <td>floor_level</td>\n",
       "      <td>-0.000000</td>\n",
       "    </tr>\n",
       "    <tr>\n",
       "      <th>7</th>\n",
       "      <td>Is_in_Dhaka</td>\n",
       "      <td>0.000000</td>\n",
       "    </tr>\n",
       "  </tbody>\n",
       "</table>\n",
       "</div>"
      ],
      "text/plain": [
       "         Features  lasso_Importance\n",
       "5  Price_per_sqft          0.370587\n",
       "2      Floor_area          0.281456\n",
       "4   location_area          0.003352\n",
       "0        Bedrooms          0.000000\n",
       "3            City          0.000000\n",
       "1       Bathrooms          0.000000\n",
       "6     floor_level         -0.000000\n",
       "7     Is_in_Dhaka          0.000000"
      ]
     },
     "execution_count": 15,
     "metadata": {},
     "output_type": "execute_result"
    }
   ],
   "source": [
    "from sklearn.linear_model import Lasso\n",
    "lasso = Lasso(alpha=0.1).fit(x_scaled,y)\n",
    "\n",
    "fi_df4 = pd.DataFrame({'Features':x.columns,'lasso_Importance': lasso.coef_}).sort_values(by='lasso_Importance',ascending=False)\n",
    "fi_df4"
   ]
  },
  {
   "cell_type": "markdown",
   "id": "9e40eeef",
   "metadata": {},
   "source": [
    "# (5) Recursive Feature Elimination\n",
    "## Backward Subset Selection (mlxtend) "
   ]
  },
  {
   "cell_type": "code",
   "execution_count": 16,
   "id": "76b46a34",
   "metadata": {},
   "outputs": [
    {
     "data": {
      "text/html": [
       "<div>\n",
       "<style scoped>\n",
       "    .dataframe tbody tr th:only-of-type {\n",
       "        vertical-align: middle;\n",
       "    }\n",
       "\n",
       "    .dataframe tbody tr th {\n",
       "        vertical-align: top;\n",
       "    }\n",
       "\n",
       "    .dataframe thead th {\n",
       "        text-align: right;\n",
       "    }\n",
       "</style>\n",
       "<table border=\"1\" class=\"dataframe\">\n",
       "  <thead>\n",
       "    <tr style=\"text-align: right;\">\n",
       "      <th></th>\n",
       "      <th>Features</th>\n",
       "      <th>RFE_Importance</th>\n",
       "    </tr>\n",
       "  </thead>\n",
       "  <tbody>\n",
       "    <tr>\n",
       "      <th>5</th>\n",
       "      <td>Price_per_sqft</td>\n",
       "      <td>0.553417</td>\n",
       "    </tr>\n",
       "    <tr>\n",
       "      <th>2</th>\n",
       "      <td>Floor_area</td>\n",
       "      <td>0.429360</td>\n",
       "    </tr>\n",
       "    <tr>\n",
       "      <th>4</th>\n",
       "      <td>location_area</td>\n",
       "      <td>0.014159</td>\n",
       "    </tr>\n",
       "    <tr>\n",
       "      <th>1</th>\n",
       "      <td>Bathrooms</td>\n",
       "      <td>0.001082</td>\n",
       "    </tr>\n",
       "    <tr>\n",
       "      <th>6</th>\n",
       "      <td>floor_level</td>\n",
       "      <td>0.000815</td>\n",
       "    </tr>\n",
       "    <tr>\n",
       "      <th>0</th>\n",
       "      <td>Bedrooms</td>\n",
       "      <td>0.000474</td>\n",
       "    </tr>\n",
       "    <tr>\n",
       "      <th>3</th>\n",
       "      <td>City</td>\n",
       "      <td>0.000450</td>\n",
       "    </tr>\n",
       "    <tr>\n",
       "      <th>7</th>\n",
       "      <td>Is_in_Dhaka</td>\n",
       "      <td>0.000242</td>\n",
       "    </tr>\n",
       "  </tbody>\n",
       "</table>\n",
       "</div>"
      ],
      "text/plain": [
       "         Features  RFE_Importance\n",
       "5  Price_per_sqft        0.553417\n",
       "2      Floor_area        0.429360\n",
       "4   location_area        0.014159\n",
       "1       Bathrooms        0.001082\n",
       "6     floor_level        0.000815\n",
       "0        Bedrooms        0.000474\n",
       "3            City        0.000450\n",
       "7     Is_in_Dhaka        0.000242"
      ]
     },
     "execution_count": 16,
     "metadata": {},
     "output_type": "execute_result"
    }
   ],
   "source": [
    "from sklearn.feature_selection import RFE\n",
    "rfe = RFE(estimator=RandomForestRegressor(n_estimators=100,random_state=0)\n",
    "          ,n_features_to_select=x.shape[0]).fit(x_scaled,y)\n",
    "\n",
    "features = x.columns[rfe.support_]\n",
    "Importance = rfe.estimator_.feature_importances_\n",
    "\n",
    "fi_df5 = pd.DataFrame({'Features':features,'RFE_Importance':Importance}).sort_values(by='RFE_Importance',ascending=False)\n",
    "fi_df5"
   ]
  },
  {
   "cell_type": "markdown",
   "id": "296f5ac8",
   "metadata": {},
   "source": [
    "# (6) Permutation Importance"
   ]
  },
  {
   "cell_type": "code",
   "execution_count": 17,
   "id": "ac0e9463",
   "metadata": {},
   "outputs": [
    {
     "data": {
      "text/html": [
       "<div>\n",
       "<style scoped>\n",
       "    .dataframe tbody tr th:only-of-type {\n",
       "        vertical-align: middle;\n",
       "    }\n",
       "\n",
       "    .dataframe tbody tr th {\n",
       "        vertical-align: top;\n",
       "    }\n",
       "\n",
       "    .dataframe thead th {\n",
       "        text-align: right;\n",
       "    }\n",
       "</style>\n",
       "<table border=\"1\" class=\"dataframe\">\n",
       "  <thead>\n",
       "    <tr style=\"text-align: right;\">\n",
       "      <th></th>\n",
       "      <th>Features</th>\n",
       "      <th>PI_Importance</th>\n",
       "    </tr>\n",
       "  </thead>\n",
       "  <tbody>\n",
       "    <tr>\n",
       "      <th>5</th>\n",
       "      <td>Price_per_sqft</td>\n",
       "      <td>0.371248</td>\n",
       "    </tr>\n",
       "    <tr>\n",
       "      <th>2</th>\n",
       "      <td>Floor_area</td>\n",
       "      <td>0.264243</td>\n",
       "    </tr>\n",
       "    <tr>\n",
       "      <th>4</th>\n",
       "      <td>location_area</td>\n",
       "      <td>0.005248</td>\n",
       "    </tr>\n",
       "    <tr>\n",
       "      <th>3</th>\n",
       "      <td>City</td>\n",
       "      <td>0.000363</td>\n",
       "    </tr>\n",
       "    <tr>\n",
       "      <th>1</th>\n",
       "      <td>Bathrooms</td>\n",
       "      <td>0.000218</td>\n",
       "    </tr>\n",
       "    <tr>\n",
       "      <th>0</th>\n",
       "      <td>Bedrooms</td>\n",
       "      <td>-0.000013</td>\n",
       "    </tr>\n",
       "    <tr>\n",
       "      <th>6</th>\n",
       "      <td>floor_level</td>\n",
       "      <td>-0.000028</td>\n",
       "    </tr>\n",
       "    <tr>\n",
       "      <th>7</th>\n",
       "      <td>Is_in_Dhaka</td>\n",
       "      <td>-0.000120</td>\n",
       "    </tr>\n",
       "  </tbody>\n",
       "</table>\n",
       "</div>"
      ],
      "text/plain": [
       "         Features  PI_Importance\n",
       "5  Price_per_sqft       0.371248\n",
       "2      Floor_area       0.264243\n",
       "4   location_area       0.005248\n",
       "3            City       0.000363\n",
       "1       Bathrooms       0.000218\n",
       "0        Bedrooms      -0.000013\n",
       "6     floor_level      -0.000028\n",
       "7     Is_in_Dhaka      -0.000120"
      ]
     },
     "execution_count": 17,
     "metadata": {},
     "output_type": "execute_result"
    }
   ],
   "source": [
    "from sklearn.inspection import permutation_importance\n",
    "from sklearn.model_selection import train_test_split\n",
    "x_train,x_test,y_train,y_test = train_test_split(x_scaled,y,test_size=0.2,random_state=0)\n",
    "\n",
    "rf = RandomForestRegressor(n_estimators=100,random_state=0)\n",
    "rf.fit(x_train,y_train)\n",
    "\n",
    "pi = permutation_importance(estimator=rf,X=x_test,y=y_test,scoring='neg_mean_squared_error',n_repeats=10,random_state=0)\n",
    "\n",
    "fi_df6 = pd.DataFrame({'Features':x.columns,'PI_Importance':pi.importances_mean}).sort_values(by='PI_Importance',ascending=False)\n",
    "fi_df6"
   ]
  },
  {
   "cell_type": "markdown",
   "id": "9dddfce4",
   "metadata": {},
   "source": [
    "# (7) Shap values"
   ]
  },
  {
   "cell_type": "code",
   "execution_count": 20,
   "id": "92013f3c",
   "metadata": {},
   "outputs": [
    {
     "data": {
      "image/png": "[encoded data removed]",
      "text/plain": [
       "<Figure size 800x470 with 2 Axes>"
      ]
     },
     "metadata": {},
     "output_type": "display_data"
    }
   ],
   "source": [
    "import shap\n",
    "explainer = shap.TreeExplainer(rf)\n",
    "shap_values = explainer(x_test,check_additivity=False)\n",
    "\n",
    "shap.summary_plot(shap_values,x_test,feature_names=x.columns)"
   ]
  },
  {
   "cell_type": "code",
   "execution_count": 30,
   "id": "c55b82b7",
   "metadata": {},
   "outputs": [
    {
     "data": {
      "text/html": [
       "<div>\n",
       "<style scoped>\n",
       "    .dataframe tbody tr th:only-of-type {\n",
       "        vertical-align: middle;\n",
       "    }\n",
       "\n",
       "    .dataframe tbody tr th {\n",
       "        vertical-align: top;\n",
       "    }\n",
       "\n",
       "    .dataframe thead th {\n",
       "        text-align: right;\n",
       "    }\n",
       "</style>\n",
       "<table border=\"1\" class=\"dataframe\">\n",
       "  <thead>\n",
       "    <tr style=\"text-align: right;\">\n",
       "      <th></th>\n",
       "      <th>Features</th>\n",
       "      <th>Shap_Importance</th>\n",
       "    </tr>\n",
       "  </thead>\n",
       "  <tbody>\n",
       "    <tr>\n",
       "      <th>5</th>\n",
       "      <td>Price_per_sqft</td>\n",
       "      <td>0.036490</td>\n",
       "    </tr>\n",
       "    <tr>\n",
       "      <th>2</th>\n",
       "      <td>Floor_area</td>\n",
       "      <td>0.027255</td>\n",
       "    </tr>\n",
       "    <tr>\n",
       "      <th>3</th>\n",
       "      <td>City</td>\n",
       "      <td>0.000554</td>\n",
       "    </tr>\n",
       "    <tr>\n",
       "      <th>4</th>\n",
       "      <td>location_area</td>\n",
       "      <td>0.000199</td>\n",
       "    </tr>\n",
       "    <tr>\n",
       "      <th>1</th>\n",
       "      <td>Bathrooms</td>\n",
       "      <td>0.000185</td>\n",
       "    </tr>\n",
       "    <tr>\n",
       "      <th>7</th>\n",
       "      <td>Is_in_Dhaka</td>\n",
       "      <td>0.000060</td>\n",
       "    </tr>\n",
       "    <tr>\n",
       "      <th>6</th>\n",
       "      <td>floor_level</td>\n",
       "      <td>0.000044</td>\n",
       "    </tr>\n",
       "    <tr>\n",
       "      <th>0</th>\n",
       "      <td>Bedrooms</td>\n",
       "      <td>0.000042</td>\n",
       "    </tr>\n",
       "  </tbody>\n",
       "</table>\n",
       "</div>"
      ],
      "text/plain": [
       "         Features  Shap_Importance\n",
       "5  Price_per_sqft         0.036490\n",
       "2      Floor_area         0.027255\n",
       "3            City         0.000554\n",
       "4   location_area         0.000199\n",
       "1       Bathrooms         0.000185\n",
       "7     Is_in_Dhaka         0.000060\n",
       "6     floor_level         0.000044\n",
       "0        Bedrooms         0.000042"
      ]
     },
     "execution_count": 30,
     "metadata": {},
     "output_type": "execute_result"
    }
   ],
   "source": [
    "fi_df7 = pd.DataFrame({'Features':x.columns,'Shap_Importance':np.abs((shap_values.values).mean(axis=0))}).sort_values(by='Shap_Importance',ascending=False)\n",
    "fi_df7"
   ]
  },
  {
   "cell_type": "markdown",
   "id": "a3c9f9a8",
   "metadata": {},
   "source": [
    "# Merge ALL fi_df"
   ]
  },
  {
   "cell_type": "code",
   "execution_count": 39,
   "id": "4adb1407",
   "metadata": {},
   "outputs": [],
   "source": [
    "final_df = fi_df1.merge(fi_df2,on='Features').merge(fi_df3,on='Features').merge(fi_df4,on='Features').merge(fi_df5,on='Features').merge(fi_df6,on='Features').merge(fi_df7,on='Features').set_index('Features')"
   ]
  },
  {
   "cell_type": "code",
   "execution_count": 40,
   "id": "cd852bd1",
   "metadata": {},
   "outputs": [
    {
     "data": {
      "text/html": [
       "<div>\n",
       "<style scoped>\n",
       "    .dataframe tbody tr th:only-of-type {\n",
       "        vertical-align: middle;\n",
       "    }\n",
       "\n",
       "    .dataframe tbody tr th {\n",
       "        vertical-align: top;\n",
       "    }\n",
       "\n",
       "    .dataframe thead th {\n",
       "        text-align: right;\n",
       "    }\n",
       "</style>\n",
       "<table border=\"1\" class=\"dataframe\">\n",
       "  <thead>\n",
       "    <tr style=\"text-align: right;\">\n",
       "      <th></th>\n",
       "      <th>Importance</th>\n",
       "      <th>RF_Importance</th>\n",
       "      <th>GB_Importance</th>\n",
       "      <th>lasso_Importance</th>\n",
       "      <th>RFE_Importance</th>\n",
       "      <th>PI_Importance</th>\n",
       "      <th>Shap_Importance</th>\n",
       "    </tr>\n",
       "    <tr>\n",
       "      <th>Features</th>\n",
       "      <th></th>\n",
       "      <th></th>\n",
       "      <th></th>\n",
       "      <th></th>\n",
       "      <th></th>\n",
       "      <th></th>\n",
       "      <th></th>\n",
       "    </tr>\n",
       "  </thead>\n",
       "  <tbody>\n",
       "    <tr>\n",
       "      <th>Price_per_sqft</th>\n",
       "      <td>0.877645</td>\n",
       "      <td>0.553417</td>\n",
       "      <td>0.504056</td>\n",
       "      <td>0.370587</td>\n",
       "      <td>0.553417</td>\n",
       "      <td>0.371248</td>\n",
       "      <td>0.036490</td>\n",
       "    </tr>\n",
       "    <tr>\n",
       "      <th>Floor_area</th>\n",
       "      <td>0.819041</td>\n",
       "      <td>0.429360</td>\n",
       "      <td>0.488555</td>\n",
       "      <td>0.281456</td>\n",
       "      <td>0.429360</td>\n",
       "      <td>0.264243</td>\n",
       "      <td>0.027255</td>\n",
       "    </tr>\n",
       "    <tr>\n",
       "      <th>location_area</th>\n",
       "      <td>0.736711</td>\n",
       "      <td>0.014159</td>\n",
       "      <td>0.006958</td>\n",
       "      <td>0.003352</td>\n",
       "      <td>0.014159</td>\n",
       "      <td>0.005248</td>\n",
       "      <td>0.000199</td>\n",
       "    </tr>\n",
       "    <tr>\n",
       "      <th>Bathrooms</th>\n",
       "      <td>0.547007</td>\n",
       "      <td>0.001082</td>\n",
       "      <td>0.000078</td>\n",
       "      <td>0.000000</td>\n",
       "      <td>0.001082</td>\n",
       "      <td>0.000218</td>\n",
       "      <td>0.000185</td>\n",
       "    </tr>\n",
       "    <tr>\n",
       "      <th>Bedrooms</th>\n",
       "      <td>0.491993</td>\n",
       "      <td>0.000474</td>\n",
       "      <td>0.000172</td>\n",
       "      <td>0.000000</td>\n",
       "      <td>0.000474</td>\n",
       "      <td>-0.000013</td>\n",
       "      <td>0.000042</td>\n",
       "    </tr>\n",
       "    <tr>\n",
       "      <th>Is_in_Dhaka</th>\n",
       "      <td>0.179655</td>\n",
       "      <td>0.000242</td>\n",
       "      <td>0.000023</td>\n",
       "      <td>0.000000</td>\n",
       "      <td>0.000242</td>\n",
       "      <td>-0.000120</td>\n",
       "      <td>0.000060</td>\n",
       "    </tr>\n",
       "    <tr>\n",
       "      <th>City</th>\n",
       "      <td>0.008057</td>\n",
       "      <td>0.000450</td>\n",
       "      <td>0.000112</td>\n",
       "      <td>0.000000</td>\n",
       "      <td>0.000450</td>\n",
       "      <td>0.000363</td>\n",
       "      <td>0.000554</td>\n",
       "    </tr>\n",
       "    <tr>\n",
       "      <th>floor_level</th>\n",
       "      <td>-0.053174</td>\n",
       "      <td>0.000815</td>\n",
       "      <td>0.000045</td>\n",
       "      <td>-0.000000</td>\n",
       "      <td>0.000815</td>\n",
       "      <td>-0.000028</td>\n",
       "      <td>0.000044</td>\n",
       "    </tr>\n",
       "  </tbody>\n",
       "</table>\n",
       "</div>"
      ],
      "text/plain": [
       "                Importance  RF_Importance  GB_Importance  lasso_Importance  \\\n",
       "Features                                                                     \n",
       "Price_per_sqft    0.877645       0.553417       0.504056          0.370587   \n",
       "Floor_area        0.819041       0.429360       0.488555          0.281456   \n",
       "location_area     0.736711       0.014159       0.006958          0.003352   \n",
       "Bathrooms         0.547007       0.001082       0.000078          0.000000   \n",
       "Bedrooms          0.491993       0.000474       0.000172          0.000000   \n",
       "Is_in_Dhaka       0.179655       0.000242       0.000023          0.000000   \n",
       "City              0.008057       0.000450       0.000112          0.000000   \n",
       "floor_level      -0.053174       0.000815       0.000045         -0.000000   \n",
       "\n",
       "                RFE_Importance  PI_Importance  Shap_Importance  \n",
       "Features                                                        \n",
       "Price_per_sqft        0.553417       0.371248         0.036490  \n",
       "Floor_area            0.429360       0.264243         0.027255  \n",
       "location_area         0.014159       0.005248         0.000199  \n",
       "Bathrooms             0.001082       0.000218         0.000185  \n",
       "Bedrooms              0.000474      -0.000013         0.000042  \n",
       "Is_in_Dhaka           0.000242      -0.000120         0.000060  \n",
       "City                  0.000450       0.000363         0.000554  \n",
       "floor_level           0.000815      -0.000028         0.000044  "
      ]
     },
     "execution_count": 40,
     "metadata": {},
     "output_type": "execute_result"
    }
   ],
   "source": [
    "final_df"
   ]
  },
  {
   "cell_type": "markdown",
   "id": "13b0294b",
   "metadata": {},
   "source": [
    "## Normalization (Dividing each column by it's Column sum)"
   ]
  },
  {
   "cell_type": "code",
   "execution_count": 41,
   "id": "f84ef799",
   "metadata": {},
   "outputs": [
    {
     "data": {
      "text/html": [
       "<div>\n",
       "<style scoped>\n",
       "    .dataframe tbody tr th:only-of-type {\n",
       "        vertical-align: middle;\n",
       "    }\n",
       "\n",
       "    .dataframe tbody tr th {\n",
       "        vertical-align: top;\n",
       "    }\n",
       "\n",
       "    .dataframe thead th {\n",
       "        text-align: right;\n",
       "    }\n",
       "</style>\n",
       "<table border=\"1\" class=\"dataframe\">\n",
       "  <thead>\n",
       "    <tr style=\"text-align: right;\">\n",
       "      <th></th>\n",
       "      <th>Importance</th>\n",
       "      <th>RF_Importance</th>\n",
       "      <th>GB_Importance</th>\n",
       "      <th>lasso_Importance</th>\n",
       "      <th>RFE_Importance</th>\n",
       "      <th>PI_Importance</th>\n",
       "      <th>Shap_Importance</th>\n",
       "    </tr>\n",
       "    <tr>\n",
       "      <th>Features</th>\n",
       "      <th></th>\n",
       "      <th></th>\n",
       "      <th></th>\n",
       "      <th></th>\n",
       "      <th></th>\n",
       "      <th></th>\n",
       "      <th></th>\n",
       "    </tr>\n",
       "  </thead>\n",
       "  <tbody>\n",
       "    <tr>\n",
       "      <th>Price_per_sqft</th>\n",
       "      <td>0.243322</td>\n",
       "      <td>0.553417</td>\n",
       "      <td>0.504056</td>\n",
       "      <td>0.565440</td>\n",
       "      <td>0.553417</td>\n",
       "      <td>0.579026</td>\n",
       "      <td>0.562864</td>\n",
       "    </tr>\n",
       "    <tr>\n",
       "      <th>Floor_area</th>\n",
       "      <td>0.227074</td>\n",
       "      <td>0.429360</td>\n",
       "      <td>0.488555</td>\n",
       "      <td>0.429445</td>\n",
       "      <td>0.429360</td>\n",
       "      <td>0.412133</td>\n",
       "      <td>0.420415</td>\n",
       "    </tr>\n",
       "    <tr>\n",
       "      <th>location_area</th>\n",
       "      <td>0.204248</td>\n",
       "      <td>0.014159</td>\n",
       "      <td>0.006958</td>\n",
       "      <td>0.005115</td>\n",
       "      <td>0.014159</td>\n",
       "      <td>0.008185</td>\n",
       "      <td>0.003077</td>\n",
       "    </tr>\n",
       "    <tr>\n",
       "      <th>Bathrooms</th>\n",
       "      <td>0.151654</td>\n",
       "      <td>0.001082</td>\n",
       "      <td>0.000078</td>\n",
       "      <td>0.000000</td>\n",
       "      <td>0.001082</td>\n",
       "      <td>0.000340</td>\n",
       "      <td>0.002851</td>\n",
       "    </tr>\n",
       "    <tr>\n",
       "      <th>Bedrooms</th>\n",
       "      <td>0.136402</td>\n",
       "      <td>0.000474</td>\n",
       "      <td>0.000172</td>\n",
       "      <td>0.000000</td>\n",
       "      <td>0.000474</td>\n",
       "      <td>-0.000020</td>\n",
       "      <td>0.000642</td>\n",
       "    </tr>\n",
       "    <tr>\n",
       "      <th>Is_in_Dhaka</th>\n",
       "      <td>0.049808</td>\n",
       "      <td>0.000242</td>\n",
       "      <td>0.000023</td>\n",
       "      <td>0.000000</td>\n",
       "      <td>0.000242</td>\n",
       "      <td>-0.000187</td>\n",
       "      <td>0.000924</td>\n",
       "    </tr>\n",
       "    <tr>\n",
       "      <th>City</th>\n",
       "      <td>0.002234</td>\n",
       "      <td>0.000450</td>\n",
       "      <td>0.000112</td>\n",
       "      <td>0.000000</td>\n",
       "      <td>0.000450</td>\n",
       "      <td>0.000567</td>\n",
       "      <td>0.008551</td>\n",
       "    </tr>\n",
       "    <tr>\n",
       "      <th>floor_level</th>\n",
       "      <td>-0.014742</td>\n",
       "      <td>0.000815</td>\n",
       "      <td>0.000045</td>\n",
       "      <td>-0.000000</td>\n",
       "      <td>0.000815</td>\n",
       "      <td>-0.000044</td>\n",
       "      <td>0.000676</td>\n",
       "    </tr>\n",
       "  </tbody>\n",
       "</table>\n",
       "</div>"
      ],
      "text/plain": [
       "                Importance  RF_Importance  GB_Importance  lasso_Importance  \\\n",
       "Features                                                                     \n",
       "Price_per_sqft    0.243322       0.553417       0.504056          0.565440   \n",
       "Floor_area        0.227074       0.429360       0.488555          0.429445   \n",
       "location_area     0.204248       0.014159       0.006958          0.005115   \n",
       "Bathrooms         0.151654       0.001082       0.000078          0.000000   \n",
       "Bedrooms          0.136402       0.000474       0.000172          0.000000   \n",
       "Is_in_Dhaka       0.049808       0.000242       0.000023          0.000000   \n",
       "City              0.002234       0.000450       0.000112          0.000000   \n",
       "floor_level      -0.014742       0.000815       0.000045         -0.000000   \n",
       "\n",
       "                RFE_Importance  PI_Importance  Shap_Importance  \n",
       "Features                                                        \n",
       "Price_per_sqft        0.553417       0.579026         0.562864  \n",
       "Floor_area            0.429360       0.412133         0.420415  \n",
       "location_area         0.014159       0.008185         0.003077  \n",
       "Bathrooms             0.001082       0.000340         0.002851  \n",
       "Bedrooms              0.000474      -0.000020         0.000642  \n",
       "Is_in_Dhaka           0.000242      -0.000187         0.000924  \n",
       "City                  0.000450       0.000567         0.008551  \n",
       "floor_level           0.000815      -0.000044         0.000676  "
      ]
     },
     "execution_count": 41,
     "metadata": {},
     "output_type": "execute_result"
    }
   ],
   "source": [
    "final_df.divide(final_df.sum(axis=0),axis=1)"
   ]
  },
  {
   "cell_type": "code",
   "execution_count": 45,
   "id": "33a26fae",
   "metadata": {},
   "outputs": [
    {
     "data": {
      "text/html": [
       "<div>\n",
       "<style scoped>\n",
       "    .dataframe tbody tr th:only-of-type {\n",
       "        vertical-align: middle;\n",
       "    }\n",
       "\n",
       "    .dataframe tbody tr th {\n",
       "        vertical-align: top;\n",
       "    }\n",
       "\n",
       "    .dataframe thead th {\n",
       "        text-align: right;\n",
       "    }\n",
       "</style>\n",
       "<table border=\"1\" class=\"dataframe\">\n",
       "  <thead>\n",
       "    <tr style=\"text-align: right;\">\n",
       "      <th></th>\n",
       "      <th>Importance</th>\n",
       "    </tr>\n",
       "    <tr>\n",
       "      <th>Features</th>\n",
       "      <th></th>\n",
       "    </tr>\n",
       "  </thead>\n",
       "  <tbody>\n",
       "    <tr>\n",
       "      <th>Price_per_sqft</th>\n",
       "      <td>0.466694</td>\n",
       "    </tr>\n",
       "    <tr>\n",
       "      <th>Floor_area</th>\n",
       "      <td>0.391324</td>\n",
       "    </tr>\n",
       "    <tr>\n",
       "      <th>location_area</th>\n",
       "      <td>0.111541</td>\n",
       "    </tr>\n",
       "    <tr>\n",
       "      <th>Bathrooms</th>\n",
       "      <td>0.078522</td>\n",
       "    </tr>\n",
       "    <tr>\n",
       "      <th>Bedrooms</th>\n",
       "      <td>0.070449</td>\n",
       "    </tr>\n",
       "    <tr>\n",
       "      <th>Is_in_Dhaka</th>\n",
       "      <td>0.025729</td>\n",
       "    </tr>\n",
       "    <tr>\n",
       "      <th>City</th>\n",
       "      <td>0.001427</td>\n",
       "    </tr>\n",
       "    <tr>\n",
       "      <th>floor_level</th>\n",
       "      <td>-0.007355</td>\n",
       "    </tr>\n",
       "  </tbody>\n",
       "</table>\n",
       "</div>"
      ],
      "text/plain": [
       "                Importance\n",
       "Features                  \n",
       "Price_per_sqft    0.466694\n",
       "Floor_area        0.391324\n",
       "location_area     0.111541\n",
       "Bathrooms         0.078522\n",
       "Bedrooms          0.070449\n",
       "Is_in_Dhaka       0.025729\n",
       "City              0.001427\n",
       "floor_level      -0.007355"
      ]
     },
     "execution_count": 45,
     "metadata": {},
     "output_type": "execute_result"
    }
   ],
   "source": [
    "final_df.mean(axis=1).sort_values(ascending=False).to_frame('Importance')"
   ]
  },
  {
   "cell_type": "code",
   "execution_count": null,
   "id": "e6c56515",
   "metadata": {},
   "outputs": [
    {
     "data": {
      "text/plain": [
       "np.float64(-0.010179995030106071)"
      ]
     },
     "execution_count": 57,
     "metadata": {},
     "output_type": "execute_result"
    }
   ],
   "source": [
    "from sklearn.model_selection import cross_val_score,KFold\n",
    "\n",
    "cv_original = cross_val_score(estimator=rf,X=x_scaled,y=y,scoring='neg_mean_squared_error',cv=10)\n",
    "cv_original.mean()"
   ]
  },
  {
   "cell_type": "code",
   "execution_count": 56,
   "id": "0a1b60de",
   "metadata": {},
   "outputs": [
    {
     "data": {
      "text/plain": [
       "np.float64(-0.00986459507404096)"
      ]
     },
     "execution_count": 56,
     "metadata": {},
     "output_type": "execute_result"
    }
   ],
   "source": [
    "cv_after = cross_val_score(estimator=rf,X=x.drop(['Is_in_Dhaka','City','floor_level','Bedrooms','Bathrooms'],axis=1),\n",
    "                           y=y,scoring='neg_mean_squared_error',cv=10)\n",
    "cv_after.mean()"
   ]
  },
  {
   "cell_type": "markdown",
   "id": "0135ad63",
   "metadata": {},
   "source": [
    "Main Features are Price_per_sqft , Floor_area and location_area,  \n",
    "After removing other columns the cross validation MSE reached lowest at 0.0098"
   ]
  }
 ],
 "metadata": {
  "kernelspec": {
   "display_name": "Python 3",
   "language": "python",
   "name": "python3"
  },
  "language_info": {
   "codemirror_mode": {
    "name": "ipython",
    "version": 3
   },
   "file_extension": ".py",
   "mimetype": "text/x-python",
   "name": "python",
   "nbconvert_exporter": "python",
   "pygments_lexer": "ipython3",
   "version": "3.13.1"
  }
 },
 "nbformat": 4,
 "nbformat_minor": 5
}
